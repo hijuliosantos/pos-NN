{
  "nbformat": 4,
  "nbformat_minor": 0,
  "metadata": {
    "accelerator": "GPU",
    "colab": {
      "name": "TrabalhoFinalTorch.ipynb",
      "provenance": [],
      "collapsed_sections": [],
      "toc_visible": true,
      "authorship_tag": "ABX9TyPz5MmGTX9O22dujPXJ1wI0",
      "include_colab_link": true
    },
    "kernelspec": {
      "display_name": "Python 3",
      "name": "python3"
    },
    "language_info": {
      "name": "python"
    }
  },
  "cells": [
    {
      "cell_type": "markdown",
      "metadata": {
        "id": "view-in-github",
        "colab_type": "text"
      },
      "source": [
        "<a href=\"https://colab.research.google.com/github/hijuliosantos/pos-NN/blob/main/TrabalhoFinalTorch.ipynb\" target=\"_parent\"><img src=\"https://colab.research.google.com/assets/colab-badge.svg\" alt=\"Open In Colab\"/></a>"
      ]
    },
    {
      "cell_type": "markdown",
      "metadata": {
        "id": "Sl2rsRZG-xV_"
      },
      "source": [
        "Este trabalho tem como objetivo utilizar a biblioteca de aprendizado de máquina \"PyTorch\" com o objetivo de criar diferentes arquiteturas de redes neurais para a classificação de granulometria e compará-las. Para este trabalho, utilizou-se a base \"lithology.csv\" criada por um time de especialistas em litologia. \n",
        "\n",
        "A base contém 1.170.511 exemplos, 30 variáveis preditoras e uma variável a ser predita, contendo 12 classes granulométricas.\n",
        "\n",
        "\n",
        "\n",
        "\n",
        "\n"
      ]
    },
    {
      "cell_type": "markdown",
      "metadata": {
        "id": "qZRE_LF8DcWe"
      },
      "source": [
        "Inicialmente realizo a importação das bibliotecas necessárias para o desenvolvimento deste trabalho."
      ]
    },
    {
      "cell_type": "code",
      "metadata": {
        "id": "m0y5tkRfmsai"
      },
      "source": [
        "import pandas as pd\n",
        "import matplotlib.pyplot as plt\n",
        "import torch\n",
        "import torch.nn as nn\n",
        "import torch.optim as optim\n",
        "import torch.nn.functional as F\n",
        "import numpy as np\n",
        "\n",
        "from sklearn import preprocessing\n",
        "from sklearn.preprocessing import OneHotEncoder\n",
        "from sklearn.model_selection import train_test_split\n",
        "from sklearn.model_selection import StratifiedKFold\n",
        "from torch.utils.data import Dataset, DataLoader, WeightedRandomSampler"
      ],
      "execution_count": null,
      "outputs": []
    },
    {
      "cell_type": "markdown",
      "metadata": {
        "id": "0VXOTfT4DrfE"
      },
      "source": [
        "Os dados estão no google Drive, com isto, utilizo o seguinte código para utilizar o drive no colab."
      ]
    },
    {
      "cell_type": "code",
      "metadata": {
        "colab": {
          "base_uri": "https://localhost:8080/"
        },
        "id": "U5hKCqvOloee",
        "outputId": "35a334cd-4d1a-44c3-98ca-bc91644ab624"
      },
      "source": [
        "from google.colab import drive\n",
        "drive.mount('/content/drive')"
      ],
      "execution_count": null,
      "outputs": [
        {
          "output_type": "stream",
          "text": [
            "Mounted at /content/drive\n"
          ],
          "name": "stdout"
        }
      ]
    },
    {
      "cell_type": "code",
      "metadata": {
        "colab": {
          "base_uri": "https://localhost:8080/"
        },
        "id": "per9r8g3mYSL",
        "outputId": "38973288-f38f-4987-a4a1-3178624d4d21"
      },
      "source": [
        "%cd /content/drive/My Drive/datasets/"
      ],
      "execution_count": null,
      "outputs": [
        {
          "output_type": "stream",
          "text": [
            "/content/drive/My Drive/datasets\n"
          ],
          "name": "stdout"
        }
      ]
    },
    {
      "cell_type": "markdown",
      "metadata": {
        "id": "i4DPE6k4EUrF"
      },
      "source": [
        "Leitura dos dados através da biblioteca pandas."
      ]
    },
    {
      "cell_type": "code",
      "metadata": {
        "id": "oiIN0aBBmhTK",
        "colab": {
          "base_uri": "https://localhost:8080/"
        },
        "outputId": "a4f7d656-114d-446d-c72a-7ca08623f8fa"
      },
      "source": [
        "df = pd.read_csv('lithology.csv', delimiter=';')\n",
        "print('Shape da base', df.shape)"
      ],
      "execution_count": null,
      "outputs": [
        {
          "output_type": "stream",
          "text": [
            "Shape da base (1170511, 31)\n"
          ],
          "name": "stdout"
        }
      ]
    },
    {
      "cell_type": "markdown",
      "metadata": {
        "id": "RfSsXukpKABu"
      },
      "source": [
        "Faço uma pequena análise em alguns dados (etapas de pré-processamento já executadas)."
      ]
    },
    {
      "cell_type": "code",
      "metadata": {
        "colab": {
          "base_uri": "https://localhost:8080/",
          "height": 224
        },
        "id": "nlkAlHihmzXB",
        "outputId": "dfd332a2-df61-4e71-b092-5dd0a58c2f64"
      },
      "source": [
        "pd.set_option('display.max_columns', 31)\n",
        "df.head()"
      ],
      "execution_count": null,
      "outputs": [
        {
          "output_type": "execute_result",
          "data": {
            "text/html": [
              "<div>\n",
              "<style scoped>\n",
              "    .dataframe tbody tr th:only-of-type {\n",
              "        vertical-align: middle;\n",
              "    }\n",
              "\n",
              "    .dataframe tbody tr th {\n",
              "        vertical-align: top;\n",
              "    }\n",
              "\n",
              "    .dataframe thead th {\n",
              "        text-align: right;\n",
              "    }\n",
              "</style>\n",
              "<table border=\"1\" class=\"dataframe\">\n",
              "  <thead>\n",
              "    <tr style=\"text-align: right;\">\n",
              "      <th></th>\n",
              "      <th>DEPTH_MD</th>\n",
              "      <th>X_LOC</th>\n",
              "      <th>Y_LOC</th>\n",
              "      <th>Z_LOC</th>\n",
              "      <th>CALI</th>\n",
              "      <th>RSHA</th>\n",
              "      <th>RMED</th>\n",
              "      <th>RDEP</th>\n",
              "      <th>RHOB</th>\n",
              "      <th>GR</th>\n",
              "      <th>NPHI</th>\n",
              "      <th>PEF</th>\n",
              "      <th>DTC</th>\n",
              "      <th>SP</th>\n",
              "      <th>BS</th>\n",
              "      <th>ROP</th>\n",
              "      <th>DCAL</th>\n",
              "      <th>DRHO</th>\n",
              "      <th>MUDWEIGHT</th>\n",
              "      <th>RMIC</th>\n",
              "      <th>FORCE_2020_LITHOFACIES_LITHOLOGY</th>\n",
              "      <th>Carbon_Index</th>\n",
              "      <th>Normalized_RHOB</th>\n",
              "      <th>Normalized_GR</th>\n",
              "      <th>Delta_DTC</th>\n",
              "      <th>Delta_RHOB</th>\n",
              "      <th>Delta_GR</th>\n",
              "      <th>Delta_DEPTH_MD</th>\n",
              "      <th>Delta_Carbon_Index</th>\n",
              "      <th>GROUP_encoded</th>\n",
              "      <th>FORMATION_encoded</th>\n",
              "    </tr>\n",
              "  </thead>\n",
              "  <tbody>\n",
              "    <tr>\n",
              "      <th>0</th>\n",
              "      <td>494.528</td>\n",
              "      <td>437641.96875</td>\n",
              "      <td>6470972.5</td>\n",
              "      <td>-469.501831</td>\n",
              "      <td>19.480835</td>\n",
              "      <td>-999.0</td>\n",
              "      <td>1.611410</td>\n",
              "      <td>1.798681</td>\n",
              "      <td>1.884186</td>\n",
              "      <td>80.200851</td>\n",
              "      <td>-999.0</td>\n",
              "      <td>20.915468</td>\n",
              "      <td>161.131180</td>\n",
              "      <td>24.612379</td>\n",
              "      <td>17.5</td>\n",
              "      <td>34.636410</td>\n",
              "      <td>1.980835</td>\n",
              "      <td>-0.574928</td>\n",
              "      <td>-999.0</td>\n",
              "      <td>-999.0</td>\n",
              "      <td>65000.0</td>\n",
              "      <td>24.735691</td>\n",
              "      <td>0.314847</td>\n",
              "      <td>0.150172</td>\n",
              "      <td>-0.000000</td>\n",
              "      <td>-0.000000</td>\n",
              "      <td>-0.000000</td>\n",
              "      <td>0.000</td>\n",
              "      <td>0.000000</td>\n",
              "      <td>6</td>\n",
              "      <td>68</td>\n",
              "    </tr>\n",
              "    <tr>\n",
              "      <th>1</th>\n",
              "      <td>494.680</td>\n",
              "      <td>437641.96875</td>\n",
              "      <td>6470972.5</td>\n",
              "      <td>-469.653809</td>\n",
              "      <td>19.468800</td>\n",
              "      <td>-999.0</td>\n",
              "      <td>1.618070</td>\n",
              "      <td>1.795641</td>\n",
              "      <td>1.889794</td>\n",
              "      <td>79.262886</td>\n",
              "      <td>-999.0</td>\n",
              "      <td>19.383013</td>\n",
              "      <td>160.603470</td>\n",
              "      <td>23.895531</td>\n",
              "      <td>17.5</td>\n",
              "      <td>34.636410</td>\n",
              "      <td>1.968800</td>\n",
              "      <td>-0.570188</td>\n",
              "      <td>-999.0</td>\n",
              "      <td>-999.0</td>\n",
              "      <td>65000.0</td>\n",
              "      <td>24.492376</td>\n",
              "      <td>0.318528</td>\n",
              "      <td>0.148269</td>\n",
              "      <td>0.527710</td>\n",
              "      <td>-0.005608</td>\n",
              "      <td>0.937965</td>\n",
              "      <td>0.152</td>\n",
              "      <td>-0.243315</td>\n",
              "      <td>6</td>\n",
              "      <td>68</td>\n",
              "    </tr>\n",
              "    <tr>\n",
              "      <th>2</th>\n",
              "      <td>494.832</td>\n",
              "      <td>437641.96875</td>\n",
              "      <td>6470972.5</td>\n",
              "      <td>-469.805786</td>\n",
              "      <td>19.468800</td>\n",
              "      <td>-999.0</td>\n",
              "      <td>1.626459</td>\n",
              "      <td>1.800733</td>\n",
              "      <td>1.896523</td>\n",
              "      <td>74.821999</td>\n",
              "      <td>-999.0</td>\n",
              "      <td>22.591518</td>\n",
              "      <td>160.173615</td>\n",
              "      <td>23.916357</td>\n",
              "      <td>17.5</td>\n",
              "      <td>34.779556</td>\n",
              "      <td>1.968800</td>\n",
              "      <td>-0.574245</td>\n",
              "      <td>-999.0</td>\n",
              "      <td>-999.0</td>\n",
              "      <td>65000.0</td>\n",
              "      <td>24.202299</td>\n",
              "      <td>0.322946</td>\n",
              "      <td>0.139258</td>\n",
              "      <td>0.429855</td>\n",
              "      <td>-0.006729</td>\n",
              "      <td>4.440887</td>\n",
              "      <td>0.152</td>\n",
              "      <td>-0.290077</td>\n",
              "      <td>6</td>\n",
              "      <td>68</td>\n",
              "    </tr>\n",
              "    <tr>\n",
              "      <th>3</th>\n",
              "      <td>494.984</td>\n",
              "      <td>437641.96875</td>\n",
              "      <td>6470972.5</td>\n",
              "      <td>-469.957794</td>\n",
              "      <td>19.459282</td>\n",
              "      <td>-999.0</td>\n",
              "      <td>1.621594</td>\n",
              "      <td>1.801517</td>\n",
              "      <td>1.891913</td>\n",
              "      <td>72.878922</td>\n",
              "      <td>-999.0</td>\n",
              "      <td>32.191910</td>\n",
              "      <td>160.149429</td>\n",
              "      <td>23.793688</td>\n",
              "      <td>17.5</td>\n",
              "      <td>39.965164</td>\n",
              "      <td>1.959282</td>\n",
              "      <td>-0.586315</td>\n",
              "      <td>-999.0</td>\n",
              "      <td>-999.0</td>\n",
              "      <td>65000.0</td>\n",
              "      <td>24.400797</td>\n",
              "      <td>0.319919</td>\n",
              "      <td>0.135315</td>\n",
              "      <td>0.024185</td>\n",
              "      <td>0.004610</td>\n",
              "      <td>1.943077</td>\n",
              "      <td>0.152</td>\n",
              "      <td>0.198498</td>\n",
              "      <td>6</td>\n",
              "      <td>68</td>\n",
              "    </tr>\n",
              "    <tr>\n",
              "      <th>4</th>\n",
              "      <td>495.136</td>\n",
              "      <td>437641.96875</td>\n",
              "      <td>6470972.5</td>\n",
              "      <td>-470.109772</td>\n",
              "      <td>19.453100</td>\n",
              "      <td>-999.0</td>\n",
              "      <td>1.602679</td>\n",
              "      <td>1.795299</td>\n",
              "      <td>1.880034</td>\n",
              "      <td>71.729141</td>\n",
              "      <td>-999.0</td>\n",
              "      <td>38.495632</td>\n",
              "      <td>160.128342</td>\n",
              "      <td>24.104078</td>\n",
              "      <td>17.5</td>\n",
              "      <td>57.483765</td>\n",
              "      <td>1.953100</td>\n",
              "      <td>-0.597914</td>\n",
              "      <td>-999.0</td>\n",
              "      <td>-999.0</td>\n",
              "      <td>65000.0</td>\n",
              "      <td>24.916765</td>\n",
              "      <td>0.312121</td>\n",
              "      <td>0.132982</td>\n",
              "      <td>0.021088</td>\n",
              "      <td>0.011879</td>\n",
              "      <td>1.149780</td>\n",
              "      <td>0.152</td>\n",
              "      <td>0.515968</td>\n",
              "      <td>6</td>\n",
              "      <td>68</td>\n",
              "    </tr>\n",
              "  </tbody>\n",
              "</table>\n",
              "</div>"
            ],
            "text/plain": [
              "   DEPTH_MD         X_LOC      Y_LOC       Z_LOC       CALI   RSHA      RMED  \\\n",
              "0   494.528  437641.96875  6470972.5 -469.501831  19.480835 -999.0  1.611410   \n",
              "1   494.680  437641.96875  6470972.5 -469.653809  19.468800 -999.0  1.618070   \n",
              "2   494.832  437641.96875  6470972.5 -469.805786  19.468800 -999.0  1.626459   \n",
              "3   494.984  437641.96875  6470972.5 -469.957794  19.459282 -999.0  1.621594   \n",
              "4   495.136  437641.96875  6470972.5 -470.109772  19.453100 -999.0  1.602679   \n",
              "\n",
              "       RDEP      RHOB         GR   NPHI        PEF         DTC         SP  \\\n",
              "0  1.798681  1.884186  80.200851 -999.0  20.915468  161.131180  24.612379   \n",
              "1  1.795641  1.889794  79.262886 -999.0  19.383013  160.603470  23.895531   \n",
              "2  1.800733  1.896523  74.821999 -999.0  22.591518  160.173615  23.916357   \n",
              "3  1.801517  1.891913  72.878922 -999.0  32.191910  160.149429  23.793688   \n",
              "4  1.795299  1.880034  71.729141 -999.0  38.495632  160.128342  24.104078   \n",
              "\n",
              "     BS        ROP      DCAL      DRHO  MUDWEIGHT   RMIC  \\\n",
              "0  17.5  34.636410  1.980835 -0.574928     -999.0 -999.0   \n",
              "1  17.5  34.636410  1.968800 -0.570188     -999.0 -999.0   \n",
              "2  17.5  34.779556  1.968800 -0.574245     -999.0 -999.0   \n",
              "3  17.5  39.965164  1.959282 -0.586315     -999.0 -999.0   \n",
              "4  17.5  57.483765  1.953100 -0.597914     -999.0 -999.0   \n",
              "\n",
              "   FORCE_2020_LITHOFACIES_LITHOLOGY  Carbon_Index  Normalized_RHOB  \\\n",
              "0                           65000.0     24.735691         0.314847   \n",
              "1                           65000.0     24.492376         0.318528   \n",
              "2                           65000.0     24.202299         0.322946   \n",
              "3                           65000.0     24.400797         0.319919   \n",
              "4                           65000.0     24.916765         0.312121   \n",
              "\n",
              "   Normalized_GR  Delta_DTC  Delta_RHOB  Delta_GR  Delta_DEPTH_MD  \\\n",
              "0       0.150172  -0.000000   -0.000000 -0.000000           0.000   \n",
              "1       0.148269   0.527710   -0.005608  0.937965           0.152   \n",
              "2       0.139258   0.429855   -0.006729  4.440887           0.152   \n",
              "3       0.135315   0.024185    0.004610  1.943077           0.152   \n",
              "4       0.132982   0.021088    0.011879  1.149780           0.152   \n",
              "\n",
              "   Delta_Carbon_Index  GROUP_encoded  FORMATION_encoded  \n",
              "0            0.000000              6                 68  \n",
              "1           -0.243315              6                 68  \n",
              "2           -0.290077              6                 68  \n",
              "3            0.198498              6                 68  \n",
              "4            0.515968              6                 68  "
            ]
          },
          "metadata": {
            "tags": []
          },
          "execution_count": 5
        }
      ]
    },
    {
      "cell_type": "code",
      "metadata": {
        "colab": {
          "base_uri": "https://localhost:8080/"
        },
        "id": "8_mTLoYKm0kh",
        "outputId": "7d7ae266-fdd4-48d6-840e-742e866799ed"
      },
      "source": [
        "df.info()"
      ],
      "execution_count": null,
      "outputs": [
        {
          "output_type": "stream",
          "text": [
            "<class 'pandas.core.frame.DataFrame'>\n",
            "RangeIndex: 1170511 entries, 0 to 1170510\n",
            "Data columns (total 31 columns):\n",
            " #   Column                            Non-Null Count    Dtype  \n",
            "---  ------                            --------------    -----  \n",
            " 0   DEPTH_MD                          1170511 non-null  float64\n",
            " 1   X_LOC                             1170511 non-null  float64\n",
            " 2   Y_LOC                             1170511 non-null  float64\n",
            " 3   Z_LOC                             1170511 non-null  float64\n",
            " 4   CALI                              1170511 non-null  float64\n",
            " 5   RSHA                              1170511 non-null  float64\n",
            " 6   RMED                              1170511 non-null  float64\n",
            " 7   RDEP                              1170511 non-null  float64\n",
            " 8   RHOB                              1170511 non-null  float64\n",
            " 9   GR                                1170511 non-null  float64\n",
            " 10  NPHI                              1170511 non-null  float64\n",
            " 11  PEF                               1170511 non-null  float64\n",
            " 12  DTC                               1170511 non-null  float64\n",
            " 13  SP                                1170511 non-null  float64\n",
            " 14  BS                                1170511 non-null  float64\n",
            " 15  ROP                               1170511 non-null  float64\n",
            " 16  DCAL                              1170511 non-null  float64\n",
            " 17  DRHO                              1170511 non-null  float64\n",
            " 18  MUDWEIGHT                         1170511 non-null  float64\n",
            " 19  RMIC                              1170511 non-null  float64\n",
            " 20  FORCE_2020_LITHOFACIES_LITHOLOGY  1170511 non-null  float64\n",
            " 21  Carbon_Index                      1170511 non-null  float64\n",
            " 22  Normalized_RHOB                   1170511 non-null  float64\n",
            " 23  Normalized_GR                     1170511 non-null  float64\n",
            " 24  Delta_DTC                         1170511 non-null  float64\n",
            " 25  Delta_RHOB                        1170511 non-null  float64\n",
            " 26  Delta_GR                          1170511 non-null  float64\n",
            " 27  Delta_DEPTH_MD                    1170511 non-null  float64\n",
            " 28  Delta_Carbon_Index                1170511 non-null  float64\n",
            " 29  GROUP_encoded                     1170511 non-null  int64  \n",
            " 30  FORMATION_encoded                 1170511 non-null  int64  \n",
            "dtypes: float64(29), int64(2)\n",
            "memory usage: 276.8 MB\n"
          ],
          "name": "stdout"
        }
      ]
    },
    {
      "cell_type": "code",
      "metadata": {
        "colab": {
          "base_uri": "https://localhost:8080/"
        },
        "id": "e_W3eClGu5pE",
        "outputId": "2e5c214e-4442-4031-f865-16af900ebd3b"
      },
      "source": [
        "df['FORMATION_encoded'].value_counts()"
      ],
      "execution_count": null,
      "outputs": [
        {
          "output_type": "execute_result",
          "data": {
            "text/plain": [
              " 68    254998\n",
              " 37     94328\n",
              " 38     71080\n",
              " 24     65041\n",
              "-1      54632\n",
              "        ...  \n",
              " 6        235\n",
              " 30       177\n",
              " 17       171\n",
              " 19       118\n",
              " 13       105\n",
              "Name: FORMATION_encoded, Length: 70, dtype: int64"
            ]
          },
          "metadata": {
            "tags": []
          },
          "execution_count": 7
        }
      ]
    },
    {
      "cell_type": "code",
      "metadata": {
        "colab": {
          "base_uri": "https://localhost:8080/"
        },
        "id": "mseRLtWEu6VL",
        "outputId": "84f552cb-f911-47e2-e911-06f74d1a64d2"
      },
      "source": [
        "df['GROUP_encoded'].value_counts()"
      ],
      "execution_count": null,
      "outputs": [
        {
          "output_type": "execute_result",
          "data": {
            "text/plain": [
              "5     293155\n",
              "9     234028\n",
              "12    131999\n",
              "7     131944\n",
              "3     119085\n",
              "6     112768\n",
              "2      52320\n",
              "0      35823\n",
              "11     26116\n",
              "4      13913\n",
              "13     12238\n",
              "1       3125\n",
              "8       2792\n",
              "10      1205\n",
              "Name: GROUP_encoded, dtype: int64"
            ]
          },
          "metadata": {
            "tags": []
          },
          "execution_count": 8
        }
      ]
    },
    {
      "cell_type": "code",
      "metadata": {
        "colab": {
          "base_uri": "https://localhost:8080/"
        },
        "id": "fOYGRH_im2qy",
        "outputId": "cec98dd7-613d-4476-cdbd-888dd3141bb3"
      },
      "source": [
        "df['FORCE_2020_LITHOFACIES_LITHOLOGY'].value_counts()"
      ],
      "execution_count": null,
      "outputs": [
        {
          "output_type": "execute_result",
          "data": {
            "text/plain": [
              "65000.0    720803\n",
              "30000.0    168937\n",
              "65030.0    150455\n",
              "70000.0     56320\n",
              "80000.0     33329\n",
              "99000.0     15245\n",
              "70032.0     10513\n",
              "88000.0      8213\n",
              "90000.0      3820\n",
              "74000.0      1688\n",
              "86000.0      1085\n",
              "93000.0       103\n",
              "Name: FORCE_2020_LITHOFACIES_LITHOLOGY, dtype: int64"
            ]
          },
          "metadata": {
            "tags": []
          },
          "execution_count": 9
        }
      ]
    },
    {
      "cell_type": "markdown",
      "metadata": {
        "id": "AX7NvF10Kh9M"
      },
      "source": [
        "A partir da análise incial, irei padronizar a variável a ser predita \"FORCE_2020_LITHOFACIES_LITHOLOGY\" para valores de 0 até 11, devido aos seus valores originais estarem despadronizados. "
      ]
    },
    {
      "cell_type": "code",
      "metadata": {
        "colab": {
          "base_uri": "https://localhost:8080/"
        },
        "id": "daocp7o0nA-a",
        "outputId": "af6db4e4-0435-4fe7-ed9a-542477f4def5"
      },
      "source": [
        "lithology_dict = {30000: 1, 65030: 2, 65000: 0, 80000: 4, 74000: 9, 70000: 3, 70032: 6, \n",
        "                  88000: 7, 86000: 10, 99000: 5, 90000: 8, 93000: 11}\n",
        "\n",
        "def map_lithology(dict_lithology, row) -> str:\n",
        "    key = row['FORCE_2020_LITHOFACIES_LITHOLOGY']\n",
        "    return dict_lithology[key]\n",
        "\n",
        "df['LITHOLOGY_MAP'] = df.apply(lambda row: map_lithology(lithology_dict, row), axis=1)\n",
        "df['LITHOLOGY_MAP'].value_counts()"
      ],
      "execution_count": null,
      "outputs": [
        {
          "output_type": "execute_result",
          "data": {
            "text/plain": [
              "0     720803\n",
              "1     168937\n",
              "2     150455\n",
              "3      56320\n",
              "4      33329\n",
              "5      15245\n",
              "6      10513\n",
              "7       8213\n",
              "8       3820\n",
              "9       1688\n",
              "10      1085\n",
              "11       103\n",
              "Name: LITHOLOGY_MAP, dtype: int64"
            ]
          },
          "metadata": {
            "tags": []
          },
          "execution_count": 5
        }
      ]
    },
    {
      "cell_type": "code",
      "metadata": {
        "colab": {
          "base_uri": "https://localhost:8080/"
        },
        "id": "zvD-JCdsnDAC",
        "outputId": "28c93094-d69d-4045-cc25-9059f60be78f"
      },
      "source": [
        "df.columns"
      ],
      "execution_count": null,
      "outputs": [
        {
          "output_type": "execute_result",
          "data": {
            "text/plain": [
              "Index(['DEPTH_MD', 'X_LOC', 'Y_LOC', 'Z_LOC', 'CALI', 'RSHA', 'RMED', 'RDEP',\n",
              "       'RHOB', 'GR', 'NPHI', 'PEF', 'DTC', 'SP', 'BS', 'ROP', 'DCAL', 'DRHO',\n",
              "       'MUDWEIGHT', 'RMIC', 'FORCE_2020_LITHOFACIES_LITHOLOGY', 'Carbon_Index',\n",
              "       'Normalized_RHOB', 'Normalized_GR', 'Delta_DTC', 'Delta_RHOB',\n",
              "       'Delta_GR', 'Delta_DEPTH_MD', 'Delta_Carbon_Index', 'GROUP_encoded',\n",
              "       'FORMATION_encoded', 'LITHOLOGY_MAP'],\n",
              "      dtype='object')"
            ]
          },
          "metadata": {
            "tags": []
          },
          "execution_count": 11
        }
      ]
    },
    {
      "cell_type": "markdown",
      "metadata": {
        "id": "14elu0_4S7Ju"
      },
      "source": [
        "Configurações para reprodutibilidade"
      ]
    },
    {
      "cell_type": "code",
      "metadata": {
        "id": "Wza-cmzIRL1d"
      },
      "source": [
        "seed = 42\n",
        "torch.manual_seed(seed)\n",
        "np.random.seed(seed)\n",
        "#random.seed(seed) \n",
        "# for cuda\n",
        "torch.cuda.manual_seed_all(seed)\n",
        "torch.backends.cudnn.deterministic = True\n",
        "torch.backends.cudnn.benchmark = False\n",
        "torch.backends.cudnn.enabled = False"
      ],
      "execution_count": null,
      "outputs": []
    },
    {
      "cell_type": "markdown",
      "metadata": {
        "id": "an061aCsTNxE"
      },
      "source": [
        "Habilitar GPU cuda se disponível."
      ]
    },
    {
      "cell_type": "code",
      "metadata": {
        "colab": {
          "base_uri": "https://localhost:8080/"
        },
        "id": "-39-v-Eu1XHP",
        "outputId": "364f7280-6191-440d-f075-a88b9dd92af4"
      },
      "source": [
        "device = torch.device(\"cuda:0\" if torch.cuda.is_available() else \"cpu\")\n",
        "print(device)"
      ],
      "execution_count": null,
      "outputs": [
        {
          "output_type": "stream",
          "text": [
            "cpu\n"
          ],
          "name": "stdout"
        }
      ]
    },
    {
      "cell_type": "markdown",
      "metadata": {
        "id": "8w0VBte0TZvk"
      },
      "source": [
        "Divido o meu dataset em 80% treino e mantenho 20% para testes. Esses 20% de testes, divido metade para testes ea outra metade para validação. Com isto, obtenho 80% treino / 10% validação / 10% testes. Foi estratificada a varíavel a ser predita nos splits. "
      ]
    },
    {
      "cell_type": "code",
      "metadata": {
        "id": "WQNysSwFTZJs"
      },
      "source": [
        "X = df[['DEPTH_MD', 'X_LOC', 'Y_LOC', 'Z_LOC', 'CALI', 'RSHA', 'RMED', 'RDEP', 'RHOB', 'GR', 'NPHI', 'PEF', 'DTC', 'SP', 'BS', 'ROP', 'DCAL', 'DRHO', 'MUDWEIGHT', 'RMIC',\n",
        "        'Carbon_Index', 'Normalized_RHOB', 'Normalized_GR', 'Delta_DTC', 'Delta_RHOB', 'Delta_GR', 'Delta_DEPTH_MD', 'Delta_Carbon_Index', 'GROUP_encoded', 'FORMATION_encoded']]\n",
        "\n",
        "y = df['LITHOLOGY_MAP']\n",
        "\n",
        "# DIVIDIR DATASET EM 80/10/10\n",
        "X_train, X_temp, y_train, y_temp = train_test_split(X, y, test_size=0.2, stratify=y, random_state=seed, shuffle=True)\n",
        "X_test, X_val, y_test, y_val = train_test_split(X_temp, y_temp, test_size=0.5, stratify=y_temp, random_state=seed, shuffle=True)"
      ],
      "execution_count": null,
      "outputs": []
    },
    {
      "cell_type": "markdown",
      "metadata": {
        "id": "j9T46YMRUOhF"
      },
      "source": [
        "Realizo os ajustes nas variáveis preditoras. \n",
        "\n",
        "Para os valores numéricos irei utilizar MinMaxScaler e os valores categóricos irei utilizar OneHotEncoder."
      ]
    },
    {
      "cell_type": "code",
      "metadata": {
        "id": "7kcp6ZVMUfgd"
      },
      "source": [
        "# NORMALIZAR OS DADOS\n",
        "min_max_scaler = preprocessing.MinMaxScaler()\n",
        "\n",
        "X_train_mm = min_max_scaler.fit_transform(X_train[['DEPTH_MD', 'X_LOC', 'Y_LOC', 'Z_LOC', 'CALI', 'RSHA', 'RMED', 'RDEP',  'RHOB', 'GR', 'NPHI', 'PEF', 'DTC', 'SP', 'BS', 'ROP',\n",
        "        'DCAL', 'DRHO', 'MUDWEIGHT', 'RMIC', 'Carbon_Index', 'Normalized_RHOB', 'Normalized_GR', 'Delta_DTC', 'Delta_RHOB', 'Delta_GR', 'Delta_DEPTH_MD', 'Delta_Carbon_Index'\n",
        "        ]])\n",
        "\n",
        "X_test_mm = min_max_scaler.transform(X_test[['DEPTH_MD', 'X_LOC', 'Y_LOC', 'Z_LOC', 'CALI', 'RSHA', 'RMED', 'RDEP',  'RHOB', 'GR', 'NPHI', 'PEF', 'DTC', 'SP', 'BS', 'ROP',\n",
        "        'DCAL', 'DRHO', 'MUDWEIGHT', 'RMIC', 'Carbon_Index', 'Normalized_RHOB', 'Normalized_GR', 'Delta_DTC', 'Delta_RHOB', 'Delta_GR', 'Delta_DEPTH_MD', 'Delta_Carbon_Index'\n",
        "        ]])\n",
        "\n",
        "X_val_mm = min_max_scaler.transform(X_val[['DEPTH_MD', 'X_LOC', 'Y_LOC', 'Z_LOC', 'CALI', 'RSHA', 'RMED', 'RDEP',  'RHOB', 'GR', 'NPHI', 'PEF', 'DTC', 'SP', 'BS', 'ROP',\n",
        "        'DCAL', 'DRHO', 'MUDWEIGHT', 'RMIC', 'Carbon_Index', 'Normalized_RHOB', 'Normalized_GR', 'Delta_DTC', 'Delta_RHOB', 'Delta_GR', 'Delta_DEPTH_MD', 'Delta_Carbon_Index'\n",
        "        ]])\n",
        "\n",
        "ohe = OneHotEncoder(sparse=False, handle_unknown='ignore')\n",
        "X_train_ohe = ohe.fit_transform(X_train[['GROUP_encoded', 'FORMATION_encoded']])\n",
        "X_test_ohe = ohe.transform(X_test[['GROUP_encoded', 'FORMATION_encoded']])\n",
        "X_val_ohe = ohe.transform(X_val[['GROUP_encoded', 'FORMATION_encoded']])\n",
        "\n",
        "# GERAR O DATASET\n",
        "X_train = np.hstack([ X_train_mm, X_train_ohe])\n",
        "X_test = np.hstack([ X_test_mm, X_test_ohe])\n",
        "X_val = np.hstack([ X_val_mm, X_val_ohe])"
      ],
      "execution_count": null,
      "outputs": []
    },
    {
      "cell_type": "markdown",
      "metadata": {
        "id": "9FgRckjJVA8d"
      },
      "source": [
        "Organizo meus datasets de treino, teste e validação. Também realizo a conversão dos dados para tensor, afim de serem utilizados em modelos de redes neurais do pytorch."
      ]
    },
    {
      "cell_type": "code",
      "metadata": {
        "id": "kiAVFA3U8LCp"
      },
      "source": [
        "class ClassifierDataset (Dataset): \n",
        "    def __init__ (self, X_data, y_data): \n",
        "        self.X_data = X_data \n",
        "        self.y_data = y_data \n",
        "        \n",
        "    def __getitem__ (self, index): \n",
        "        return self.X_data [index], self.y_data [index] \n",
        "        \n",
        "    def __len__ (self): \n",
        "        return len (self.X_data) \n",
        "\n",
        "\n",
        "train_dataset = ClassifierDataset (torch.from_numpy (X_train) .float (), torch.from_numpy (y_train.to_numpy()) .long ())\n",
        "val_dataset = ClassifierDataset (torch.from_numpy (X_val) .float (), torch.from_numpy (y_val.to_numpy()) .long ())\n",
        "test_dataset = ClassifierDataset (torch.from_numpy (X_test) .float (), torch.from_numpy (y_test.to_numpy()) .long ())\n",
        "\n",
        "# tamanho da entrada (utilizado para a rede neural)\n",
        "NUM_FEATURES = X_train.shape[1]\n",
        "# quantidade de classes que posso obter (utilizado para a rede neural)\n",
        "NUM_CLASSES = len(y.value_counts())"
      ],
      "execution_count": null,
      "outputs": []
    },
    {
      "cell_type": "markdown",
      "metadata": {
        "id": "naVA6pmd-1f6"
      },
      "source": [
        "Método \"execute_test_model\" utilizado para executar o teste do modelo e exibir a acurácia após o treinamento e validação"
      ]
    },
    {
      "cell_type": "code",
      "metadata": {
        "id": "RaePLuGdNmIi"
      },
      "source": [
        "def execute_test_model(model: nn.Sequential, test_loader: DataLoader) -> None:\n",
        "  acc_test = 0.00\n",
        "  test_accuracy_general = []\n",
        "  #desativa calculo do gradiente (para modo evaluation) \n",
        "  with torch.no_grad():\n",
        "    \n",
        "    model.eval() #ativa modo evaluation\n",
        "    for i, (data_test, labels_test) in enumerate(test_loader):\n",
        "        data_test, labels_test = data_test.to(device), labels_test.to(device)\n",
        "        y_pred_test = model(data_test)\n",
        "                  \n",
        "        classes_test = torch.argmax(y_pred_test, dim=1)\n",
        "        acc_test += torch.mean((classes_test == labels_test).float())\n",
        "        test_accuracy_general.append(acc_test/len(test_loader))\n",
        "        \n",
        "  print(\"Acurácia de teste: {:.2f}%\".format(acc_test/len(test_loader) * 100))"
      ],
      "execution_count": null,
      "outputs": []
    },
    {
      "cell_type": "code",
      "metadata": {
        "id": "OklonBdWSeUb"
      },
      "source": [
        "def plot_loss_acc(train_losses_general: list, val_losses_general: list, train_accuracy_general: list, val_accuracy_general: list) -> None:\n",
        "  fig, axes = plt.subplots(nrows=1, ncols=2, figsize=(12, 6))\n",
        "  axes[0].plot(train_losses_general, label='Training loss')\n",
        "  axes[0].plot(val_losses_general, label='Validation loss')\n",
        "  axes[0].legend(frameon=False)\n",
        "\n",
        "  axes[1].plot(train_accuracy_general, label='Training acc')\n",
        "  axes[1].plot(val_accuracy_general, label='Validation acc')\n",
        "  axes[1].legend(frameon=False)\n",
        "  plt.show()"
      ],
      "execution_count": null,
      "outputs": []
    },
    {
      "cell_type": "markdown",
      "metadata": {
        "id": "tEvfJzE9TvmZ"
      },
      "source": [
        "Método \"execute_model\" responsável por executar o modelo. Ele recebe um modelo pytorch e um dicionário contendo parâmetros para a execução desse modelo.\n",
        "\n",
        "Execução:\n",
        "\n",
        "1.   Inicialmente os dados são preparados para utilizarem BATCH\n",
        "2.   Impresssão dos shapes dos dataset de treino, validação e teste\n",
        "3.   Criada a função de perda passada através do dict\n",
        "4.   Criada a função de otimização passada através do dict\n",
        "5.   Transferência do modelo para GPU se houver. Impressão da arquitetura do modelo\n",
        "6.   Realizado um loop na quantidade de épocas passadas través do dict\n",
        "7.   Para cada época, é realizado o treinamento do modelo, calculada a loss e acurácia. Também é realizada a validação com os 10% da base (o treinamento é desativado para a validação)\n",
        "8. Ao final do treinamento, são impressos dois gráficos apresentando a evolução da loss e acurácia por época\n",
        "9. Finalizando o método, é realizada a predição do modelo gerado com a base de testes (10%). São impressas as acurácias de todos os datasets: treino, validação e teste. A acurácia é utilizada para a avaliação do modelo.\n",
        "\n"
      ]
    },
    {
      "cell_type": "code",
      "metadata": {
        "id": "KCDvLYJ4_kyg"
      },
      "source": [
        "def execute_model(model: nn.Sequential, dict_params: dict) -> None:\n",
        "  # Crio o loader para aplicar batches nos datasets\n",
        "  train_loader = DataLoader(dataset=train_dataset, batch_size=dict_params['BATCH_SIZE'], shuffle=False)\n",
        "  val_loader = DataLoader(dataset=val_dataset, batch_size=dict_params['BATCH_SIZE'], shuffle=False)\n",
        "  test_loader = DataLoader(dataset=test_dataset, batch_size=dict_params['BATCH_SIZE'], shuffle=False)\n",
        "\n",
        "  # Imprimo o shape dos datasets para conferir se os dados estão distribuídos corretamente\n",
        "  print('Shape X_train', X_train.shape)\n",
        "  print('Shape y_train', y_train.shape)\n",
        "  print('Shape X_val', X_val.shape)\n",
        "  print('Shape y_val', y_val.shape)\n",
        "  print('Shape X_test', X_test.shape)\n",
        "  print('Shape y_test', y_test.shape)\n",
        "  print('Len DF original', len(df))\n",
        "  print('Len train + val + test', len(X_train) + len(X_val) + len(X_test))\n",
        "\n",
        "  # Crio a função de perda e o otimizador com base no que foi passado pelo dict\n",
        "  criterion = dict_params['CRITERION']\n",
        "  optimizer = None\n",
        "  if dict_params['OPTIMIZER'] == 'ADAM':\n",
        "    optimizer = optim.Adam(model.parameters(), lr=dict_params['LEARNING_RATE']) #weight_decay=0.03\n",
        "  elif dict_params['OPTIMIZER'] == 'SGD': \n",
        "    optimizer = torch.optim.SGD(model.parameters(), lr=dict_params['LEARNING_RATE'])\n",
        "\n",
        "  #  Transfiro o modelo para cpu ou gpu e imprimo ele\n",
        "  model.to(device)\n",
        "  print(model)\n",
        "\n",
        "  # Percorrer a quantidade de épocas passadas pelo dict\n",
        "  train_losses_general, val_losses_general, train_accuracy_general, val_accuracy_general = [], [], [], []\n",
        "  for e in range(dict_params['EPOCHS']):\n",
        "      train_loss, acc_train = 0.00, 0.00     \n",
        "\n",
        "      # Percorre os batches de treino, faz a predição, calcula a loss e a acurácia\n",
        "      for data, labels, in train_loader:\n",
        "          data, labels = data.to(device), labels.to(device)\n",
        "          #forward propagation\n",
        "          y_train_pred = model(data)\n",
        "          loss = criterion(y_train_pred, labels)\n",
        "\n",
        "          #zera o gradiente do otimizador\n",
        "          optimizer.zero_grad()\n",
        "          \n",
        "          #backpropagation\n",
        "          loss.backward()\n",
        "          optimizer.step()\n",
        "\n",
        "          train_loss += loss.item()\n",
        "\n",
        "          classes = torch.argmax(y_train_pred, dim=1)\n",
        "          acc_train += torch.mean((classes == labels).float())\n",
        "        \n",
        "      \n",
        "      # IMPORTANTE: é necessário desativar o cálculo de gradiente, pois, o modelo não pode considerar os dados de validação\n",
        "      val_loss, acc_val = 0.00, 0.00\n",
        "      with torch.no_grad(): #desativa calculo do gradiente (para modo evaluation) \n",
        "        model.eval() #ativa modo evaluation\n",
        "        \n",
        "        # Percorre os batches de validação, faz a predição, calcula a loss e a acurácia. \n",
        "        for data_val, labels_val in val_loader:\n",
        "          data_val, labels_val = data_val.to(device), labels_val.to(device)\n",
        "          y_val_pred = model(data_val)\n",
        "          val_loss += criterion(y_val_pred, labels_val)\n",
        "                  \n",
        "          classes_val = torch.argmax(y_val_pred, dim=1)\n",
        "          acc_val += torch.mean((classes_val == labels_val).float())\n",
        "          \n",
        "      # Acumula as métricas para posterior impressão de gráficos\n",
        "      train_losses_general.append(train_loss/len(train_loader))\n",
        "      val_losses_general.append(val_loss/len(val_loader))\n",
        "      train_accuracy_general.append(acc_train/len(train_loader))\n",
        "      val_accuracy_general.append(acc_val/len(val_loader))\n",
        "\n",
        "      # Impressão da época/loss/acc de treino e validação\n",
        "      print(\"Epoch: {}/{}.. \".format(e+1,dict_params['EPOCHS']),\n",
        "                  \"Train Loss: {:.4f}.. \".format(train_loss/len(train_loader)),\n",
        "                  \"Val Loss: {:.4f}.. \".format(val_loss/len(val_loader)),\n",
        "                  \"Train Acc: {:.4f}.. \".format(acc_train/len(train_loader)),\n",
        "                  \"Val Acc: {:.4f}.. \".format(acc_val/len(val_loader)))\n",
        "\n",
        "      #ativa o modo de treino novamente após desativa-lo para validação\n",
        "      model.train()\n",
        "\n",
        "  # Impressão da loss/acc por época nos treinos e validações\n",
        "  plot_loss_acc(train_losses_general, val_losses_general, train_accuracy_general, val_accuracy_general)\n",
        "\n",
        "  # Executo o teste do modelo e imprimo a relação de acurácias\n",
        "  execute_test_model(model, test_loader)\n",
        "  print(\"Acurácia de treinamento: {:.2f}%\".format(acc_train/len(train_loader) * 100))\n",
        "  print(\"Acurácia de validação: {:.2f}%\".format(acc_val/len(val_loader) * 100))"
      ],
      "execution_count": null,
      "outputs": []
    },
    {
      "cell_type": "markdown",
      "metadata": {
        "id": "0oR-p8fXt7yr"
      },
      "source": [
        "# **Abaixo serão realizados os experimentos**"
      ]
    },
    {
      "cell_type": "markdown",
      "metadata": {
        "id": "WK31EunpEk8L"
      },
      "source": [
        "PRIMEIRO MODELO: Rede neural com:\n",
        "\n",
        "\n",
        "*   Camada de entrada com 128 neurônios\n",
        "*   Função de ativação ReLU\n",
        "*   Camada de saída\n",
        "\n",
        "Utilizarei 10 épocas, batch size de 512, LR de 0.05, função de otimização SGD e perda CrossEntropyLoss"
      ]
    },
    {
      "cell_type": "code",
      "metadata": {
        "colab": {
          "base_uri": "https://localhost:8080/",
          "height": 816
        },
        "id": "fpGWQb3eNvGY",
        "outputId": "d53145eb-cd82-4fa3-e9e8-3f0491a5557d"
      },
      "source": [
        "params = dict()\n",
        "params['EPOCHS'] = 10\n",
        "params['BATCH_SIZE'] = 512\n",
        "params['LEARNING_RATE'] = 0.05\n",
        "params['CRITERION'] = nn.CrossEntropyLoss()\n",
        "params['OPTIMIZER'] = 'SGD'\n",
        "\n",
        "model = nn.Sequential(\n",
        "          nn.Linear(NUM_FEATURES, 128),\n",
        "          nn.ReLU(),\n",
        "          nn.Linear(128, NUM_CLASSES)\n",
        "        )\n",
        "\n",
        "execute_model(model, params)"
      ],
      "execution_count": null,
      "outputs": [
        {
          "output_type": "stream",
          "text": [
            "Shape X_train (936408, 112)\n",
            "Shape y_train (936408,)\n",
            "Shape X_val (117052, 112)\n",
            "Shape y_val (117052,)\n",
            "Shape X_test (117051, 112)\n",
            "Shape y_test (117051,)\n",
            "Len DF original 1170511\n",
            "Len train + val + test 1170511\n",
            "Sequential(\n",
            "  (0): Linear(in_features=112, out_features=128, bias=True)\n",
            "  (1): ReLU()\n",
            "  (2): Linear(in_features=128, out_features=12, bias=True)\n",
            ")\n",
            "Epoch: 1/10..  Train Loss: 0.9874..  Val Loss: 0.8260..  Train Acc: 0.6659..  Val Acc: 0.7120.. \n",
            "Epoch: 2/10..  Train Loss: 0.7894..  Val Loss: 0.7634..  Train Acc: 0.7247..  Val Acc: 0.7333.. \n",
            "Epoch: 3/10..  Train Loss: 0.7502..  Val Loss: 0.7343..  Train Acc: 0.7365..  Val Acc: 0.7380.. \n",
            "Epoch: 4/10..  Train Loss: 0.7249..  Val Loss: 0.7107..  Train Acc: 0.7430..  Val Acc: 0.7472.. \n",
            "Epoch: 5/10..  Train Loss: 0.7046..  Val Loss: 0.6872..  Train Acc: 0.7509..  Val Acc: 0.7580.. \n",
            "Epoch: 6/10..  Train Loss: 0.6913..  Val Loss: 0.6681..  Train Acc: 0.7566..  Val Acc: 0.7674.. \n",
            "Epoch: 7/10..  Train Loss: 0.6784..  Val Loss: 0.6529..  Train Acc: 0.7626..  Val Acc: 0.7743.. \n",
            "Epoch: 8/10..  Train Loss: 0.6649..  Val Loss: 0.6395..  Train Acc: 0.7687..  Val Acc: 0.7794.. \n",
            "Epoch: 9/10..  Train Loss: 0.6519..  Val Loss: 0.6271..  Train Acc: 0.7743..  Val Acc: 0.7838.. \n",
            "Epoch: 10/10..  Train Loss: 0.6404..  Val Loss: 0.6157..  Train Acc: 0.7796..  Val Acc: 0.7896.. \n"
          ],
          "name": "stdout"
        },
        {
          "output_type": "display_data",
          "data": {
            "image/png": "[encoded data removed]",
            "text/plain": [
              "<Figure size 864x432 with 2 Axes>"
            ]
          },
          "metadata": {
            "tags": [],
            "needs_background": "light"
          }
        },
        {
          "output_type": "stream",
          "text": [
            "Acurácia de teste: 79.02%\n",
            "Acurácia de treinamento: 77.96%\n",
            "Acurácia de validação: 78.96%\n"
          ],
          "name": "stdout"
        }
      ]
    },
    {
      "cell_type": "markdown",
      "metadata": {
        "id": "Gaf3pq4JqXzi"
      },
      "source": [
        "# Análise do resultado do primeiro modelo\n",
        "\n",
        "\n",
        "\n",
        "Com base nos gráficos, podemos ver que a loss foi diminuindo e a acurácia foi aumentado conforme passos das épocas. Não apresenta overfitting ou underfitting. Poderá ser aumentada as épocas e até tentar outros experimentos com mais camadas e neurônios.\n",
        "\n",
        "Olhando para a acurácia e até mesmo para a loss no gráfico, podemos notar que a validação está um pouquinho melhor que o treino. Isso poderia acontecer caso não houvesse a desabilitação do treinamento no pytorch, mas não é o caso. Para tentar adequar os valores, tentarei diminuir o tamanho do batch (como o dataset de validação é menor e os dados estão se ajustando bem, diminuir o batch fará utilizar mais registros) ou ajustar a learning rate.\n",
        "\n",
        "\n",
        "---\n",
        "\n"
      ]
    },
    {
      "cell_type": "markdown",
      "metadata": {
        "id": "Bv_ZLHDBtQb6"
      },
      "source": [
        "Segundo modelo: Rede neural com:\n",
        "\n",
        "\n",
        "*   Camada de entrada com 128 neurônios\n",
        "*   Função de ativação ReLU\n",
        "*   Camada de saída\n",
        "\n",
        "Utilizarei 50 épocas, batch size de 64, LR de 0.05, função de otimização SGD e perda CrossEntropyLoss"
      ]
    },
    {
      "cell_type": "code",
      "metadata": {
        "colab": {
          "base_uri": "https://localhost:8080/",
          "height": 1000
        },
        "id": "eR2yi7YJTgo5",
        "outputId": "ad4def32-9c9c-4671-c017-0b99de0f5530"
      },
      "source": [
        "params1 = dict()\n",
        "params1['EPOCHS'] = 50\n",
        "params1['BATCH_SIZE'] = 64 \n",
        "params1['LEARNING_RATE'] = 0.05\n",
        "params1['CRITERION'] = nn.CrossEntropyLoss()\n",
        "params1['OPTIMIZER'] = 'SGD'\n",
        "\n",
        "model1 = nn.Sequential(\n",
        "          nn.Linear(NUM_FEATURES, 128),\n",
        "          nn.ReLU(),\n",
        "          nn.Linear(128, NUM_CLASSES)\n",
        "        )\n",
        "\n",
        "execute_model(model1, params1)"
      ],
      "execution_count": null,
      "outputs": [
        {
          "output_type": "stream",
          "text": [
            "Shape X_train (936408, 112)\n",
            "Shape y_train (936408,)\n",
            "Shape X_val (117052, 112)\n",
            "Shape y_val (117052,)\n",
            "Shape X_test (117051, 112)\n",
            "Shape y_test (117051,)\n",
            "Len DF original 1170511\n",
            "Len train + val + test 1170511\n",
            "Sequential(\n",
            "  (0): Linear(in_features=112, out_features=128, bias=True)\n",
            "  (1): ReLU()\n",
            "  (2): Linear(in_features=128, out_features=12, bias=True)\n",
            ")\n",
            "Epoch: 1/50..  Train Loss: 0.7578..  Val Loss: 0.7933..  Train Acc: 0.7341..  Val Acc: 0.7145.. \n",
            "Epoch: 2/50..  Train Loss: 0.6201..  Val Loss: 0.7599..  Train Acc: 0.7872..  Val Acc: 0.7344.. \n",
            "Epoch: 3/50..  Train Loss: 0.5674..  Val Loss: 0.6886..  Train Acc: 0.8087..  Val Acc: 0.7594.. \n",
            "Epoch: 4/50..  Train Loss: 0.5362..  Val Loss: 0.6355..  Train Acc: 0.8202..  Val Acc: 0.7771.. \n",
            "Epoch: 5/50..  Train Loss: 0.5139..  Val Loss: 0.6062..  Train Acc: 0.8274..  Val Acc: 0.7880.. \n",
            "Epoch: 6/50..  Train Loss: 0.4966..  Val Loss: 0.5670..  Train Acc: 0.8332..  Val Acc: 0.8042.. \n",
            "Epoch: 7/50..  Train Loss: 0.4833..  Val Loss: 0.5407..  Train Acc: 0.8377..  Val Acc: 0.8145.. \n",
            "Epoch: 8/50..  Train Loss: 0.4724..  Val Loss: 0.5268..  Train Acc: 0.8413..  Val Acc: 0.8194.. \n",
            "Epoch: 9/50..  Train Loss: 0.4632..  Val Loss: 0.5195..  Train Acc: 0.8442..  Val Acc: 0.8220.. \n",
            "Epoch: 10/50..  Train Loss: 0.4555..  Val Loss: 0.5150..  Train Acc: 0.8466..  Val Acc: 0.8234.. \n",
            "Epoch: 11/50..  Train Loss: 0.4488..  Val Loss: 0.5108..  Train Acc: 0.8487..  Val Acc: 0.8256.. \n",
            "Epoch: 12/50..  Train Loss: 0.4428..  Val Loss: 0.5023..  Train Acc: 0.8506..  Val Acc: 0.8281.. \n",
            "Epoch: 13/50..  Train Loss: 0.4376..  Val Loss: 0.4969..  Train Acc: 0.8522..  Val Acc: 0.8298.. \n",
            "Epoch: 14/50..  Train Loss: 0.4330..  Val Loss: 0.4888..  Train Acc: 0.8537..  Val Acc: 0.8327.. \n",
            "Epoch: 15/50..  Train Loss: 0.4288..  Val Loss: 0.4832..  Train Acc: 0.8550..  Val Acc: 0.8349.. \n",
            "Epoch: 16/50..  Train Loss: 0.4250..  Val Loss: 0.4834..  Train Acc: 0.8563..  Val Acc: 0.8351.. \n",
            "Epoch: 17/50..  Train Loss: 0.4213..  Val Loss: 0.4777..  Train Acc: 0.8576..  Val Acc: 0.8373.. \n",
            "Epoch: 18/50..  Train Loss: 0.4180..  Val Loss: 0.4796..  Train Acc: 0.8585..  Val Acc: 0.8362.. \n",
            "Epoch: 19/50..  Train Loss: 0.4149..  Val Loss: 0.4783..  Train Acc: 0.8596..  Val Acc: 0.8367.. \n",
            "Epoch: 20/50..  Train Loss: 0.4121..  Val Loss: 0.4717..  Train Acc: 0.8604..  Val Acc: 0.8386.. \n",
            "Epoch: 21/50..  Train Loss: 0.4095..  Val Loss: 0.4714..  Train Acc: 0.8613..  Val Acc: 0.8385.. \n",
            "Epoch: 22/50..  Train Loss: 0.4071..  Val Loss: 0.4688..  Train Acc: 0.8620..  Val Acc: 0.8394.. \n",
            "Epoch: 23/50..  Train Loss: 0.4048..  Val Loss: 0.4674..  Train Acc: 0.8627..  Val Acc: 0.8397.. \n",
            "Epoch: 24/50..  Train Loss: 0.4027..  Val Loss: 0.4647..  Train Acc: 0.8634..  Val Acc: 0.8404.. \n",
            "Epoch: 25/50..  Train Loss: 0.4006..  Val Loss: 0.4623..  Train Acc: 0.8640..  Val Acc: 0.8411.. \n",
            "Epoch: 26/50..  Train Loss: 0.3986..  Val Loss: 0.4599..  Train Acc: 0.8645..  Val Acc: 0.8420.. \n",
            "Epoch: 27/50..  Train Loss: 0.3967..  Val Loss: 0.4599..  Train Acc: 0.8651..  Val Acc: 0.8421.. \n",
            "Epoch: 28/50..  Train Loss: 0.3948..  Val Loss: 0.4562..  Train Acc: 0.8655..  Val Acc: 0.8430.. \n",
            "Epoch: 29/50..  Train Loss: 0.3930..  Val Loss: 0.4565..  Train Acc: 0.8661..  Val Acc: 0.8431.. \n",
            "Epoch: 30/50..  Train Loss: 0.3912..  Val Loss: 0.4653..  Train Acc: 0.8667..  Val Acc: 0.8401.. \n",
            "Epoch: 31/50..  Train Loss: 0.3894..  Val Loss: 0.4624..  Train Acc: 0.8672..  Val Acc: 0.8416.. \n",
            "Epoch: 32/50..  Train Loss: 0.3878..  Val Loss: 0.4644..  Train Acc: 0.8678..  Val Acc: 0.8403.. \n",
            "Epoch: 33/50..  Train Loss: 0.3863..  Val Loss: 0.4581..  Train Acc: 0.8682..  Val Acc: 0.8423.. \n",
            "Epoch: 34/50..  Train Loss: 0.3847..  Val Loss: 0.4540..  Train Acc: 0.8687..  Val Acc: 0.8436.. \n",
            "Epoch: 35/50..  Train Loss: 0.3833..  Val Loss: 0.4533..  Train Acc: 0.8690..  Val Acc: 0.8437.. \n",
            "Epoch: 36/50..  Train Loss: 0.3820..  Val Loss: 0.4513..  Train Acc: 0.8694..  Val Acc: 0.8443.. \n",
            "Epoch: 37/50..  Train Loss: 0.3807..  Val Loss: 0.4444..  Train Acc: 0.8698..  Val Acc: 0.8465.. \n",
            "Epoch: 38/50..  Train Loss: 0.3794..  Val Loss: 0.4449..  Train Acc: 0.8701..  Val Acc: 0.8460.. \n",
            "Epoch: 39/50..  Train Loss: 0.3782..  Val Loss: 0.4409..  Train Acc: 0.8704..  Val Acc: 0.8472.. \n",
            "Epoch: 40/50..  Train Loss: 0.3770..  Val Loss: 0.4380..  Train Acc: 0.8708..  Val Acc: 0.8484.. \n",
            "Epoch: 41/50..  Train Loss: 0.3759..  Val Loss: 0.4370..  Train Acc: 0.8711..  Val Acc: 0.8490.. \n",
            "Epoch: 42/50..  Train Loss: 0.3748..  Val Loss: 0.4378..  Train Acc: 0.8714..  Val Acc: 0.8489.. \n",
            "Epoch: 43/50..  Train Loss: 0.3737..  Val Loss: 0.4353..  Train Acc: 0.8717..  Val Acc: 0.8491.. \n",
            "Epoch: 44/50..  Train Loss: 0.3725..  Val Loss: 0.4328..  Train Acc: 0.8721..  Val Acc: 0.8504.. \n",
            "Epoch: 45/50..  Train Loss: 0.3714..  Val Loss: 0.4340..  Train Acc: 0.8722..  Val Acc: 0.8502.. \n",
            "Epoch: 46/50..  Train Loss: 0.3704..  Val Loss: 0.4298..  Train Acc: 0.8726..  Val Acc: 0.8515.. \n",
            "Epoch: 47/50..  Train Loss: 0.3694..  Val Loss: 0.4286..  Train Acc: 0.8729..  Val Acc: 0.8517.. \n",
            "Epoch: 48/50..  Train Loss: 0.3684..  Val Loss: 0.4252..  Train Acc: 0.8733..  Val Acc: 0.8527.. \n",
            "Epoch: 49/50..  Train Loss: 0.3674..  Val Loss: 0.4257..  Train Acc: 0.8735..  Val Acc: 0.8525.. \n",
            "Epoch: 50/50..  Train Loss: 0.3665..  Val Loss: 0.4249..  Train Acc: 0.8737..  Val Acc: 0.8530.. \n"
          ],
          "name": "stdout"
        },
        {
          "output_type": "display_data",
          "data": {
            "image/png": "[encoded data removed]",
            "text/plain": [
              "<Figure size 864x432 with 2 Axes>"
            ]
          },
          "metadata": {
            "tags": [],
            "needs_background": "light"
          }
        },
        {
          "output_type": "stream",
          "text": [
            "Acurácia de teste: 85.35%\n",
            "Acurácia de treinamento: 87.37%\n",
            "Acurácia de validação: 85.30%\n"
          ],
          "name": "stdout"
        }
      ]
    },
    {
      "cell_type": "code",
      "metadata": {
        "id": "hiZsl3HHhnJ6"
      },
      "source": [
        ""
      ],
      "execution_count": null,
      "outputs": []
    },
    {
      "cell_type": "markdown",
      "metadata": {
        "id": "LVt0-aYJhnaA"
      },
      "source": [
        "# Análise do resultado do terceiro modelo\n",
        "\n",
        "A acurácia no treino, teste e validação foram altas, com apenas 2% de variação para baixo do treino para teste/validação. Não há overfitting ou underfitting. \n",
        "O resultado ficou bem semelhante ao modelo anterior, porém, com menos ruído entre treino e validação. Utilizarei este modelo para realizar as predições do dataset hidden.\n",
        "Avaliando as épocas, as mesmas poderiam ser aumentadas, aumentado os neurônios e adicionadar uma camada escondida.\n",
        "\n",
        "\n",
        "\n",
        "---\n"
      ]
    },
    {
      "cell_type": "markdown",
      "metadata": {
        "id": "udiiOlkJ5btP"
      },
      "source": [
        "# Análise do resultado do segundo modelo\n",
        "\n",
        "\n",
        "Com a diminuição do BATCH SIZE, os resultados se apresentaram melhores distribuíddamente. A acurácia no treino, teste e validação foram altas, com apenas 2% de variação para baixo do treino para teste/validação. No próximo experimento, irei aumentar as épocas, aumentar o neurônio e adicionar uma camada intermediaria.\n",
        "\n",
        "\n",
        "---\n",
        "\n"
      ]
    },
    {
      "cell_type": "markdown",
      "metadata": {
        "id": "5oJgv-GK6k_-"
      },
      "source": [
        "Terceiro modelo: Rede neural com:\n",
        "\n",
        "\n",
        "*   Camada de entrada com 128 neurônios\n",
        "*   Função de ativação ReLU\n",
        "*   Camada de saída\n",
        "\n",
        "Utilizarei 50 épocas, batch size de 64, LR de 0.05, função de otimização SGD e perda CrossEntropyLoss"
      ]
    },
    {
      "cell_type": "code",
      "metadata": {
        "colab": {
          "base_uri": "https://localhost:8080/",
          "height": 1000
        },
        "id": "UP5E7MYAyGt5",
        "outputId": "5500c039-d475-48f4-b11b-3cde61126e66"
      },
      "source": [
        "params2 = dict()\n",
        "params2['EPOCHS'] = 150\n",
        "params2['BATCH_SIZE'] = 64\n",
        "params2['LEARNING_RATE'] = 0.05\n",
        "params2['CRITERION'] = nn.CrossEntropyLoss()\n",
        "params2['OPTIMIZER'] = 'SGD'\n",
        "\n",
        "model2 = nn.Sequential(\n",
        "          nn.Linear(NUM_FEATURES, 256),\n",
        "          nn.ReLU(),\n",
        "          nn.Linear(256, 128),\n",
        "          nn.ReLU(),\n",
        "          nn.Linear(128, NUM_CLASSES)\n",
        "        )\n",
        "\n",
        "execute_model(model2, params2)"
      ],
      "execution_count": null,
      "outputs": [
        {
          "output_type": "stream",
          "text": [
            "Shape X_train (936408, 112)\n",
            "Shape y_train (936408,)\n",
            "Shape X_val (117052, 112)\n",
            "Shape y_val (117052,)\n",
            "Shape X_test (117051, 112)\n",
            "Shape y_test (117051,)\n",
            "Len DF original 1170511\n",
            "Len train + val + test 1170511\n",
            "Sequential(\n",
            "  (0): Linear(in_features=112, out_features=256, bias=True)\n",
            "  (1): ReLU()\n",
            "  (2): Linear(in_features=256, out_features=128, bias=True)\n",
            "  (3): ReLU()\n",
            "  (4): Linear(in_features=128, out_features=12, bias=True)\n",
            ")\n",
            "Epoch: 1/150..  Train Loss: 0.7157..  Val Loss: 0.8707..  Train Acc: 0.7508..  Val Acc: 0.6991.. \n",
            "Epoch: 2/150..  Train Loss: 0.5431..  Val Loss: 0.6782..  Train Acc: 0.8145..  Val Acc: 0.7610.. \n",
            "Epoch: 3/150..  Train Loss: 0.4837..  Val Loss: 0.5636..  Train Acc: 0.8351..  Val Acc: 0.8029.. \n",
            "Epoch: 4/150..  Train Loss: 0.4494..  Val Loss: 0.5245..  Train Acc: 0.8464..  Val Acc: 0.8195.. \n",
            "Epoch: 5/150..  Train Loss: 0.4262..  Val Loss: 0.5042..  Train Acc: 0.8541..  Val Acc: 0.8261.. \n",
            "Epoch: 6/150..  Train Loss: 0.4089..  Val Loss: 0.4981..  Train Acc: 0.8595..  Val Acc: 0.8269.. \n",
            "Epoch: 7/150..  Train Loss: 0.3953..  Val Loss: 0.4789..  Train Acc: 0.8639..  Val Acc: 0.8337.. \n",
            "Epoch: 8/150..  Train Loss: 0.3846..  Val Loss: 0.4694..  Train Acc: 0.8673..  Val Acc: 0.8362.. \n",
            "Epoch: 9/150..  Train Loss: 0.3758..  Val Loss: 0.4434..  Train Acc: 0.8701..  Val Acc: 0.8460.. \n",
            "Epoch: 10/150..  Train Loss: 0.3684..  Val Loss: 0.4296..  Train Acc: 0.8723..  Val Acc: 0.8498.. \n",
            "Epoch: 11/150..  Train Loss: 0.3620..  Val Loss: 0.4279..  Train Acc: 0.8744..  Val Acc: 0.8508.. \n",
            "Epoch: 12/150..  Train Loss: 0.3565..  Val Loss: 0.4203..  Train Acc: 0.8761..  Val Acc: 0.8531.. \n",
            "Epoch: 13/150..  Train Loss: 0.3516..  Val Loss: 0.3928..  Train Acc: 0.8776..  Val Acc: 0.8629.. \n",
            "Epoch: 14/150..  Train Loss: 0.3472..  Val Loss: 0.3866..  Train Acc: 0.8790..  Val Acc: 0.8642.. \n",
            "Epoch: 15/150..  Train Loss: 0.3432..  Val Loss: 0.3789..  Train Acc: 0.8801..  Val Acc: 0.8665.. \n",
            "Epoch: 16/150..  Train Loss: 0.3396..  Val Loss: 0.3742..  Train Acc: 0.8811..  Val Acc: 0.8685.. \n",
            "Epoch: 17/150..  Train Loss: 0.3363..  Val Loss: 0.3714..  Train Acc: 0.8821..  Val Acc: 0.8694.. \n",
            "Epoch: 18/150..  Train Loss: 0.3333..  Val Loss: 0.3628..  Train Acc: 0.8830..  Val Acc: 0.8728.. \n",
            "Epoch: 19/150..  Train Loss: 0.3305..  Val Loss: 0.3656..  Train Acc: 0.8838..  Val Acc: 0.8719.. \n",
            "Epoch: 20/150..  Train Loss: 0.3279..  Val Loss: 0.3689..  Train Acc: 0.8845..  Val Acc: 0.8705.. \n",
            "Epoch: 21/150..  Train Loss: 0.3255..  Val Loss: 0.3599..  Train Acc: 0.8852..  Val Acc: 0.8735.. \n",
            "Epoch: 22/150..  Train Loss: 0.3233..  Val Loss: 0.3586..  Train Acc: 0.8859..  Val Acc: 0.8739.. \n",
            "Epoch: 23/150..  Train Loss: 0.3212..  Val Loss: 0.3571..  Train Acc: 0.8866..  Val Acc: 0.8742.. \n",
            "Epoch: 24/150..  Train Loss: 0.3192..  Val Loss: 0.3481..  Train Acc: 0.8870..  Val Acc: 0.8777.. \n",
            "Epoch: 25/150..  Train Loss: 0.3173..  Val Loss: 0.3426..  Train Acc: 0.8876..  Val Acc: 0.8799.. \n",
            "Epoch: 26/150..  Train Loss: 0.3157..  Val Loss: 0.3495..  Train Acc: 0.8879..  Val Acc: 0.8769.. \n",
            "Epoch: 27/150..  Train Loss: 0.3140..  Val Loss: 0.3438..  Train Acc: 0.8884..  Val Acc: 0.8790.. \n",
            "Epoch: 28/150..  Train Loss: 0.3125..  Val Loss: 0.3568..  Train Acc: 0.8889..  Val Acc: 0.8744.. \n",
            "Epoch: 29/150..  Train Loss: 0.3110..  Val Loss: 0.3497..  Train Acc: 0.8894..  Val Acc: 0.8761.. \n",
            "Epoch: 30/150..  Train Loss: 0.3095..  Val Loss: 0.3518..  Train Acc: 0.8897..  Val Acc: 0.8756.. \n",
            "Epoch: 31/150..  Train Loss: 0.3082..  Val Loss: 0.3604..  Train Acc: 0.8901..  Val Acc: 0.8722.. \n",
            "Epoch: 32/150..  Train Loss: 0.3068..  Val Loss: 0.3502..  Train Acc: 0.8904..  Val Acc: 0.8755.. \n",
            "Epoch: 33/150..  Train Loss: 0.3055..  Val Loss: 0.3488..  Train Acc: 0.8908..  Val Acc: 0.8756.. \n",
            "Epoch: 34/150..  Train Loss: 0.3043..  Val Loss: 0.3507..  Train Acc: 0.8912..  Val Acc: 0.8754.. \n",
            "Epoch: 35/150..  Train Loss: 0.3031..  Val Loss: 0.3480..  Train Acc: 0.8916..  Val Acc: 0.8761.. \n",
            "Epoch: 36/150..  Train Loss: 0.3020..  Val Loss: 0.3571..  Train Acc: 0.8920..  Val Acc: 0.8731.. \n",
            "Epoch: 37/150..  Train Loss: 0.3009..  Val Loss: 0.3607..  Train Acc: 0.8922..  Val Acc: 0.8727.. \n",
            "Epoch: 38/150..  Train Loss: 0.2998..  Val Loss: 0.3570..  Train Acc: 0.8924..  Val Acc: 0.8740.. \n",
            "Epoch: 39/150..  Train Loss: 0.2989..  Val Loss: 0.3648..  Train Acc: 0.8927..  Val Acc: 0.8717.. \n",
            "Epoch: 40/150..  Train Loss: 0.2978..  Val Loss: 0.3658..  Train Acc: 0.8931..  Val Acc: 0.8716.. \n",
            "Epoch: 41/150..  Train Loss: 0.2969..  Val Loss: 0.3617..  Train Acc: 0.8933..  Val Acc: 0.8729.. \n",
            "Epoch: 42/150..  Train Loss: 0.2959..  Val Loss: 0.3516..  Train Acc: 0.8936..  Val Acc: 0.8767.. \n",
            "Epoch: 43/150..  Train Loss: 0.2950..  Val Loss: 0.3487..  Train Acc: 0.8938..  Val Acc: 0.8780.. \n",
            "Epoch: 44/150..  Train Loss: 0.2941..  Val Loss: 0.3621..  Train Acc: 0.8941..  Val Acc: 0.8737.. \n",
            "Epoch: 45/150..  Train Loss: 0.2932..  Val Loss: 0.3461..  Train Acc: 0.8943..  Val Acc: 0.8783.. \n",
            "Epoch: 46/150..  Train Loss: 0.2925..  Val Loss: 0.3468..  Train Acc: 0.8943..  Val Acc: 0.8787.. \n",
            "Epoch: 47/150..  Train Loss: 0.2917..  Val Loss: 0.3468..  Train Acc: 0.8948..  Val Acc: 0.8784.. \n",
            "Epoch: 48/150..  Train Loss: 0.2909..  Val Loss: 0.3438..  Train Acc: 0.8949..  Val Acc: 0.8791.. \n",
            "Epoch: 49/150..  Train Loss: 0.2901..  Val Loss: 0.3384..  Train Acc: 0.8952..  Val Acc: 0.8814.. \n",
            "Epoch: 50/150..  Train Loss: 0.2893..  Val Loss: 0.3420..  Train Acc: 0.8954..  Val Acc: 0.8806.. \n",
            "Epoch: 51/150..  Train Loss: 0.2885..  Val Loss: 0.3363..  Train Acc: 0.8956..  Val Acc: 0.8818.. \n",
            "Epoch: 52/150..  Train Loss: 0.2878..  Val Loss: 0.3451..  Train Acc: 0.8958..  Val Acc: 0.8790.. \n",
            "Epoch: 53/150..  Train Loss: 0.2871..  Val Loss: 0.3315..  Train Acc: 0.8959..  Val Acc: 0.8833.. \n",
            "Epoch: 54/150..  Train Loss: 0.2864..  Val Loss: 0.3367..  Train Acc: 0.8962..  Val Acc: 0.8817.. \n",
            "Epoch: 55/150..  Train Loss: 0.2857..  Val Loss: 0.3310..  Train Acc: 0.8964..  Val Acc: 0.8836.. \n",
            "Epoch: 56/150..  Train Loss: 0.2850..  Val Loss: 0.3437..  Train Acc: 0.8966..  Val Acc: 0.8794.. \n",
            "Epoch: 57/150..  Train Loss: 0.2844..  Val Loss: 0.3371..  Train Acc: 0.8968..  Val Acc: 0.8817.. \n",
            "Epoch: 58/150..  Train Loss: 0.2837..  Val Loss: 0.3441..  Train Acc: 0.8970..  Val Acc: 0.8800.. \n",
            "Epoch: 59/150..  Train Loss: 0.2831..  Val Loss: 0.3431..  Train Acc: 0.8973..  Val Acc: 0.8797.. \n",
            "Epoch: 60/150..  Train Loss: 0.2825..  Val Loss: 0.3381..  Train Acc: 0.8974..  Val Acc: 0.8814.. \n",
            "Epoch: 61/150..  Train Loss: 0.2819..  Val Loss: 0.3376..  Train Acc: 0.8975..  Val Acc: 0.8815.. \n",
            "Epoch: 62/150..  Train Loss: 0.2813..  Val Loss: 0.3283..  Train Acc: 0.8977..  Val Acc: 0.8848.. \n",
            "Epoch: 63/150..  Train Loss: 0.2807..  Val Loss: 0.3310..  Train Acc: 0.8978..  Val Acc: 0.8840.. \n",
            "Epoch: 64/150..  Train Loss: 0.2802..  Val Loss: 0.3334..  Train Acc: 0.8980..  Val Acc: 0.8834.. \n",
            "Epoch: 65/150..  Train Loss: 0.2796..  Val Loss: 0.3292..  Train Acc: 0.8981..  Val Acc: 0.8850.. \n",
            "Epoch: 66/150..  Train Loss: 0.2791..  Val Loss: 0.3281..  Train Acc: 0.8983..  Val Acc: 0.8851.. \n",
            "Epoch: 67/150..  Train Loss: 0.2785..  Val Loss: 0.3330..  Train Acc: 0.8985..  Val Acc: 0.8840.. \n",
            "Epoch: 68/150..  Train Loss: 0.2780..  Val Loss: 0.3309..  Train Acc: 0.8986..  Val Acc: 0.8838.. \n",
            "Epoch: 69/150..  Train Loss: 0.2775..  Val Loss: 0.3318..  Train Acc: 0.8989..  Val Acc: 0.8843.. \n",
            "Epoch: 70/150..  Train Loss: 0.2770..  Val Loss: 0.3271..  Train Acc: 0.8990..  Val Acc: 0.8856.. \n",
            "Epoch: 71/150..  Train Loss: 0.2765..  Val Loss: 0.3319..  Train Acc: 0.8991..  Val Acc: 0.8839.. \n",
            "Epoch: 72/150..  Train Loss: 0.2760..  Val Loss: 0.3359..  Train Acc: 0.8993..  Val Acc: 0.8824.. \n",
            "Epoch: 73/150..  Train Loss: 0.2755..  Val Loss: 0.3291..  Train Acc: 0.8996..  Val Acc: 0.8846.. \n",
            "Epoch: 74/150..  Train Loss: 0.2751..  Val Loss: 0.3388..  Train Acc: 0.8996..  Val Acc: 0.8820.. \n",
            "Epoch: 75/150..  Train Loss: 0.2746..  Val Loss: 0.3290..  Train Acc: 0.8998..  Val Acc: 0.8851.. \n",
            "Epoch: 76/150..  Train Loss: 0.2741..  Val Loss: 0.3379..  Train Acc: 0.8998..  Val Acc: 0.8824.. \n",
            "Epoch: 77/150..  Train Loss: 0.2737..  Val Loss: 0.3374..  Train Acc: 0.9000..  Val Acc: 0.8827.. \n",
            "Epoch: 78/150..  Train Loss: 0.2733..  Val Loss: 0.3447..  Train Acc: 0.9002..  Val Acc: 0.8805.. \n",
            "Epoch: 79/150..  Train Loss: 0.2729..  Val Loss: 0.3358..  Train Acc: 0.9002..  Val Acc: 0.8832.. \n",
            "Epoch: 80/150..  Train Loss: 0.2725..  Val Loss: 0.3348..  Train Acc: 0.9004..  Val Acc: 0.8835.. \n",
            "Epoch: 81/150..  Train Loss: 0.2720..  Val Loss: 0.3411..  Train Acc: 0.9006..  Val Acc: 0.8815.. \n",
            "Epoch: 82/150..  Train Loss: 0.2717..  Val Loss: 0.3361..  Train Acc: 0.9006..  Val Acc: 0.8833.. \n",
            "Epoch: 83/150..  Train Loss: 0.2712..  Val Loss: 0.3499..  Train Acc: 0.9008..  Val Acc: 0.8791.. \n",
            "Epoch: 84/150..  Train Loss: 0.2708..  Val Loss: 0.3485..  Train Acc: 0.9008..  Val Acc: 0.8795.. \n",
            "Epoch: 85/150..  Train Loss: 0.2704..  Val Loss: 0.3436..  Train Acc: 0.9009..  Val Acc: 0.8816.. \n",
            "Epoch: 86/150..  Train Loss: 0.2701..  Val Loss: 0.3508..  Train Acc: 0.9010..  Val Acc: 0.8795.. \n",
            "Epoch: 87/150..  Train Loss: 0.2697..  Val Loss: 0.3482..  Train Acc: 0.9013..  Val Acc: 0.8803.. \n",
            "Epoch: 88/150..  Train Loss: 0.2693..  Val Loss: 0.3419..  Train Acc: 0.9013..  Val Acc: 0.8819.. \n",
            "Epoch: 89/150..  Train Loss: 0.2690..  Val Loss: 0.3510..  Train Acc: 0.9014..  Val Acc: 0.8801.. \n",
            "Epoch: 90/150..  Train Loss: 0.2686..  Val Loss: 0.3529..  Train Acc: 0.9015..  Val Acc: 0.8793.. \n",
            "Epoch: 91/150..  Train Loss: 0.2683..  Val Loss: 0.3575..  Train Acc: 0.9015..  Val Acc: 0.8782.. \n",
            "Epoch: 92/150..  Train Loss: 0.2679..  Val Loss: 0.3407..  Train Acc: 0.9018..  Val Acc: 0.8832.. \n",
            "Epoch: 93/150..  Train Loss: 0.2676..  Val Loss: 0.3447..  Train Acc: 0.9017..  Val Acc: 0.8817.. \n",
            "Epoch: 94/150..  Train Loss: 0.2672..  Val Loss: 0.3499..  Train Acc: 0.9020..  Val Acc: 0.8800.. \n",
            "Epoch: 95/150..  Train Loss: 0.2668..  Val Loss: 0.3464..  Train Acc: 0.9020..  Val Acc: 0.8813.. \n",
            "Epoch: 96/150..  Train Loss: 0.2666..  Val Loss: 0.3665..  Train Acc: 0.9022..  Val Acc: 0.8760.. \n",
            "Epoch: 97/150..  Train Loss: 0.2662..  Val Loss: 0.3434..  Train Acc: 0.9022..  Val Acc: 0.8825.. \n",
            "Epoch: 98/150..  Train Loss: 0.2659..  Val Loss: 0.3538..  Train Acc: 0.9024..  Val Acc: 0.8794.. \n",
            "Epoch: 99/150..  Train Loss: 0.2656..  Val Loss: 0.3421..  Train Acc: 0.9024..  Val Acc: 0.8829.. \n",
            "Epoch: 100/150..  Train Loss: 0.2653..  Val Loss: 0.3564..  Train Acc: 0.9025..  Val Acc: 0.8786.. \n",
            "Epoch: 101/150..  Train Loss: 0.2650..  Val Loss: 0.3610..  Train Acc: 0.9027..  Val Acc: 0.8780.. \n",
            "Epoch: 102/150..  Train Loss: 0.2647..  Val Loss: 0.3659..  Train Acc: 0.9028..  Val Acc: 0.8768.. \n",
            "Epoch: 103/150..  Train Loss: 0.2644..  Val Loss: 0.3541..  Train Acc: 0.9027..  Val Acc: 0.8794.. \n",
            "Epoch: 104/150..  Train Loss: 0.2641..  Val Loss: 0.3500..  Train Acc: 0.9029..  Val Acc: 0.8814.. \n",
            "Epoch: 105/150..  Train Loss: 0.2638..  Val Loss: 0.3573..  Train Acc: 0.9030..  Val Acc: 0.8790.. \n",
            "Epoch: 106/150..  Train Loss: 0.2636..  Val Loss: 0.3495..  Train Acc: 0.9030..  Val Acc: 0.8807.. \n",
            "Epoch: 107/150..  Train Loss: 0.2632..  Val Loss: 0.3545..  Train Acc: 0.9031..  Val Acc: 0.8796.. \n",
            "Epoch: 108/150..  Train Loss: 0.2630..  Val Loss: 0.3386..  Train Acc: 0.9032..  Val Acc: 0.8842.. \n",
            "Epoch: 109/150..  Train Loss: 0.2627..  Val Loss: 0.3536..  Train Acc: 0.9034..  Val Acc: 0.8804.. \n",
            "Epoch: 110/150..  Train Loss: 0.2624..  Val Loss: 0.3483..  Train Acc: 0.9033..  Val Acc: 0.8820.. \n",
            "Epoch: 111/150..  Train Loss: 0.2622..  Val Loss: 0.3579..  Train Acc: 0.9034..  Val Acc: 0.8794.. \n",
            "Epoch: 112/150..  Train Loss: 0.2619..  Val Loss: 0.3495..  Train Acc: 0.9035..  Val Acc: 0.8812.. \n",
            "Epoch: 113/150..  Train Loss: 0.2616..  Val Loss: 0.3652..  Train Acc: 0.9037..  Val Acc: 0.8767.. \n",
            "Epoch: 114/150..  Train Loss: 0.2613..  Val Loss: 0.3482..  Train Acc: 0.9037..  Val Acc: 0.8822.. \n",
            "Epoch: 115/150..  Train Loss: 0.2610..  Val Loss: 0.3669..  Train Acc: 0.9039..  Val Acc: 0.8767.. \n",
            "Epoch: 116/150..  Train Loss: 0.2607..  Val Loss: 0.3637..  Train Acc: 0.9040..  Val Acc: 0.8775.. \n",
            "Epoch: 117/150..  Train Loss: 0.2605..  Val Loss: 0.3664..  Train Acc: 0.9041..  Val Acc: 0.8767.. \n",
            "Epoch: 118/150..  Train Loss: 0.2602..  Val Loss: 0.3471..  Train Acc: 0.9042..  Val Acc: 0.8820.. \n",
            "Epoch: 119/150..  Train Loss: 0.2600..  Val Loss: 0.3701..  Train Acc: 0.9043..  Val Acc: 0.8765.. \n",
            "Epoch: 120/150..  Train Loss: 0.2598..  Val Loss: 0.3620..  Train Acc: 0.9043..  Val Acc: 0.8781.. \n",
            "Epoch: 121/150..  Train Loss: 0.2594..  Val Loss: 0.3642..  Train Acc: 0.9044..  Val Acc: 0.8780.. \n",
            "Epoch: 122/150..  Train Loss: 0.2592..  Val Loss: 0.3715..  Train Acc: 0.9044..  Val Acc: 0.8761.. \n",
            "Epoch: 123/150..  Train Loss: 0.2590..  Val Loss: 0.3635..  Train Acc: 0.9044..  Val Acc: 0.8783.. \n",
            "Epoch: 124/150..  Train Loss: 0.2587..  Val Loss: 0.3679..  Train Acc: 0.9046..  Val Acc: 0.8773.. \n",
            "Epoch: 125/150..  Train Loss: 0.2585..  Val Loss: 0.3762..  Train Acc: 0.9046..  Val Acc: 0.8746.. \n",
            "Epoch: 126/150..  Train Loss: 0.2582..  Val Loss: 0.3696..  Train Acc: 0.9047..  Val Acc: 0.8765.. \n",
            "Epoch: 127/150..  Train Loss: 0.2580..  Val Loss: 0.3790..  Train Acc: 0.9048..  Val Acc: 0.8738.. \n",
            "Epoch: 128/150..  Train Loss: 0.2577..  Val Loss: 0.3655..  Train Acc: 0.9048..  Val Acc: 0.8781.. \n",
            "Epoch: 129/150..  Train Loss: 0.2575..  Val Loss: 0.3869..  Train Acc: 0.9050..  Val Acc: 0.8721.. \n",
            "Epoch: 130/150..  Train Loss: 0.2572..  Val Loss: 0.3816..  Train Acc: 0.9049..  Val Acc: 0.8734.. \n",
            "Epoch: 131/150..  Train Loss: 0.2570..  Val Loss: 0.3912..  Train Acc: 0.9051..  Val Acc: 0.8705.. \n",
            "Epoch: 132/150..  Train Loss: 0.2568..  Val Loss: 0.3749..  Train Acc: 0.9053..  Val Acc: 0.8753.. \n",
            "Epoch: 133/150..  Train Loss: 0.2566..  Val Loss: 0.3680..  Train Acc: 0.9052..  Val Acc: 0.8768.. \n",
            "Epoch: 134/150..  Train Loss: 0.2563..  Val Loss: 0.3788..  Train Acc: 0.9053..  Val Acc: 0.8749.. \n",
            "Epoch: 135/150..  Train Loss: 0.2561..  Val Loss: 0.3557..  Train Acc: 0.9054..  Val Acc: 0.8802.. \n",
            "Epoch: 136/150..  Train Loss: 0.2558..  Val Loss: 0.3679..  Train Acc: 0.9055..  Val Acc: 0.8773.. \n",
            "Epoch: 137/150..  Train Loss: 0.2556..  Val Loss: 0.3744..  Train Acc: 0.9055..  Val Acc: 0.8761.. \n",
            "Epoch: 138/150..  Train Loss: 0.2554..  Val Loss: 0.3627..  Train Acc: 0.9056..  Val Acc: 0.8787.. \n",
            "Epoch: 139/150..  Train Loss: 0.2552..  Val Loss: 0.3701..  Train Acc: 0.9056..  Val Acc: 0.8766.. \n",
            "Epoch: 140/150..  Train Loss: 0.2550..  Val Loss: 0.3608..  Train Acc: 0.9057..  Val Acc: 0.8796.. \n",
            "Epoch: 141/150..  Train Loss: 0.2548..  Val Loss: 0.3692..  Train Acc: 0.9057..  Val Acc: 0.8780.. \n",
            "Epoch: 142/150..  Train Loss: 0.2546..  Val Loss: 0.3570..  Train Acc: 0.9058..  Val Acc: 0.8809.. \n",
            "Epoch: 143/150..  Train Loss: 0.2544..  Val Loss: 0.3641..  Train Acc: 0.9059..  Val Acc: 0.8788.. \n",
            "Epoch: 144/150..  Train Loss: 0.2541..  Val Loss: 0.3732..  Train Acc: 0.9060..  Val Acc: 0.8761.. \n",
            "Epoch: 145/150..  Train Loss: 0.2539..  Val Loss: 0.3545..  Train Acc: 0.9060..  Val Acc: 0.8813.. \n",
            "Epoch: 146/150..  Train Loss: 0.2537..  Val Loss: 0.3594..  Train Acc: 0.9060..  Val Acc: 0.8804.. \n",
            "Epoch: 147/150..  Train Loss: 0.2535..  Val Loss: 0.3608..  Train Acc: 0.9063..  Val Acc: 0.8798.. \n",
            "Epoch: 148/150..  Train Loss: 0.2533..  Val Loss: 0.3545..  Train Acc: 0.9062..  Val Acc: 0.8813.. \n",
            "Epoch: 149/150..  Train Loss: 0.2531..  Val Loss: 0.3578..  Train Acc: 0.9063..  Val Acc: 0.8815.. \n",
            "Epoch: 150/150..  Train Loss: 0.2529..  Val Loss: 0.3616..  Train Acc: 0.9064..  Val Acc: 0.8806.. \n"
          ],
          "name": "stdout"
        },
        {
          "output_type": "display_data",
          "data": {
            "image/png": "[encoded data removed]",
            "text/plain": [
              "<Figure size 864x432 with 2 Axes>"
            ]
          },
          "metadata": {
            "tags": [],
            "needs_background": "light"
          }
        },
        {
          "output_type": "stream",
          "text": [
            "Acurácia de teste: 88.00%\n",
            "Acurácia de treinamento: 90.64%\n",
            "Acurácia de validação: 88.06%\n"
          ],
          "name": "stdout"
        }
      ]
    },
    {
      "cell_type": "code",
      "metadata": {
        "colab": {
          "base_uri": "https://localhost:8080/",
          "height": 1000
        },
        "id": "fHYX_ShnEBwb",
        "outputId": "68e558a1-496e-46a0-fea7-ac7f0041f7fe"
      },
      "source": [
        "params1 = dict()\n",
        "params1['EPOCHS'] = 50\n",
        "params1['BATCH_SIZE'] = 64 \n",
        "params1['LEARNING_RATE'] = 0.05\n",
        "params1['CRITERION'] = nn.CrossEntropyLoss()\n",
        "params1['OPTIMIZER'] = 'SGD'\n",
        "\n",
        "model1 = nn.Sequential(\n",
        "          nn.Linear(NUM_FEATURES, 128),\n",
        "          nn.Tanh(),\n",
        "          nn.Linear(128, NUM_CLASSES)\n",
        "        )\n",
        "\n",
        "execute_model(model1, params1)"
      ],
      "execution_count": null,
      "outputs": [
        {
          "output_type": "stream",
          "text": [
            "Shape X_train (936408, 112)\n",
            "Shape y_train (936408,)\n",
            "Shape X_val (117052, 112)\n",
            "Shape y_val (117052,)\n",
            "Shape X_test (117051, 112)\n",
            "Shape y_test (117051,)\n",
            "Len DF original 1170511\n",
            "Len train + val + test 1170511\n",
            "Sequential(\n",
            "  (0): Linear(in_features=112, out_features=128, bias=True)\n",
            "  (1): Tanh()\n",
            "  (2): Linear(in_features=128, out_features=12, bias=True)\n",
            ")\n",
            "Epoch: 1/50..  Train Loss: 0.7740..  Val Loss: 0.8099..  Train Acc: 0.7246..  Val Acc: 0.7056.. \n",
            "Epoch: 2/50..  Train Loss: 0.6688..  Val Loss: 0.7340..  Train Acc: 0.7643..  Val Acc: 0.7406.. \n",
            "Epoch: 3/50..  Train Loss: 0.6181..  Val Loss: 0.6844..  Train Acc: 0.7871..  Val Acc: 0.7616.. \n",
            "Epoch: 4/50..  Train Loss: 0.5802..  Val Loss: 0.6521..  Train Acc: 0.8029..  Val Acc: 0.7717.. \n",
            "Epoch: 5/50..  Train Loss: 0.5531..  Val Loss: 0.6235..  Train Acc: 0.8139..  Val Acc: 0.7821.. \n",
            "Epoch: 6/50..  Train Loss: 0.5328..  Val Loss: 0.5970..  Train Acc: 0.8222..  Val Acc: 0.7943.. \n",
            "Epoch: 7/50..  Train Loss: 0.5167..  Val Loss: 0.5766..  Train Acc: 0.8277..  Val Acc: 0.8029.. \n",
            "Epoch: 8/50..  Train Loss: 0.5033..  Val Loss: 0.5618..  Train Acc: 0.8319..  Val Acc: 0.8086.. \n",
            "Epoch: 9/50..  Train Loss: 0.4920..  Val Loss: 0.5493..  Train Acc: 0.8357..  Val Acc: 0.8134.. \n",
            "Epoch: 10/50..  Train Loss: 0.4823..  Val Loss: 0.5375..  Train Acc: 0.8391..  Val Acc: 0.8171.. \n",
            "Epoch: 11/50..  Train Loss: 0.4738..  Val Loss: 0.5269..  Train Acc: 0.8419..  Val Acc: 0.8214.. \n",
            "Epoch: 12/50..  Train Loss: 0.4663..  Val Loss: 0.5182..  Train Acc: 0.8444..  Val Acc: 0.8246.. \n",
            "Epoch: 13/50..  Train Loss: 0.4595..  Val Loss: 0.5113..  Train Acc: 0.8465..  Val Acc: 0.8270.. \n",
            "Epoch: 14/50..  Train Loss: 0.4535..  Val Loss: 0.5058..  Train Acc: 0.8484..  Val Acc: 0.8284.. \n",
            "Epoch: 15/50..  Train Loss: 0.4480..  Val Loss: 0.5014..  Train Acc: 0.8502..  Val Acc: 0.8297.. \n",
            "Epoch: 16/50..  Train Loss: 0.4430..  Val Loss: 0.4977..  Train Acc: 0.8519..  Val Acc: 0.8308.. \n",
            "Epoch: 17/50..  Train Loss: 0.4384..  Val Loss: 0.4943..  Train Acc: 0.8533..  Val Acc: 0.8317.. \n",
            "Epoch: 18/50..  Train Loss: 0.4341..  Val Loss: 0.4912..  Train Acc: 0.8546..  Val Acc: 0.8326.. \n",
            "Epoch: 19/50..  Train Loss: 0.4302..  Val Loss: 0.4883..  Train Acc: 0.8557..  Val Acc: 0.8334.. \n",
            "Epoch: 20/50..  Train Loss: 0.4265..  Val Loss: 0.4855..  Train Acc: 0.8569..  Val Acc: 0.8342.. \n",
            "Epoch: 21/50..  Train Loss: 0.4231..  Val Loss: 0.4828..  Train Acc: 0.8579..  Val Acc: 0.8351.. \n",
            "Epoch: 22/50..  Train Loss: 0.4199..  Val Loss: 0.4802..  Train Acc: 0.8589..  Val Acc: 0.8358.. \n",
            "Epoch: 23/50..  Train Loss: 0.4169..  Val Loss: 0.4775..  Train Acc: 0.8598..  Val Acc: 0.8365.. \n",
            "Epoch: 24/50..  Train Loss: 0.4140..  Val Loss: 0.4748..  Train Acc: 0.8607..  Val Acc: 0.8372.. \n",
            "Epoch: 25/50..  Train Loss: 0.4114..  Val Loss: 0.4720..  Train Acc: 0.8615..  Val Acc: 0.8378.. \n",
            "Epoch: 26/50..  Train Loss: 0.4089..  Val Loss: 0.4691..  Train Acc: 0.8624..  Val Acc: 0.8386.. \n",
            "Epoch: 27/50..  Train Loss: 0.4065..  Val Loss: 0.4662..  Train Acc: 0.8631..  Val Acc: 0.8397.. \n",
            "Epoch: 28/50..  Train Loss: 0.4042..  Val Loss: 0.4633..  Train Acc: 0.8639..  Val Acc: 0.8407.. \n",
            "Epoch: 29/50..  Train Loss: 0.4021..  Val Loss: 0.4604..  Train Acc: 0.8645..  Val Acc: 0.8416.. \n",
            "Epoch: 30/50..  Train Loss: 0.4000..  Val Loss: 0.4574..  Train Acc: 0.8651..  Val Acc: 0.8426.. \n",
            "Epoch: 31/50..  Train Loss: 0.3981..  Val Loss: 0.4545..  Train Acc: 0.8658..  Val Acc: 0.8434.. \n",
            "Epoch: 32/50..  Train Loss: 0.3962..  Val Loss: 0.4516..  Train Acc: 0.8664..  Val Acc: 0.8442.. \n",
            "Epoch: 33/50..  Train Loss: 0.3944..  Val Loss: 0.4487..  Train Acc: 0.8669..  Val Acc: 0.8453.. \n",
            "Epoch: 34/50..  Train Loss: 0.3927..  Val Loss: 0.4458..  Train Acc: 0.8675..  Val Acc: 0.8462.. \n",
            "Epoch: 35/50..  Train Loss: 0.3910..  Val Loss: 0.4429..  Train Acc: 0.8680..  Val Acc: 0.8472.. \n",
            "Epoch: 36/50..  Train Loss: 0.3894..  Val Loss: 0.4400..  Train Acc: 0.8684..  Val Acc: 0.8480.. \n",
            "Epoch: 37/50..  Train Loss: 0.3878..  Val Loss: 0.4371..  Train Acc: 0.8689..  Val Acc: 0.8488.. \n",
            "Epoch: 38/50..  Train Loss: 0.3862..  Val Loss: 0.4344..  Train Acc: 0.8692..  Val Acc: 0.8497.. \n",
            "Epoch: 39/50..  Train Loss: 0.3847..  Val Loss: 0.4316..  Train Acc: 0.8696..  Val Acc: 0.8507.. \n",
            "Epoch: 40/50..  Train Loss: 0.3833..  Val Loss: 0.4290..  Train Acc: 0.8700..  Val Acc: 0.8516.. \n",
            "Epoch: 41/50..  Train Loss: 0.3819..  Val Loss: 0.4264..  Train Acc: 0.8704..  Val Acc: 0.8525.. \n",
            "Epoch: 42/50..  Train Loss: 0.3805..  Val Loss: 0.4239..  Train Acc: 0.8708..  Val Acc: 0.8533.. \n",
            "Epoch: 43/50..  Train Loss: 0.3791..  Val Loss: 0.4215..  Train Acc: 0.8712..  Val Acc: 0.8539.. \n",
            "Epoch: 44/50..  Train Loss: 0.3778..  Val Loss: 0.4192..  Train Acc: 0.8716..  Val Acc: 0.8546.. \n",
            "Epoch: 45/50..  Train Loss: 0.3765..  Val Loss: 0.4171..  Train Acc: 0.8719..  Val Acc: 0.8552.. \n",
            "Epoch: 46/50..  Train Loss: 0.3753..  Val Loss: 0.4150..  Train Acc: 0.8722..  Val Acc: 0.8560.. \n",
            "Epoch: 47/50..  Train Loss: 0.3740..  Val Loss: 0.4130..  Train Acc: 0.8726..  Val Acc: 0.8569.. \n",
            "Epoch: 48/50..  Train Loss: 0.3728..  Val Loss: 0.4110..  Train Acc: 0.8729..  Val Acc: 0.8576.. \n",
            "Epoch: 49/50..  Train Loss: 0.3716..  Val Loss: 0.4092..  Train Acc: 0.8732..  Val Acc: 0.8582.. \n",
            "Epoch: 50/50..  Train Loss: 0.3705..  Val Loss: 0.4075..  Train Acc: 0.8735..  Val Acc: 0.8588.. \n"
          ],
          "name": "stdout"
        },
        {
          "output_type": "display_data",
          "data": {
            "image/png": "[encoded data removed]",
            "text/plain": [
              "<Figure size 864x432 with 2 Axes>"
            ]
          },
          "metadata": {
            "tags": [],
            "needs_background": "light"
          }
        },
        {
          "output_type": "stream",
          "text": [
            "Acurácia de teste: 85.93%\n",
            "Acurácia de treinamento: 87.35%\n",
            "Acurácia de validação: 85.88%\n"
          ],
          "name": "stdout"
        }
      ]
    },
    {
      "cell_type": "code",
      "metadata": {
        "colab": {
          "base_uri": "https://localhost:8080/",
          "height": 935
        },
        "id": "8MnLr0M68edq",
        "outputId": "50fd2935-e924-4e1e-a7d7-af0b80038dbf"
      },
      "source": [
        "params3 = dict()\n",
        "params3['EPOCHS'] = 15\n",
        "params3['BATCH_SIZE'] = 64\n",
        "params3['LEARNING_RATE'] = 0.05\n",
        "params3['CRITERION'] = nn.CrossEntropyLoss()\n",
        "params3['OPTIMIZER'] = 'SGD'\n",
        "\n",
        "model3 = nn.Sequential(\n",
        "          nn.Linear(NUM_FEATURES, 512),\n",
        "          nn.Tanh(),\n",
        "          nn.Linear(512, 256),\n",
        "          nn.Tanh(),\n",
        "          nn.Linear(256, NUM_CLASSES)\n",
        "        )\n",
        "\n",
        "execute_model(model3, params3)"
      ],
      "execution_count": null,
      "outputs": [
        {
          "output_type": "stream",
          "text": [
            "Shape X_train (936408, 112)\n",
            "Shape y_train (936408,)\n",
            "Shape X_val (117052, 112)\n",
            "Shape y_val (117052,)\n",
            "Shape X_test (117051, 112)\n",
            "Shape y_test (117051,)\n",
            "Len DF original 1170511\n",
            "Len train + val + test 1170511\n",
            "Sequential(\n",
            "  (0): Linear(in_features=112, out_features=512, bias=True)\n",
            "  (1): Tanh()\n",
            "  (2): Linear(in_features=512, out_features=256, bias=True)\n",
            "  (3): Tanh()\n",
            "  (4): Linear(in_features=256, out_features=12, bias=True)\n",
            ")\n",
            "Epoch: 1/15..  Train Loss: 0.7548..  Val Loss: 0.8217..  Train Acc: 0.7303..  Val Acc: 0.7069.. \n",
            "Epoch: 2/15..  Train Loss: 0.6292..  Val Loss: 0.6818..  Train Acc: 0.7805..  Val Acc: 0.7607.. \n",
            "Epoch: 3/15..  Train Loss: 0.5505..  Val Loss: 0.5779..  Train Acc: 0.8126..  Val Acc: 0.8015.. \n",
            "Epoch: 4/15..  Train Loss: 0.5030..  Val Loss: 0.5232..  Train Acc: 0.8311..  Val Acc: 0.8213.. \n",
            "Epoch: 5/15..  Train Loss: 0.4709..  Val Loss: 0.4930..  Train Acc: 0.8422..  Val Acc: 0.8321.. \n",
            "Epoch: 6/15..  Train Loss: 0.4473..  Val Loss: 0.4713..  Train Acc: 0.8494..  Val Acc: 0.8388.. \n",
            "Epoch: 7/15..  Train Loss: 0.4295..  Val Loss: 0.4503..  Train Acc: 0.8548..  Val Acc: 0.8462.. \n",
            "Epoch: 8/15..  Train Loss: 0.4150..  Val Loss: 0.4348..  Train Acc: 0.8591..  Val Acc: 0.8518.. \n",
            "Epoch: 9/15..  Train Loss: 0.4025..  Val Loss: 0.4248..  Train Acc: 0.8630..  Val Acc: 0.8545.. \n",
            "Epoch: 10/15..  Train Loss: 0.3918..  Val Loss: 0.4172..  Train Acc: 0.8663..  Val Acc: 0.8566.. \n",
            "Epoch: 11/15..  Train Loss: 0.3827..  Val Loss: 0.4118..  Train Acc: 0.8690..  Val Acc: 0.8583.. \n",
            "Epoch: 12/15..  Train Loss: 0.3748..  Val Loss: 0.4067..  Train Acc: 0.8714..  Val Acc: 0.8592.. \n",
            "Epoch: 13/15..  Train Loss: 0.3677..  Val Loss: 0.4008..  Train Acc: 0.8734..  Val Acc: 0.8613.. \n",
            "Epoch: 14/15..  Train Loss: 0.3614..  Val Loss: 0.3950..  Train Acc: 0.8754..  Val Acc: 0.8635.. \n",
            "Epoch: 15/15..  Train Loss: 0.3558..  Val Loss: 0.3896..  Train Acc: 0.8771..  Val Acc: 0.8651.. \n"
          ],
          "name": "stdout"
        },
        {
          "output_type": "display_data",
          "data": {
            "image/png": "[encoded data removed]",
            "text/plain": [
              "<Figure size 864x432 with 2 Axes>"
            ]
          },
          "metadata": {
            "tags": [],
            "needs_background": "light"
          }
        },
        {
          "output_type": "stream",
          "text": [
            "Acurácia de teste: 86.62%\n",
            "Acurácia de treinamento: 87.71%\n",
            "Acurácia de validação: 86.51%\n"
          ],
          "name": "stdout"
        }
      ]
    },
    {
      "cell_type": "code",
      "metadata": {
        "colab": {
          "base_uri": "https://localhost:8080/",
          "height": 1000
        },
        "id": "7pZq5cl3KMhF",
        "outputId": "b74ca769-fabc-43d8-e43a-3e54e19ed918"
      },
      "source": [
        "params1 = dict()\n",
        "params1['EPOCHS'] = 150\n",
        "params1['BATCH_SIZE'] = 64\n",
        "params1['LEARNING_RATE'] = 0.05\n",
        "params1['CRITERION'] = nn.CrossEntropyLoss()\n",
        "params1['OPTIMIZER'] = 'SGD'\n",
        "\n",
        "model1 = nn.Sequential(\n",
        "          nn.Linear(NUM_FEATURES, 512),\n",
        "          nn.ReLU(),\n",
        "          nn.Linear(512, 256),\n",
        "          nn.ReLU(),\n",
        "          nn.Linear(256, NUM_CLASSES)\n",
        "        )\n",
        "\n",
        "execute_model(model1, params1)"
      ],
      "execution_count": null,
      "outputs": [
        {
          "output_type": "stream",
          "text": [
            "Shape X_train (936408, 112)\n",
            "Shape y_train (936408,)\n",
            "Shape X_val (117052, 112)\n",
            "Shape y_val (117052,)\n",
            "Shape X_test (117051, 112)\n",
            "Shape y_test (117051,)\n",
            "Len DF original 1170511\n",
            "Len train + val + test 1170511\n",
            "Sequential(\n",
            "  (0): Linear(in_features=112, out_features=512, bias=True)\n",
            "  (1): ReLU()\n",
            "  (2): Linear(in_features=512, out_features=256, bias=True)\n",
            "  (3): ReLU()\n",
            "  (4): Linear(in_features=256, out_features=12, bias=True)\n",
            ")\n",
            "Epoch: 1/150..  Train Loss: 0.7062..  Val Loss: 0.7730..  Train Acc: 0.7542..  Val Acc: 0.7279.. \n",
            "Epoch: 2/150..  Train Loss: 0.5364..  Val Loss: 0.6367..  Train Acc: 0.8166..  Val Acc: 0.7725.. \n",
            "Epoch: 3/150..  Train Loss: 0.4755..  Val Loss: 0.5383..  Train Acc: 0.8378..  Val Acc: 0.8097.. \n",
            "Epoch: 4/150..  Train Loss: 0.4399..  Val Loss: 0.5091..  Train Acc: 0.8493..  Val Acc: 0.8226.. \n",
            "Epoch: 5/150..  Train Loss: 0.4159..  Val Loss: 0.4823..  Train Acc: 0.8571..  Val Acc: 0.8322.. \n",
            "Epoch: 6/150..  Train Loss: 0.3986..  Val Loss: 0.4510..  Train Acc: 0.8626..  Val Acc: 0.8420.. \n",
            "Epoch: 7/150..  Train Loss: 0.3851..  Val Loss: 0.4423..  Train Acc: 0.8668..  Val Acc: 0.8448.. \n",
            "Epoch: 8/150..  Train Loss: 0.3743..  Val Loss: 0.4231..  Train Acc: 0.8701..  Val Acc: 0.8516.. \n",
            "Epoch: 9/150..  Train Loss: 0.3655..  Val Loss: 0.4200..  Train Acc: 0.8729..  Val Acc: 0.8525.. \n",
            "Epoch: 10/150..  Train Loss: 0.3581..  Val Loss: 0.4105..  Train Acc: 0.8753..  Val Acc: 0.8552.. \n",
            "Epoch: 11/150..  Train Loss: 0.3517..  Val Loss: 0.4083..  Train Acc: 0.8772..  Val Acc: 0.8566.. \n",
            "Epoch: 12/150..  Train Loss: 0.3461..  Val Loss: 0.4021..  Train Acc: 0.8789..  Val Acc: 0.8587.. \n",
            "Epoch: 13/150..  Train Loss: 0.3412..  Val Loss: 0.3920..  Train Acc: 0.8804..  Val Acc: 0.8625.. \n",
            "Epoch: 14/150..  Train Loss: 0.3369..  Val Loss: 0.3884..  Train Acc: 0.8817..  Val Acc: 0.8636.. \n",
            "Epoch: 15/150..  Train Loss: 0.3329..  Val Loss: 0.3887..  Train Acc: 0.8828..  Val Acc: 0.8629.. \n",
            "Epoch: 16/150..  Train Loss: 0.3293..  Val Loss: 0.3784..  Train Acc: 0.8838..  Val Acc: 0.8669.. \n",
            "Epoch: 17/150..  Train Loss: 0.3262..  Val Loss: 0.3828..  Train Acc: 0.8847..  Val Acc: 0.8655.. \n",
            "Epoch: 18/150..  Train Loss: 0.3231..  Val Loss: 0.3814..  Train Acc: 0.8856..  Val Acc: 0.8665.. \n",
            "Epoch: 19/150..  Train Loss: 0.3204..  Val Loss: 0.3781..  Train Acc: 0.8864..  Val Acc: 0.8679.. \n",
            "Epoch: 20/150..  Train Loss: 0.3178..  Val Loss: 0.3828..  Train Acc: 0.8872..  Val Acc: 0.8658.. \n",
            "Epoch: 21/150..  Train Loss: 0.3154..  Val Loss: 0.3867..  Train Acc: 0.8879..  Val Acc: 0.8646.. \n",
            "Epoch: 22/150..  Train Loss: 0.3132..  Val Loss: 0.3786..  Train Acc: 0.8886..  Val Acc: 0.8676.. \n",
            "Epoch: 23/150..  Train Loss: 0.3111..  Val Loss: 0.3794..  Train Acc: 0.8892..  Val Acc: 0.8676.. \n",
            "Epoch: 24/150..  Train Loss: 0.3091..  Val Loss: 0.3650..  Train Acc: 0.8899..  Val Acc: 0.8720.. \n",
            "Epoch: 25/150..  Train Loss: 0.3073..  Val Loss: 0.3715..  Train Acc: 0.8904..  Val Acc: 0.8704.. \n",
            "Epoch: 26/150..  Train Loss: 0.3054..  Val Loss: 0.3797..  Train Acc: 0.8909..  Val Acc: 0.8677.. \n",
            "Epoch: 27/150..  Train Loss: 0.3038..  Val Loss: 0.3906..  Train Acc: 0.8913..  Val Acc: 0.8644.. \n",
            "Epoch: 28/150..  Train Loss: 0.3022..  Val Loss: 0.3876..  Train Acc: 0.8917..  Val Acc: 0.8651.. \n",
            "Epoch: 29/150..  Train Loss: 0.3006..  Val Loss: 0.3741..  Train Acc: 0.8922..  Val Acc: 0.8696.. \n",
            "Epoch: 30/150..  Train Loss: 0.2991..  Val Loss: 0.3898..  Train Acc: 0.8926..  Val Acc: 0.8643.. \n",
            "Epoch: 31/150..  Train Loss: 0.2977..  Val Loss: 0.3805..  Train Acc: 0.8930..  Val Acc: 0.8670.. \n",
            "Epoch: 32/150..  Train Loss: 0.2964..  Val Loss: 0.3761..  Train Acc: 0.8934..  Val Acc: 0.8687.. \n",
            "Epoch: 33/150..  Train Loss: 0.2951..  Val Loss: 0.3882..  Train Acc: 0.8938..  Val Acc: 0.8650.. \n",
            "Epoch: 34/150..  Train Loss: 0.2938..  Val Loss: 0.3721..  Train Acc: 0.8941..  Val Acc: 0.8703.. \n",
            "Epoch: 35/150..  Train Loss: 0.2926..  Val Loss: 0.3598..  Train Acc: 0.8946..  Val Acc: 0.8743.. \n",
            "Epoch: 36/150..  Train Loss: 0.2914..  Val Loss: 0.3596..  Train Acc: 0.8949..  Val Acc: 0.8743.. \n",
            "Epoch: 37/150..  Train Loss: 0.2903..  Val Loss: 0.3637..  Train Acc: 0.8952..  Val Acc: 0.8735.. \n",
            "Epoch: 38/150..  Train Loss: 0.2892..  Val Loss: 0.3530..  Train Acc: 0.8955..  Val Acc: 0.8765.. \n",
            "Epoch: 39/150..  Train Loss: 0.2881..  Val Loss: 0.3597..  Train Acc: 0.8959..  Val Acc: 0.8745.. \n",
            "Epoch: 40/150..  Train Loss: 0.2871..  Val Loss: 0.3461..  Train Acc: 0.8961..  Val Acc: 0.8781.. \n",
            "Epoch: 41/150..  Train Loss: 0.2860..  Val Loss: 0.3549..  Train Acc: 0.8965..  Val Acc: 0.8753.. \n",
            "Epoch: 42/150..  Train Loss: 0.2851..  Val Loss: 0.3456..  Train Acc: 0.8966..  Val Acc: 0.8784.. \n",
            "Epoch: 43/150..  Train Loss: 0.2841..  Val Loss: 0.3511..  Train Acc: 0.8970..  Val Acc: 0.8771.. \n",
            "Epoch: 44/150..  Train Loss: 0.2832..  Val Loss: 0.3491..  Train Acc: 0.8973..  Val Acc: 0.8771.. \n",
            "Epoch: 45/150..  Train Loss: 0.2823..  Val Loss: 0.3584..  Train Acc: 0.8975..  Val Acc: 0.8744.. \n",
            "Epoch: 46/150..  Train Loss: 0.2814..  Val Loss: 0.3576..  Train Acc: 0.8978..  Val Acc: 0.8750.. \n",
            "Epoch: 47/150..  Train Loss: 0.2805..  Val Loss: 0.3701..  Train Acc: 0.8981..  Val Acc: 0.8715.. \n",
            "Epoch: 48/150..  Train Loss: 0.2796..  Val Loss: 0.3462..  Train Acc: 0.8984..  Val Acc: 0.8786.. \n",
            "Epoch: 49/150..  Train Loss: 0.2789..  Val Loss: 0.3431..  Train Acc: 0.8986..  Val Acc: 0.8799.. \n",
            "Epoch: 50/150..  Train Loss: 0.2780..  Val Loss: 0.3436..  Train Acc: 0.8987..  Val Acc: 0.8797.. \n",
            "Epoch: 51/150..  Train Loss: 0.2773..  Val Loss: 0.3324..  Train Acc: 0.8989..  Val Acc: 0.8833.. \n",
            "Epoch: 52/150..  Train Loss: 0.2765..  Val Loss: 0.3368..  Train Acc: 0.8991..  Val Acc: 0.8813.. \n",
            "Epoch: 53/150..  Train Loss: 0.2758..  Val Loss: 0.3359..  Train Acc: 0.8994..  Val Acc: 0.8813.. \n",
            "Epoch: 54/150..  Train Loss: 0.2750..  Val Loss: 0.3248..  Train Acc: 0.8997..  Val Acc: 0.8849.. \n",
            "Epoch: 55/150..  Train Loss: 0.2743..  Val Loss: 0.3341..  Train Acc: 0.8998..  Val Acc: 0.8825.. \n",
            "Epoch: 56/150..  Train Loss: 0.2736..  Val Loss: 0.3139..  Train Acc: 0.9000..  Val Acc: 0.8886.. \n",
            "Epoch: 57/150..  Train Loss: 0.2729..  Val Loss: 0.3178..  Train Acc: 0.9002..  Val Acc: 0.8870.. \n",
            "Epoch: 58/150..  Train Loss: 0.2722..  Val Loss: 0.3096..  Train Acc: 0.9005..  Val Acc: 0.8895.. \n",
            "Epoch: 59/150..  Train Loss: 0.2715..  Val Loss: 0.3190..  Train Acc: 0.9006..  Val Acc: 0.8866.. \n",
            "Epoch: 60/150..  Train Loss: 0.2710..  Val Loss: 0.3137..  Train Acc: 0.9007..  Val Acc: 0.8887.. \n",
            "Epoch: 61/150..  Train Loss: 0.2703..  Val Loss: 0.3255..  Train Acc: 0.9010..  Val Acc: 0.8857.. \n",
            "Epoch: 62/150..  Train Loss: 0.2697..  Val Loss: 0.3090..  Train Acc: 0.9011..  Val Acc: 0.8904.. \n",
            "Epoch: 63/150..  Train Loss: 0.2690..  Val Loss: 0.3112..  Train Acc: 0.9014..  Val Acc: 0.8893.. \n",
            "Epoch: 64/150..  Train Loss: 0.2684..  Val Loss: 0.3126..  Train Acc: 0.9016..  Val Acc: 0.8891.. \n",
            "Epoch: 65/150..  Train Loss: 0.2678..  Val Loss: 0.3203..  Train Acc: 0.9017..  Val Acc: 0.8879.. \n",
            "Epoch: 66/150..  Train Loss: 0.2672..  Val Loss: 0.3104..  Train Acc: 0.9019..  Val Acc: 0.8906.. \n",
            "Epoch: 67/150..  Train Loss: 0.2667..  Val Loss: 0.3156..  Train Acc: 0.9021..  Val Acc: 0.8889.. \n",
            "Epoch: 68/150..  Train Loss: 0.2661..  Val Loss: 0.3081..  Train Acc: 0.9023..  Val Acc: 0.8915.. \n",
            "Epoch: 69/150..  Train Loss: 0.2655..  Val Loss: 0.3109..  Train Acc: 0.9023..  Val Acc: 0.8905.. \n",
            "Epoch: 70/150..  Train Loss: 0.2650..  Val Loss: 0.3126..  Train Acc: 0.9025..  Val Acc: 0.8902.. \n",
            "Epoch: 71/150..  Train Loss: 0.2644..  Val Loss: 0.3059..  Train Acc: 0.9026..  Val Acc: 0.8927.. \n",
            "Epoch: 72/150..  Train Loss: 0.2638..  Val Loss: 0.2976..  Train Acc: 0.9028..  Val Acc: 0.8944.. \n",
            "Epoch: 73/150..  Train Loss: 0.2634..  Val Loss: 0.3019..  Train Acc: 0.9029..  Val Acc: 0.8934.. \n",
            "Epoch: 74/150..  Train Loss: 0.2629..  Val Loss: 0.2951..  Train Acc: 0.9032..  Val Acc: 0.8951.. \n",
            "Epoch: 75/150..  Train Loss: 0.2624..  Val Loss: 0.2956..  Train Acc: 0.9032..  Val Acc: 0.8951.. \n",
            "Epoch: 76/150..  Train Loss: 0.2619..  Val Loss: 0.2957..  Train Acc: 0.9034..  Val Acc: 0.8954.. \n",
            "Epoch: 77/150..  Train Loss: 0.2614..  Val Loss: 0.2971..  Train Acc: 0.9035..  Val Acc: 0.8955.. \n",
            "Epoch: 78/150..  Train Loss: 0.2609..  Val Loss: 0.3028..  Train Acc: 0.9038..  Val Acc: 0.8933.. \n",
            "Epoch: 79/150..  Train Loss: 0.2604..  Val Loss: 0.2920..  Train Acc: 0.9038..  Val Acc: 0.8962.. \n",
            "Epoch: 80/150..  Train Loss: 0.2599..  Val Loss: 0.2942..  Train Acc: 0.9039..  Val Acc: 0.8957.. \n",
            "Epoch: 81/150..  Train Loss: 0.2595..  Val Loss: 0.2890..  Train Acc: 0.9041..  Val Acc: 0.8967.. \n",
            "Epoch: 82/150..  Train Loss: 0.2591..  Val Loss: 0.2920..  Train Acc: 0.9042..  Val Acc: 0.8966.. \n",
            "Epoch: 83/150..  Train Loss: 0.2586..  Val Loss: 0.2879..  Train Acc: 0.9046..  Val Acc: 0.8976.. \n",
            "Epoch: 84/150..  Train Loss: 0.2582..  Val Loss: 0.2923..  Train Acc: 0.9047..  Val Acc: 0.8966.. \n",
            "Epoch: 85/150..  Train Loss: 0.2578..  Val Loss: 0.2954..  Train Acc: 0.9046..  Val Acc: 0.8959.. \n",
            "Epoch: 86/150..  Train Loss: 0.2573..  Val Loss: 0.2927..  Train Acc: 0.9048..  Val Acc: 0.8960.. \n",
            "Epoch: 87/150..  Train Loss: 0.2570..  Val Loss: 0.2904..  Train Acc: 0.9049..  Val Acc: 0.8967.. \n",
            "Epoch: 88/150..  Train Loss: 0.2565..  Val Loss: 0.2946..  Train Acc: 0.9050..  Val Acc: 0.8962.. \n",
            "Epoch: 89/150..  Train Loss: 0.2561..  Val Loss: 0.2950..  Train Acc: 0.9051..  Val Acc: 0.8960.. \n",
            "Epoch: 90/150..  Train Loss: 0.2557..  Val Loss: 0.2896..  Train Acc: 0.9053..  Val Acc: 0.8973.. \n",
            "Epoch: 91/150..  Train Loss: 0.2552..  Val Loss: 0.2950..  Train Acc: 0.9054..  Val Acc: 0.8961.. \n",
            "Epoch: 92/150..  Train Loss: 0.2548..  Val Loss: 0.2952..  Train Acc: 0.9056..  Val Acc: 0.8960.. \n",
            "Epoch: 93/150..  Train Loss: 0.2545..  Val Loss: 0.2972..  Train Acc: 0.9057..  Val Acc: 0.8957.. \n",
            "Epoch: 94/150..  Train Loss: 0.2540..  Val Loss: 0.2939..  Train Acc: 0.9058..  Val Acc: 0.8958.. \n",
            "Epoch: 95/150..  Train Loss: 0.2537..  Val Loss: 0.2866..  Train Acc: 0.9060..  Val Acc: 0.8981.. \n",
            "Epoch: 96/150..  Train Loss: 0.2533..  Val Loss: 0.2924..  Train Acc: 0.9062..  Val Acc: 0.8964.. \n",
            "Epoch: 97/150..  Train Loss: 0.2529..  Val Loss: 0.2938..  Train Acc: 0.9062..  Val Acc: 0.8963.. \n",
            "Epoch: 98/150..  Train Loss: 0.2525..  Val Loss: 0.2947..  Train Acc: 0.9065..  Val Acc: 0.8957.. \n",
            "Epoch: 99/150..  Train Loss: 0.2522..  Val Loss: 0.2982..  Train Acc: 0.9065..  Val Acc: 0.8948.. \n",
            "Epoch: 100/150..  Train Loss: 0.2518..  Val Loss: 0.2996..  Train Acc: 0.9066..  Val Acc: 0.8945.. \n",
            "Epoch: 101/150..  Train Loss: 0.2515..  Val Loss: 0.2893..  Train Acc: 0.9066..  Val Acc: 0.8974.. \n",
            "Epoch: 102/150..  Train Loss: 0.2511..  Val Loss: 0.2967..  Train Acc: 0.9068..  Val Acc: 0.8951.. \n",
            "Epoch: 103/150..  Train Loss: 0.2508..  Val Loss: 0.2903..  Train Acc: 0.9069..  Val Acc: 0.8969.. \n",
            "Epoch: 104/150..  Train Loss: 0.2504..  Val Loss: 0.2870..  Train Acc: 0.9069..  Val Acc: 0.8975.. \n",
            "Epoch: 105/150..  Train Loss: 0.2501..  Val Loss: 0.2940..  Train Acc: 0.9070..  Val Acc: 0.8960.. \n",
            "Epoch: 106/150..  Train Loss: 0.2498..  Val Loss: 0.2910..  Train Acc: 0.9073..  Val Acc: 0.8966.. \n",
            "Epoch: 107/150..  Train Loss: 0.2494..  Val Loss: 0.2907..  Train Acc: 0.9074..  Val Acc: 0.8965.. \n",
            "Epoch: 108/150..  Train Loss: 0.2491..  Val Loss: 0.2924..  Train Acc: 0.9075..  Val Acc: 0.8965.. \n",
            "Epoch: 109/150..  Train Loss: 0.2488..  Val Loss: 0.2923..  Train Acc: 0.9075..  Val Acc: 0.8962.. \n",
            "Epoch: 110/150..  Train Loss: 0.2484..  Val Loss: 0.2836..  Train Acc: 0.9077..  Val Acc: 0.8984.. \n",
            "Epoch: 111/150..  Train Loss: 0.2482..  Val Loss: 0.2953..  Train Acc: 0.9077..  Val Acc: 0.8954.. \n",
            "Epoch: 112/150..  Train Loss: 0.2478..  Val Loss: 0.2900..  Train Acc: 0.9077..  Val Acc: 0.8972.. \n",
            "Epoch: 113/150..  Train Loss: 0.2475..  Val Loss: 0.2829..  Train Acc: 0.9079..  Val Acc: 0.8985.. \n",
            "Epoch: 114/150..  Train Loss: 0.2472..  Val Loss: 0.2918..  Train Acc: 0.9080..  Val Acc: 0.8970.. \n",
            "Epoch: 115/150..  Train Loss: 0.2469..  Val Loss: 0.2859..  Train Acc: 0.9081..  Val Acc: 0.8982.. \n",
            "Epoch: 116/150..  Train Loss: 0.2466..  Val Loss: 0.2868..  Train Acc: 0.9083..  Val Acc: 0.8979.. \n",
            "Epoch: 117/150..  Train Loss: 0.2463..  Val Loss: 0.2904..  Train Acc: 0.9083..  Val Acc: 0.8974.. \n",
            "Epoch: 118/150..  Train Loss: 0.2459..  Val Loss: 0.2881..  Train Acc: 0.9085..  Val Acc: 0.8980.. \n",
            "Epoch: 119/150..  Train Loss: 0.2457..  Val Loss: 0.2833..  Train Acc: 0.9085..  Val Acc: 0.8989.. \n",
            "Epoch: 120/150..  Train Loss: 0.2453..  Val Loss: 0.2808..  Train Acc: 0.9087..  Val Acc: 0.8995.. \n",
            "Epoch: 121/150..  Train Loss: 0.2450..  Val Loss: 0.2825..  Train Acc: 0.9087..  Val Acc: 0.8994.. \n",
            "Epoch: 122/150..  Train Loss: 0.2448..  Val Loss: 0.2865..  Train Acc: 0.9089..  Val Acc: 0.8984.. \n",
            "Epoch: 123/150..  Train Loss: 0.2445..  Val Loss: 0.2803..  Train Acc: 0.9089..  Val Acc: 0.8996.. \n",
            "Epoch: 124/150..  Train Loss: 0.2442..  Val Loss: 0.2840..  Train Acc: 0.9089..  Val Acc: 0.8986.. \n",
            "Epoch: 125/150..  Train Loss: 0.2439..  Val Loss: 0.2847..  Train Acc: 0.9091..  Val Acc: 0.8986.. \n",
            "Epoch: 126/150..  Train Loss: 0.2436..  Val Loss: 0.2839..  Train Acc: 0.9092..  Val Acc: 0.8985.. \n",
            "Epoch: 127/150..  Train Loss: 0.2433..  Val Loss: 0.2822..  Train Acc: 0.9092..  Val Acc: 0.8989.. \n",
            "Epoch: 128/150..  Train Loss: 0.2430..  Val Loss: 0.2851..  Train Acc: 0.9094..  Val Acc: 0.8981.. \n",
            "Epoch: 129/150..  Train Loss: 0.2428..  Val Loss: 0.2819..  Train Acc: 0.9094..  Val Acc: 0.8992.. \n",
            "Epoch: 130/150..  Train Loss: 0.2425..  Val Loss: 0.2722..  Train Acc: 0.9094..  Val Acc: 0.9018.. \n",
            "Epoch: 131/150..  Train Loss: 0.2423..  Val Loss: 0.2737..  Train Acc: 0.9096..  Val Acc: 0.9016.. \n",
            "Epoch: 132/150..  Train Loss: 0.2420..  Val Loss: 0.2698..  Train Acc: 0.9097..  Val Acc: 0.9023.. \n",
            "Epoch: 133/150..  Train Loss: 0.2417..  Val Loss: 0.2781..  Train Acc: 0.9097..  Val Acc: 0.9000.. \n",
            "Epoch: 134/150..  Train Loss: 0.2415..  Val Loss: 0.2780..  Train Acc: 0.9099..  Val Acc: 0.8999.. \n",
            "Epoch: 135/150..  Train Loss: 0.2412..  Val Loss: 0.2723..  Train Acc: 0.9099..  Val Acc: 0.9014.. \n",
            "Epoch: 136/150..  Train Loss: 0.2409..  Val Loss: 0.2769..  Train Acc: 0.9102..  Val Acc: 0.9003.. \n",
            "Epoch: 137/150..  Train Loss: 0.2407..  Val Loss: 0.2790..  Train Acc: 0.9102..  Val Acc: 0.8996.. \n",
            "Epoch: 138/150..  Train Loss: 0.2404..  Val Loss: 0.2806..  Train Acc: 0.9102..  Val Acc: 0.8992.. \n",
            "Epoch: 139/150..  Train Loss: 0.2402..  Val Loss: 0.2817..  Train Acc: 0.9103..  Val Acc: 0.8990.. \n",
            "Epoch: 140/150..  Train Loss: 0.2399..  Val Loss: 0.2808..  Train Acc: 0.9104..  Val Acc: 0.8994.. \n",
            "Epoch: 141/150..  Train Loss: 0.2396..  Val Loss: 0.2824..  Train Acc: 0.9104..  Val Acc: 0.8991.. \n",
            "Epoch: 142/150..  Train Loss: 0.2394..  Val Loss: 0.2753..  Train Acc: 0.9105..  Val Acc: 0.9012.. \n",
            "Epoch: 143/150..  Train Loss: 0.2392..  Val Loss: 0.2783..  Train Acc: 0.9108..  Val Acc: 0.9000.. \n",
            "Epoch: 144/150..  Train Loss: 0.2389..  Val Loss: 0.2796..  Train Acc: 0.9107..  Val Acc: 0.8999.. \n",
            "Epoch: 145/150..  Train Loss: 0.2387..  Val Loss: 0.2769..  Train Acc: 0.9108..  Val Acc: 0.9004.. \n",
            "Epoch: 146/150..  Train Loss: 0.2385..  Val Loss: 0.2728..  Train Acc: 0.9108..  Val Acc: 0.9016.. \n",
            "Epoch: 147/150..  Train Loss: 0.2382..  Val Loss: 0.2689..  Train Acc: 0.9109..  Val Acc: 0.9021.. \n",
            "Epoch: 148/150..  Train Loss: 0.2379..  Val Loss: 0.2721..  Train Acc: 0.9111..  Val Acc: 0.9017.. \n",
            "Epoch: 149/150..  Train Loss: 0.2378..  Val Loss: 0.2741..  Train Acc: 0.9110..  Val Acc: 0.9014.. \n",
            "Epoch: 150/150..  Train Loss: 0.2376..  Val Loss: 0.2697..  Train Acc: 0.9112..  Val Acc: 0.9021.. \n"
          ],
          "name": "stdout"
        },
        {
          "output_type": "display_data",
          "data": {
            "image/png": "[encoded data removed]",
            "text/plain": [
              "<Figure size 864x432 with 2 Axes>"
            ]
          },
          "metadata": {
            "tags": [],
            "needs_background": "light"
          }
        },
        {
          "output_type": "stream",
          "text": [
            "Acurácia de teste: 90.27%\n",
            "Acurácia de treinamento: 91.12%\n",
            "Acurácia de validação: 90.21%\n"
          ],
          "name": "stdout"
        }
      ]
    },
    {
      "cell_type": "code",
      "metadata": {
        "colab": {
          "base_uri": "https://localhost:8080/",
          "height": 1000
        },
        "id": "Un5zRHb8UPGW",
        "outputId": "893cccb1-0d24-4f8e-ff1d-a901c2bc9b59"
      },
      "source": [
        "params1 = dict()\n",
        "params1['EPOCHS'] = 150\n",
        "params1['BATCH_SIZE'] = 64\n",
        "params1['LEARNING_RATE'] = 0.05\n",
        "params1['CRITERION'] = nn.CrossEntropyLoss()\n",
        "params1['OPTIMIZER'] = 'SGD'\n",
        "\n",
        "model1 = nn.Sequential(\n",
        "          nn.Linear(NUM_FEATURES, 512),\n",
        "          nn.ReLU(),\n",
        "          nn.Linear(512, 256),\n",
        "          nn.ReLU(),\n",
        "          nn.Linear(256, 128),\n",
        "          nn.ReLU(),\n",
        "          nn.Linear(128, NUM_CLASSES)\n",
        "        )\n",
        "\n",
        "execute_model(model1, params1)"
      ],
      "execution_count": null,
      "outputs": [
        {
          "output_type": "stream",
          "text": [
            "Shape X_train (936408, 112)\n",
            "Shape y_train (936408,)\n",
            "Shape X_val (117052, 112)\n",
            "Shape y_val (117052,)\n",
            "Shape X_test (117051, 112)\n",
            "Shape y_test (117051,)\n",
            "Len DF original 1170511\n",
            "Len train + val + test 1170511\n",
            "Sequential(\n",
            "  (0): Linear(in_features=112, out_features=512, bias=True)\n",
            "  (1): ReLU()\n",
            "  (2): Linear(in_features=512, out_features=256, bias=True)\n",
            "  (3): ReLU()\n",
            "  (4): Linear(in_features=256, out_features=128, bias=True)\n",
            "  (5): ReLU()\n",
            "  (6): Linear(in_features=128, out_features=12, bias=True)\n",
            ")\n",
            "Epoch: 1/150..  Train Loss: 0.7045..  Val Loss: 0.7263..  Train Acc: 0.7560..  Val Acc: 0.7456.. \n",
            "Epoch: 2/150..  Train Loss: 0.5161..  Val Loss: 0.5594..  Train Acc: 0.8230..  Val Acc: 0.8049.. \n",
            "Epoch: 3/150..  Train Loss: 0.4546..  Val Loss: 0.5315..  Train Acc: 0.8436..  Val Acc: 0.8155.. \n",
            "Epoch: 4/150..  Train Loss: 0.4191..  Val Loss: 0.5190..  Train Acc: 0.8551..  Val Acc: 0.8198.. \n",
            "Epoch: 5/150..  Train Loss: 0.3950..  Val Loss: 0.4594..  Train Acc: 0.8628..  Val Acc: 0.8408.. \n",
            "Epoch: 6/150..  Train Loss: 0.3777..  Val Loss: 0.4460..  Train Acc: 0.8683..  Val Acc: 0.8441.. \n",
            "Epoch: 7/150..  Train Loss: 0.3648..  Val Loss: 0.4718..  Train Acc: 0.8724..  Val Acc: 0.8365.. \n",
            "Epoch: 8/150..  Train Loss: 0.3545..  Val Loss: 0.4351..  Train Acc: 0.8756..  Val Acc: 0.8481.. \n",
            "Epoch: 9/150..  Train Loss: 0.3458..  Val Loss: 0.4577..  Train Acc: 0.8782..  Val Acc: 0.8405.. \n",
            "Epoch: 10/150..  Train Loss: 0.3386..  Val Loss: 0.4654..  Train Acc: 0.8805..  Val Acc: 0.8384.. \n",
            "Epoch: 11/150..  Train Loss: 0.3325..  Val Loss: 0.4037..  Train Acc: 0.8823..  Val Acc: 0.8591.. \n",
            "Epoch: 12/150..  Train Loss: 0.3271..  Val Loss: 0.4028..  Train Acc: 0.8839..  Val Acc: 0.8592.. \n",
            "Epoch: 13/150..  Train Loss: 0.3226..  Val Loss: 0.3839..  Train Acc: 0.8850..  Val Acc: 0.8658.. \n",
            "Epoch: 14/150..  Train Loss: 0.3184..  Val Loss: 0.3616..  Train Acc: 0.8864..  Val Acc: 0.8731.. \n",
            "Epoch: 15/150..  Train Loss: 0.3148..  Val Loss: 0.3566..  Train Acc: 0.8875..  Val Acc: 0.8746.. \n",
            "Epoch: 16/150..  Train Loss: 0.3115..  Val Loss: 0.3481..  Train Acc: 0.8886..  Val Acc: 0.8780.. \n",
            "Epoch: 17/150..  Train Loss: 0.3085..  Val Loss: 0.3634..  Train Acc: 0.8893..  Val Acc: 0.8729.. \n",
            "Epoch: 18/150..  Train Loss: 0.3057..  Val Loss: 0.3455..  Train Acc: 0.8904..  Val Acc: 0.8786.. \n",
            "Epoch: 19/150..  Train Loss: 0.3031..  Val Loss: 0.3545..  Train Acc: 0.8912..  Val Acc: 0.8760.. \n",
            "Epoch: 20/150..  Train Loss: 0.3008..  Val Loss: 0.3406..  Train Acc: 0.8917..  Val Acc: 0.8802.. \n",
            "Epoch: 21/150..  Train Loss: 0.2986..  Val Loss: 0.3499..  Train Acc: 0.8923..  Val Acc: 0.8771.. \n",
            "Epoch: 22/150..  Train Loss: 0.2965..  Val Loss: 0.3365..  Train Acc: 0.8931..  Val Acc: 0.8813.. \n",
            "Epoch: 23/150..  Train Loss: 0.2945..  Val Loss: 0.3344..  Train Acc: 0.8936..  Val Acc: 0.8824.. \n",
            "Epoch: 24/150..  Train Loss: 0.2927..  Val Loss: 0.3371..  Train Acc: 0.8942..  Val Acc: 0.8813.. \n",
            "Epoch: 25/150..  Train Loss: 0.2910..  Val Loss: 0.3301..  Train Acc: 0.8948..  Val Acc: 0.8835.. \n",
            "Epoch: 26/150..  Train Loss: 0.2893..  Val Loss: 0.3118..  Train Acc: 0.8953..  Val Acc: 0.8892.. \n",
            "Epoch: 27/150..  Train Loss: 0.2877..  Val Loss: 0.3188..  Train Acc: 0.8957..  Val Acc: 0.8866.. \n",
            "Epoch: 28/150..  Train Loss: 0.2864..  Val Loss: 0.3133..  Train Acc: 0.8962..  Val Acc: 0.8884.. \n",
            "Epoch: 29/150..  Train Loss: 0.2848..  Val Loss: 0.3377..  Train Acc: 0.8967..  Val Acc: 0.8811.. \n",
            "Epoch: 30/150..  Train Loss: 0.2834..  Val Loss: 0.3320..  Train Acc: 0.8969..  Val Acc: 0.8827.. \n",
            "Epoch: 31/150..  Train Loss: 0.2822..  Val Loss: 0.3300..  Train Acc: 0.8974..  Val Acc: 0.8836.. \n",
            "Epoch: 32/150..  Train Loss: 0.2809..  Val Loss: 0.3477..  Train Acc: 0.8977..  Val Acc: 0.8773.. \n",
            "Epoch: 33/150..  Train Loss: 0.2797..  Val Loss: 0.3146..  Train Acc: 0.8981..  Val Acc: 0.8881.. \n",
            "Epoch: 34/150..  Train Loss: 0.2785..  Val Loss: 0.3129..  Train Acc: 0.8985..  Val Acc: 0.8889.. \n",
            "Epoch: 35/150..  Train Loss: 0.2773..  Val Loss: 0.3217..  Train Acc: 0.8988..  Val Acc: 0.8858.. \n",
            "Epoch: 36/150..  Train Loss: 0.2762..  Val Loss: 0.3023..  Train Acc: 0.8991..  Val Acc: 0.8927.. \n",
            "Epoch: 37/150..  Train Loss: 0.2751..  Val Loss: 0.3148..  Train Acc: 0.8994..  Val Acc: 0.8884.. \n",
            "Epoch: 38/150..  Train Loss: 0.2741..  Val Loss: 0.3255..  Train Acc: 0.8998..  Val Acc: 0.8851.. \n",
            "Epoch: 39/150..  Train Loss: 0.2731..  Val Loss: 0.3175..  Train Acc: 0.9000..  Val Acc: 0.8877.. \n",
            "Epoch: 40/150..  Train Loss: 0.2720..  Val Loss: 0.3264..  Train Acc: 0.9003..  Val Acc: 0.8847.. \n",
            "Epoch: 41/150..  Train Loss: 0.2711..  Val Loss: 0.3060..  Train Acc: 0.9007..  Val Acc: 0.8908.. \n",
            "Epoch: 42/150..  Train Loss: 0.2702..  Val Loss: 0.3042..  Train Acc: 0.9009..  Val Acc: 0.8916.. \n",
            "Epoch: 43/150..  Train Loss: 0.2693..  Val Loss: 0.2956..  Train Acc: 0.9012..  Val Acc: 0.8945.. \n",
            "Epoch: 44/150..  Train Loss: 0.2684..  Val Loss: 0.2872..  Train Acc: 0.9015..  Val Acc: 0.8981.. \n",
            "Epoch: 45/150..  Train Loss: 0.2675..  Val Loss: 0.2963..  Train Acc: 0.9016..  Val Acc: 0.8942.. \n",
            "Epoch: 46/150..  Train Loss: 0.2666..  Val Loss: 0.2911..  Train Acc: 0.9020..  Val Acc: 0.8963.. \n",
            "Epoch: 47/150..  Train Loss: 0.2659..  Val Loss: 0.2851..  Train Acc: 0.9022..  Val Acc: 0.8982.. \n",
            "Epoch: 48/150..  Train Loss: 0.2650..  Val Loss: 0.3051..  Train Acc: 0.9025..  Val Acc: 0.8907.. \n",
            "Epoch: 49/150..  Train Loss: 0.2643..  Val Loss: 0.3020..  Train Acc: 0.9026..  Val Acc: 0.8917.. \n",
            "Epoch: 50/150..  Train Loss: 0.2634..  Val Loss: 0.2917..  Train Acc: 0.9028..  Val Acc: 0.8957.. \n",
            "Epoch: 51/150..  Train Loss: 0.2626..  Val Loss: 0.3064..  Train Acc: 0.9032..  Val Acc: 0.8906.. \n",
            "Epoch: 52/150..  Train Loss: 0.2619..  Val Loss: 0.2968..  Train Acc: 0.9033..  Val Acc: 0.8940.. \n",
            "Epoch: 53/150..  Train Loss: 0.2612..  Val Loss: 0.3090..  Train Acc: 0.9035..  Val Acc: 0.8896.. \n",
            "Epoch: 54/150..  Train Loss: 0.2605..  Val Loss: 0.3082..  Train Acc: 0.9038..  Val Acc: 0.8899.. \n",
            "Epoch: 55/150..  Train Loss: 0.2598..  Val Loss: 0.2968..  Train Acc: 0.9040..  Val Acc: 0.8939.. \n",
            "Epoch: 56/150..  Train Loss: 0.2590..  Val Loss: 0.2953..  Train Acc: 0.9042..  Val Acc: 0.8949.. \n",
            "Epoch: 57/150..  Train Loss: 0.2582..  Val Loss: 0.2874..  Train Acc: 0.9044..  Val Acc: 0.8974.. \n",
            "Epoch: 58/150..  Train Loss: 0.2576..  Val Loss: 0.2954..  Train Acc: 0.9046..  Val Acc: 0.8945.. \n",
            "Epoch: 59/150..  Train Loss: 0.2570..  Val Loss: 0.2874..  Train Acc: 0.9049..  Val Acc: 0.8970.. \n",
            "Epoch: 60/150..  Train Loss: 0.2562..  Val Loss: 0.2906..  Train Acc: 0.9051..  Val Acc: 0.8963.. \n",
            "Epoch: 61/150..  Train Loss: 0.2556..  Val Loss: 0.2924..  Train Acc: 0.9052..  Val Acc: 0.8955.. \n",
            "Epoch: 62/150..  Train Loss: 0.2550..  Val Loss: 0.2887..  Train Acc: 0.9054..  Val Acc: 0.8969.. \n",
            "Epoch: 63/150..  Train Loss: 0.2543..  Val Loss: 0.2870..  Train Acc: 0.9057..  Val Acc: 0.8972.. \n",
            "Epoch: 64/150..  Train Loss: 0.2537..  Val Loss: 0.2855..  Train Acc: 0.9059..  Val Acc: 0.8974.. \n",
            "Epoch: 65/150..  Train Loss: 0.2531..  Val Loss: 0.2872..  Train Acc: 0.9060..  Val Acc: 0.8978.. \n",
            "Epoch: 66/150..  Train Loss: 0.2524..  Val Loss: 0.2830..  Train Acc: 0.9062..  Val Acc: 0.8986.. \n",
            "Epoch: 67/150..  Train Loss: 0.2518..  Val Loss: 0.2803..  Train Acc: 0.9062..  Val Acc: 0.9001.. \n",
            "Epoch: 68/150..  Train Loss: 0.2513..  Val Loss: 0.2816..  Train Acc: 0.9063..  Val Acc: 0.8995.. \n",
            "Epoch: 69/150..  Train Loss: 0.2507..  Val Loss: 0.2819..  Train Acc: 0.9067..  Val Acc: 0.9001.. \n",
            "Epoch: 70/150..  Train Loss: 0.2501..  Val Loss: 0.2776..  Train Acc: 0.9067..  Val Acc: 0.9014.. \n",
            "Epoch: 71/150..  Train Loss: 0.2495..  Val Loss: 0.2775..  Train Acc: 0.9071..  Val Acc: 0.9013.. \n",
            "Epoch: 72/150..  Train Loss: 0.2489..  Val Loss: 0.2761..  Train Acc: 0.9073..  Val Acc: 0.9016.. \n",
            "Epoch: 73/150..  Train Loss: 0.2483..  Val Loss: 0.2723..  Train Acc: 0.9075..  Val Acc: 0.9028.. \n",
            "Epoch: 74/150..  Train Loss: 0.2478..  Val Loss: 0.2667..  Train Acc: 0.9076..  Val Acc: 0.9046.. \n",
            "Epoch: 75/150..  Train Loss: 0.2472..  Val Loss: 0.2678..  Train Acc: 0.9079..  Val Acc: 0.9042.. \n",
            "Epoch: 76/150..  Train Loss: 0.2467..  Val Loss: 0.2679..  Train Acc: 0.9081..  Val Acc: 0.9042.. \n",
            "Epoch: 77/150..  Train Loss: 0.2461..  Val Loss: 0.2739..  Train Acc: 0.9083..  Val Acc: 0.9030.. \n",
            "Epoch: 78/150..  Train Loss: 0.2456..  Val Loss: 0.2678..  Train Acc: 0.9083..  Val Acc: 0.9046.. \n",
            "Epoch: 79/150..  Train Loss: 0.2451..  Val Loss: 0.2682..  Train Acc: 0.9085..  Val Acc: 0.9039.. \n",
            "Epoch: 80/150..  Train Loss: 0.2447..  Val Loss: 0.2677..  Train Acc: 0.9086..  Val Acc: 0.9043.. \n",
            "Epoch: 81/150..  Train Loss: 0.2441..  Val Loss: 0.2657..  Train Acc: 0.9087..  Val Acc: 0.9050.. \n",
            "Epoch: 82/150..  Train Loss: 0.2435..  Val Loss: 0.2681..  Train Acc: 0.9089..  Val Acc: 0.9045.. \n",
            "Epoch: 83/150..  Train Loss: 0.2431..  Val Loss: 0.2666..  Train Acc: 0.9090..  Val Acc: 0.9042.. \n",
            "Epoch: 84/150..  Train Loss: 0.2427..  Val Loss: 0.2654..  Train Acc: 0.9091..  Val Acc: 0.9049.. \n",
            "Epoch: 85/150..  Train Loss: 0.2421..  Val Loss: 0.2671..  Train Acc: 0.9093..  Val Acc: 0.9045.. \n",
            "Epoch: 86/150..  Train Loss: 0.2417..  Val Loss: 0.2654..  Train Acc: 0.9094..  Val Acc: 0.9046.. \n",
            "Epoch: 87/150..  Train Loss: 0.2411..  Val Loss: 0.2653..  Train Acc: 0.9095..  Val Acc: 0.9045.. \n",
            "Epoch: 88/150..  Train Loss: 0.2408..  Val Loss: 0.2691..  Train Acc: 0.9096..  Val Acc: 0.9032.. \n",
            "Epoch: 89/150..  Train Loss: 0.2403..  Val Loss: 0.2692..  Train Acc: 0.9098..  Val Acc: 0.9033.. \n",
            "Epoch: 90/150..  Train Loss: 0.2398..  Val Loss: 0.2648..  Train Acc: 0.9098..  Val Acc: 0.9051.. \n",
            "Epoch: 91/150..  Train Loss: 0.2393..  Val Loss: 0.2672..  Train Acc: 0.9100..  Val Acc: 0.9037.. \n",
            "Epoch: 92/150..  Train Loss: 0.2389..  Val Loss: 0.2653..  Train Acc: 0.9102..  Val Acc: 0.9045.. \n",
            "Epoch: 93/150..  Train Loss: 0.2384..  Val Loss: 0.2645..  Train Acc: 0.9102..  Val Acc: 0.9049.. \n",
            "Epoch: 94/150..  Train Loss: 0.2381..  Val Loss: 0.2706..  Train Acc: 0.9103..  Val Acc: 0.9028.. \n",
            "Epoch: 95/150..  Train Loss: 0.2376..  Val Loss: 0.2671..  Train Acc: 0.9105..  Val Acc: 0.9038.. \n",
            "Epoch: 96/150..  Train Loss: 0.2372..  Val Loss: 0.2621..  Train Acc: 0.9108..  Val Acc: 0.9053.. \n",
            "Epoch: 97/150..  Train Loss: 0.2367..  Val Loss: 0.2637..  Train Acc: 0.9108..  Val Acc: 0.9045.. \n",
            "Epoch: 98/150..  Train Loss: 0.2363..  Val Loss: 0.2699..  Train Acc: 0.9110..  Val Acc: 0.9031.. \n",
            "Epoch: 99/150..  Train Loss: 0.2361..  Val Loss: 0.2620..  Train Acc: 0.9109..  Val Acc: 0.9051.. \n",
            "Epoch: 100/150..  Train Loss: 0.2355..  Val Loss: 0.2644..  Train Acc: 0.9112..  Val Acc: 0.9049.. \n",
            "Epoch: 101/150..  Train Loss: 0.2352..  Val Loss: 0.2605..  Train Acc: 0.9113..  Val Acc: 0.9060.. \n",
            "Epoch: 102/150..  Train Loss: 0.2348..  Val Loss: 0.2605..  Train Acc: 0.9113..  Val Acc: 0.9059.. \n",
            "Epoch: 103/150..  Train Loss: 0.2345..  Val Loss: 0.2612..  Train Acc: 0.9115..  Val Acc: 0.9059.. \n",
            "Epoch: 104/150..  Train Loss: 0.2341..  Val Loss: 0.2619..  Train Acc: 0.9116..  Val Acc: 0.9050.. \n",
            "Epoch: 105/150..  Train Loss: 0.2336..  Val Loss: 0.2629..  Train Acc: 0.9117..  Val Acc: 0.9053.. \n",
            "Epoch: 106/150..  Train Loss: 0.2333..  Val Loss: 0.2610..  Train Acc: 0.9121..  Val Acc: 0.9057.. \n",
            "Epoch: 107/150..  Train Loss: 0.2329..  Val Loss: 0.2616..  Train Acc: 0.9120..  Val Acc: 0.9055.. \n",
            "Epoch: 108/150..  Train Loss: 0.2326..  Val Loss: 0.2621..  Train Acc: 0.9123..  Val Acc: 0.9054.. \n",
            "Epoch: 109/150..  Train Loss: 0.2323..  Val Loss: 0.2606..  Train Acc: 0.9123..  Val Acc: 0.9061.. \n",
            "Epoch: 110/150..  Train Loss: 0.2317..  Val Loss: 0.2615..  Train Acc: 0.9124..  Val Acc: 0.9060.. \n",
            "Epoch: 111/150..  Train Loss: 0.2314..  Val Loss: 0.2597..  Train Acc: 0.9126..  Val Acc: 0.9059.. \n",
            "Epoch: 112/150..  Train Loss: 0.2311..  Val Loss: 0.2633..  Train Acc: 0.9127..  Val Acc: 0.9055.. \n",
            "Epoch: 113/150..  Train Loss: 0.2307..  Val Loss: 0.2652..  Train Acc: 0.9128..  Val Acc: 0.9048.. \n",
            "Epoch: 114/150..  Train Loss: 0.2304..  Val Loss: 0.2676..  Train Acc: 0.9129..  Val Acc: 0.9041.. \n",
            "Epoch: 115/150..  Train Loss: 0.2300..  Val Loss: 0.2642..  Train Acc: 0.9131..  Val Acc: 0.9051.. \n",
            "Epoch: 116/150..  Train Loss: 0.2298..  Val Loss: 0.2626..  Train Acc: 0.9130..  Val Acc: 0.9054.. \n",
            "Epoch: 117/150..  Train Loss: 0.2294..  Val Loss: 0.2622..  Train Acc: 0.9131..  Val Acc: 0.9058.. \n",
            "Epoch: 118/150..  Train Loss: 0.2290..  Val Loss: 0.2619..  Train Acc: 0.9134..  Val Acc: 0.9053.. \n",
            "Epoch: 119/150..  Train Loss: 0.2287..  Val Loss: 0.2616..  Train Acc: 0.9134..  Val Acc: 0.9056.. \n",
            "Epoch: 120/150..  Train Loss: 0.2284..  Val Loss: 0.2614..  Train Acc: 0.9135..  Val Acc: 0.9056.. \n",
            "Epoch: 121/150..  Train Loss: 0.2281..  Val Loss: 0.2609..  Train Acc: 0.9136..  Val Acc: 0.9056.. \n",
            "Epoch: 122/150..  Train Loss: 0.2278..  Val Loss: 0.2601..  Train Acc: 0.9138..  Val Acc: 0.9061.. \n",
            "Epoch: 123/150..  Train Loss: 0.2276..  Val Loss: 0.2606..  Train Acc: 0.9136..  Val Acc: 0.9056.. \n",
            "Epoch: 124/150..  Train Loss: 0.2272..  Val Loss: 0.2676..  Train Acc: 0.9137..  Val Acc: 0.9039.. \n",
            "Epoch: 125/150..  Train Loss: 0.2269..  Val Loss: 0.2628..  Train Acc: 0.9139..  Val Acc: 0.9056.. \n",
            "Epoch: 126/150..  Train Loss: 0.2266..  Val Loss: 0.2619..  Train Acc: 0.9141..  Val Acc: 0.9058.. \n",
            "Epoch: 127/150..  Train Loss: 0.2264..  Val Loss: 0.2650..  Train Acc: 0.9140..  Val Acc: 0.9046.. \n",
            "Epoch: 128/150..  Train Loss: 0.2261..  Val Loss: 0.2658..  Train Acc: 0.9141..  Val Acc: 0.9045.. \n",
            "Epoch: 129/150..  Train Loss: 0.2258..  Val Loss: 0.2580..  Train Acc: 0.9143..  Val Acc: 0.9064.. \n",
            "Epoch: 130/150..  Train Loss: 0.2254..  Val Loss: 0.2634..  Train Acc: 0.9146..  Val Acc: 0.9045.. \n",
            "Epoch: 131/150..  Train Loss: 0.2252..  Val Loss: 0.2638..  Train Acc: 0.9146..  Val Acc: 0.9048.. \n",
            "Epoch: 132/150..  Train Loss: 0.2248..  Val Loss: 0.2601..  Train Acc: 0.9147..  Val Acc: 0.9056.. \n",
            "Epoch: 133/150..  Train Loss: 0.2245..  Val Loss: 0.2617..  Train Acc: 0.9147..  Val Acc: 0.9053.. \n",
            "Epoch: 134/150..  Train Loss: 0.2241..  Val Loss: 0.2620..  Train Acc: 0.9149..  Val Acc: 0.9050.. \n",
            "Epoch: 135/150..  Train Loss: 0.2239..  Val Loss: 0.2586..  Train Acc: 0.9151..  Val Acc: 0.9068.. \n",
            "Epoch: 136/150..  Train Loss: 0.2237..  Val Loss: 0.2584..  Train Acc: 0.9149..  Val Acc: 0.9062.. \n",
            "Epoch: 137/150..  Train Loss: 0.2233..  Val Loss: 0.2596..  Train Acc: 0.9150..  Val Acc: 0.9064.. \n",
            "Epoch: 138/150..  Train Loss: 0.2229..  Val Loss: 0.2620..  Train Acc: 0.9151..  Val Acc: 0.9054.. \n",
            "Epoch: 139/150..  Train Loss: 0.2226..  Val Loss: 0.2572..  Train Acc: 0.9152..  Val Acc: 0.9071.. \n",
            "Epoch: 140/150..  Train Loss: 0.2224..  Val Loss: 0.2600..  Train Acc: 0.9152..  Val Acc: 0.9054.. \n",
            "Epoch: 141/150..  Train Loss: 0.2222..  Val Loss: 0.2598..  Train Acc: 0.9153..  Val Acc: 0.9056.. \n",
            "Epoch: 142/150..  Train Loss: 0.2220..  Val Loss: 0.2614..  Train Acc: 0.9154..  Val Acc: 0.9052.. \n",
            "Epoch: 143/150..  Train Loss: 0.2217..  Val Loss: 0.2585..  Train Acc: 0.9156..  Val Acc: 0.9068.. \n",
            "Epoch: 144/150..  Train Loss: 0.2215..  Val Loss: 0.2595..  Train Acc: 0.9156..  Val Acc: 0.9056.. \n",
            "Epoch: 145/150..  Train Loss: 0.2211..  Val Loss: 0.2615..  Train Acc: 0.9158..  Val Acc: 0.9057.. \n",
            "Epoch: 146/150..  Train Loss: 0.2209..  Val Loss: 0.2601..  Train Acc: 0.9159..  Val Acc: 0.9059.. \n",
            "Epoch: 147/150..  Train Loss: 0.2205..  Val Loss: 0.2601..  Train Acc: 0.9158..  Val Acc: 0.9053.. \n",
            "Epoch: 148/150..  Train Loss: 0.2202..  Val Loss: 0.2628..  Train Acc: 0.9160..  Val Acc: 0.9053.. \n",
            "Epoch: 149/150..  Train Loss: 0.2199..  Val Loss: 0.2571..  Train Acc: 0.9162..  Val Acc: 0.9071.. \n",
            "Epoch: 150/150..  Train Loss: 0.2198..  Val Loss: 0.2594..  Train Acc: 0.9161..  Val Acc: 0.9059.. \n"
          ],
          "name": "stdout"
        },
        {
          "output_type": "display_data",
          "data": {
            "image/png": "[encoded data removed]",
            "text/plain": [
              "<Figure size 864x432 with 2 Axes>"
            ]
          },
          "metadata": {
            "tags": [],
            "needs_background": "light"
          }
        },
        {
          "output_type": "stream",
          "text": [
            "Acurácia de teste: 90.61%\n",
            "Acurácia de treinamento: 91.61%\n",
            "Acurácia de validação: 90.59%\n"
          ],
          "name": "stdout"
        }
      ]
    },
    {
      "cell_type": "code",
      "metadata": {
        "colab": {
          "base_uri": "https://localhost:8080/"
        },
        "id": "pkviCyOmUXxV",
        "outputId": "d63ecf8a-43e6-48ff-acb6-779e91daeba8"
      },
      "source": [
        "params1 = dict()\n",
        "params1['EPOCHS'] = 150\n",
        "params1['BATCH_SIZE'] = 64\n",
        "params1['LEARNING_RATE'] = 0.05\n",
        "params1['CRITERION'] = nn.CrossEntropyLoss()\n",
        "params1['OPTIMIZER'] = 'SGD'\n",
        "\n",
        "model1 = nn.Sequential(\n",
        "          nn.Linear(NUM_FEATURES, 512),\n",
        "          nn.ReLU(),\n",
        "          nn.Linear(512, 512),\n",
        "          nn.ReLU(),\n",
        "          nn.Linear(512, NUM_CLASSES),\n",
        "        )\n",
        "\n",
        "execute_model(model1, params1)"
      ],
      "execution_count": null,
      "outputs": [
        {
          "output_type": "stream",
          "text": [
            "Shape X_train (936408, 112)\n",
            "Shape y_train (936408,)\n",
            "Shape X_val (117052, 112)\n",
            "Shape y_val (117052,)\n",
            "Shape X_test (117051, 112)\n",
            "Shape y_test (117051,)\n",
            "Len DF original 1170511\n",
            "Len train + val + test 1170511\n",
            "Sequential(\n",
            "  (0): Linear(in_features=112, out_features=512, bias=True)\n",
            "  (1): ReLU()\n",
            "  (2): Linear(in_features=512, out_features=512, bias=True)\n",
            "  (3): ReLU()\n",
            "  (4): Linear(in_features=512, out_features=12, bias=True)\n",
            ")\n",
            "Epoch: 1/150..  Train Loss: 0.6978..  Val Loss: 0.7539..  Train Acc: 0.7573..  Val Acc: 0.7336.. \n",
            "Epoch: 2/150..  Train Loss: 0.5301..  Val Loss: 0.5824..  Train Acc: 0.8191..  Val Acc: 0.7963.. \n",
            "Epoch: 3/150..  Train Loss: 0.4717..  Val Loss: 0.5190..  Train Acc: 0.8391..  Val Acc: 0.8191.. \n",
            "Epoch: 4/150..  Train Loss: 0.4369..  Val Loss: 0.4903..  Train Acc: 0.8504..  Val Acc: 0.8291.. \n",
            "Epoch: 5/150..  Train Loss: 0.4128..  Val Loss: 0.4629..  Train Acc: 0.8582..  Val Acc: 0.8386.. \n",
            "Epoch: 6/150..  Train Loss: 0.3948..  Val Loss: 0.4413..  Train Acc: 0.8640..  Val Acc: 0.8456.. \n",
            "Epoch: 7/150..  Train Loss: 0.3810..  Val Loss: 0.4313..  Train Acc: 0.8684..  Val Acc: 0.8495.. \n",
            "Epoch: 8/150..  Train Loss: 0.3702..  Val Loss: 0.4109..  Train Acc: 0.8717..  Val Acc: 0.8568.. \n",
            "Epoch: 9/150..  Train Loss: 0.3615..  Val Loss: 0.4025..  Train Acc: 0.8744..  Val Acc: 0.8594.. \n",
            "Epoch: 10/150..  Train Loss: 0.3542..  Val Loss: 0.3983..  Train Acc: 0.8766..  Val Acc: 0.8609.. \n",
            "Epoch: 11/150..  Train Loss: 0.3479..  Val Loss: 0.3852..  Train Acc: 0.8786..  Val Acc: 0.8652.. \n",
            "Epoch: 12/150..  Train Loss: 0.3425..  Val Loss: 0.3774..  Train Acc: 0.8800..  Val Acc: 0.8682.. \n",
            "Epoch: 13/150..  Train Loss: 0.3376..  Val Loss: 0.3780..  Train Acc: 0.8814..  Val Acc: 0.8675.. \n",
            "Epoch: 14/150..  Train Loss: 0.3333..  Val Loss: 0.3688..  Train Acc: 0.8825..  Val Acc: 0.8703.. \n"
          ],
          "name": "stdout"
        }
      ]
    },
    {
      "cell_type": "code",
      "metadata": {
        "colab": {
          "base_uri": "https://localhost:8080/",
          "height": 1000
        },
        "id": "d16X0umEUn7X",
        "outputId": "c3054608-335d-4e58-ff5b-f2c36bf23c29"
      },
      "source": [
        "params1 = dict()\n",
        "params1['EPOCHS'] = 150\n",
        "params1['BATCH_SIZE'] = 64\n",
        "params1['LEARNING_RATE'] = 0.05\n",
        "params1['CRITERION'] = nn.CrossEntropyLoss()\n",
        "params1['OPTIMIZER'] = 'SGD'\n",
        "\n",
        "model1 = nn.Sequential(\n",
        "          nn.Linear(NUM_FEATURES, 256),\n",
        "          nn.ReLU(),\n",
        "          nn.Linear(256, 512),\n",
        "          nn.ReLU(),\n",
        "          nn.Linear(512, NUM_CLASSES),\n",
        "        )\n",
        "\n",
        "execute_model(model1, params1)"
      ],
      "execution_count": null,
      "outputs": [
        {
          "output_type": "stream",
          "text": [
            "Shape X_train (936408, 112)\n",
            "Shape y_train (936408,)\n",
            "Shape X_val (117052, 112)\n",
            "Shape y_val (117052,)\n",
            "Shape X_test (117051, 112)\n",
            "Shape y_test (117051,)\n",
            "Len DF original 1170511\n",
            "Len train + val + test 1170511\n",
            "Sequential(\n",
            "  (0): Linear(in_features=112, out_features=256, bias=True)\n",
            "  (1): ReLU()\n",
            "  (2): Linear(in_features=256, out_features=512, bias=True)\n",
            "  (3): ReLU()\n",
            "  (4): Linear(in_features=512, out_features=12, bias=True)\n",
            ")\n",
            "Epoch: 1/150..  Train Loss: 0.7062..  Val Loss: 0.7836..  Train Acc: 0.7538..  Val Acc: 0.7280.. \n",
            "Epoch: 2/150..  Train Loss: 0.5369..  Val Loss: 0.6239..  Train Acc: 0.8167..  Val Acc: 0.7789.. \n",
            "Epoch: 3/150..  Train Loss: 0.4765..  Val Loss: 0.5307..  Train Acc: 0.8375..  Val Acc: 0.8146.. \n",
            "Epoch: 4/150..  Train Loss: 0.4414..  Val Loss: 0.5114..  Train Acc: 0.8487..  Val Acc: 0.8218.. \n",
            "Epoch: 5/150..  Train Loss: 0.4176..  Val Loss: 0.4906..  Train Acc: 0.8565..  Val Acc: 0.8288.. \n",
            "Epoch: 6/150..  Train Loss: 0.3999..  Val Loss: 0.4659..  Train Acc: 0.8625..  Val Acc: 0.8367.. \n",
            "Epoch: 7/150..  Train Loss: 0.3862..  Val Loss: 0.4477..  Train Acc: 0.8669..  Val Acc: 0.8429.. \n",
            "Epoch: 8/150..  Train Loss: 0.3752..  Val Loss: 0.4265..  Train Acc: 0.8703..  Val Acc: 0.8504.. \n",
            "Epoch: 9/150..  Train Loss: 0.3660..  Val Loss: 0.4117..  Train Acc: 0.8730..  Val Acc: 0.8552.. \n",
            "Epoch: 10/150..  Train Loss: 0.3583..  Val Loss: 0.4111..  Train Acc: 0.8754..  Val Acc: 0.8561.. \n",
            "Epoch: 11/150..  Train Loss: 0.3517..  Val Loss: 0.4071..  Train Acc: 0.8773..  Val Acc: 0.8574.. \n",
            "Epoch: 12/150..  Train Loss: 0.3460..  Val Loss: 0.4089..  Train Acc: 0.8790..  Val Acc: 0.8566.. \n",
            "Epoch: 13/150..  Train Loss: 0.3410..  Val Loss: 0.4025..  Train Acc: 0.8804..  Val Acc: 0.8589.. \n",
            "Epoch: 14/150..  Train Loss: 0.3366..  Val Loss: 0.3885..  Train Acc: 0.8817..  Val Acc: 0.8640.. \n",
            "Epoch: 15/150..  Train Loss: 0.3326..  Val Loss: 0.3918..  Train Acc: 0.8828..  Val Acc: 0.8624.. \n",
            "Epoch: 16/150..  Train Loss: 0.3289..  Val Loss: 0.3881..  Train Acc: 0.8839..  Val Acc: 0.8638.. \n",
            "Epoch: 17/150..  Train Loss: 0.3256..  Val Loss: 0.3817..  Train Acc: 0.8848..  Val Acc: 0.8659.. \n",
            "Epoch: 18/150..  Train Loss: 0.3226..  Val Loss: 0.3829..  Train Acc: 0.8857..  Val Acc: 0.8657.. \n",
            "Epoch: 19/150..  Train Loss: 0.3198..  Val Loss: 0.3754..  Train Acc: 0.8864..  Val Acc: 0.8679.. \n",
            "Epoch: 20/150..  Train Loss: 0.3173..  Val Loss: 0.3792..  Train Acc: 0.8872..  Val Acc: 0.8665.. \n",
            "Epoch: 21/150..  Train Loss: 0.3149..  Val Loss: 0.3952..  Train Acc: 0.8880..  Val Acc: 0.8617.. \n",
            "Epoch: 22/150..  Train Loss: 0.3127..  Val Loss: 0.3769..  Train Acc: 0.8884..  Val Acc: 0.8672.. \n",
            "Epoch: 23/150..  Train Loss: 0.3106..  Val Loss: 0.3558..  Train Acc: 0.8892..  Val Acc: 0.8750.. \n",
            "Epoch: 24/150..  Train Loss: 0.3086..  Val Loss: 0.3602..  Train Acc: 0.8896..  Val Acc: 0.8734.. \n",
            "Epoch: 25/150..  Train Loss: 0.3067..  Val Loss: 0.3635..  Train Acc: 0.8903..  Val Acc: 0.8725.. \n",
            "Epoch: 26/150..  Train Loss: 0.3050..  Val Loss: 0.3738..  Train Acc: 0.8908..  Val Acc: 0.8688.. \n",
            "Epoch: 27/150..  Train Loss: 0.3034..  Val Loss: 0.3743..  Train Acc: 0.8912..  Val Acc: 0.8690.. \n",
            "Epoch: 28/150..  Train Loss: 0.3017..  Val Loss: 0.3770..  Train Acc: 0.8917..  Val Acc: 0.8680.. \n",
            "Epoch: 29/150..  Train Loss: 0.3002..  Val Loss: 0.3670..  Train Acc: 0.8923..  Val Acc: 0.8710.. \n",
            "Epoch: 30/150..  Train Loss: 0.2987..  Val Loss: 0.3695..  Train Acc: 0.8926..  Val Acc: 0.8701.. \n",
            "Epoch: 31/150..  Train Loss: 0.2973..  Val Loss: 0.3800..  Train Acc: 0.8930..  Val Acc: 0.8665.. \n",
            "Epoch: 32/150..  Train Loss: 0.2960..  Val Loss: 0.3688..  Train Acc: 0.8934..  Val Acc: 0.8705.. \n",
            "Epoch: 33/150..  Train Loss: 0.2947..  Val Loss: 0.3937..  Train Acc: 0.8938..  Val Acc: 0.8623.. \n",
            "Epoch: 34/150..  Train Loss: 0.2935..  Val Loss: 0.3632..  Train Acc: 0.8941..  Val Acc: 0.8713.. \n",
            "Epoch: 35/150..  Train Loss: 0.2923..  Val Loss: 0.3677..  Train Acc: 0.8944..  Val Acc: 0.8711.. \n",
            "Epoch: 36/150..  Train Loss: 0.2911..  Val Loss: 0.3671..  Train Acc: 0.8948..  Val Acc: 0.8708.. \n",
            "Epoch: 37/150..  Train Loss: 0.2900..  Val Loss: 0.3752..  Train Acc: 0.8952..  Val Acc: 0.8686.. \n",
            "Epoch: 38/150..  Train Loss: 0.2889..  Val Loss: 0.3612..  Train Acc: 0.8954..  Val Acc: 0.8728.. \n",
            "Epoch: 39/150..  Train Loss: 0.2879..  Val Loss: 0.3481..  Train Acc: 0.8957..  Val Acc: 0.8771.. \n",
            "Epoch: 40/150..  Train Loss: 0.2869..  Val Loss: 0.3462..  Train Acc: 0.8959..  Val Acc: 0.8775.. \n",
            "Epoch: 41/150..  Train Loss: 0.2859..  Val Loss: 0.3516..  Train Acc: 0.8963..  Val Acc: 0.8757.. \n",
            "Epoch: 42/150..  Train Loss: 0.2850..  Val Loss: 0.3523..  Train Acc: 0.8966..  Val Acc: 0.8757.. \n",
            "Epoch: 43/150..  Train Loss: 0.2840..  Val Loss: 0.3466..  Train Acc: 0.8969..  Val Acc: 0.8774.. \n",
            "Epoch: 44/150..  Train Loss: 0.2831..  Val Loss: 0.3424..  Train Acc: 0.8973..  Val Acc: 0.8791.. \n",
            "Epoch: 45/150..  Train Loss: 0.2822..  Val Loss: 0.3478..  Train Acc: 0.8976..  Val Acc: 0.8773.. \n",
            "Epoch: 46/150..  Train Loss: 0.2814..  Val Loss: 0.3401..  Train Acc: 0.8978..  Val Acc: 0.8792.. \n",
            "Epoch: 47/150..  Train Loss: 0.2805..  Val Loss: 0.3373..  Train Acc: 0.8981..  Val Acc: 0.8804.. \n",
            "Epoch: 48/150..  Train Loss: 0.2797..  Val Loss: 0.3482..  Train Acc: 0.8984..  Val Acc: 0.8775.. \n",
            "Epoch: 49/150..  Train Loss: 0.2789..  Val Loss: 0.3473..  Train Acc: 0.8987..  Val Acc: 0.8776.. \n",
            "Epoch: 50/150..  Train Loss: 0.2781..  Val Loss: 0.3424..  Train Acc: 0.8989..  Val Acc: 0.8789.. \n",
            "Epoch: 51/150..  Train Loss: 0.2774..  Val Loss: 0.3434..  Train Acc: 0.8991..  Val Acc: 0.8789.. \n",
            "Epoch: 52/150..  Train Loss: 0.2766..  Val Loss: 0.3351..  Train Acc: 0.8992..  Val Acc: 0.8813.. \n",
            "Epoch: 53/150..  Train Loss: 0.2759..  Val Loss: 0.3321..  Train Acc: 0.8995..  Val Acc: 0.8823.. \n",
            "Epoch: 54/150..  Train Loss: 0.2751..  Val Loss: 0.3381..  Train Acc: 0.8997..  Val Acc: 0.8806.. \n",
            "Epoch: 55/150..  Train Loss: 0.2744..  Val Loss: 0.3491..  Train Acc: 0.9000..  Val Acc: 0.8773.. \n",
            "Epoch: 56/150..  Train Loss: 0.2738..  Val Loss: 0.3214..  Train Acc: 0.9002..  Val Acc: 0.8860.. \n",
            "Epoch: 57/150..  Train Loss: 0.2731..  Val Loss: 0.3207..  Train Acc: 0.9004..  Val Acc: 0.8859.. \n",
            "Epoch: 58/150..  Train Loss: 0.2725..  Val Loss: 0.3204..  Train Acc: 0.9006..  Val Acc: 0.8858.. \n",
            "Epoch: 59/150..  Train Loss: 0.2719..  Val Loss: 0.3152..  Train Acc: 0.9006..  Val Acc: 0.8875.. \n",
            "Epoch: 60/150..  Train Loss: 0.2712..  Val Loss: 0.3235..  Train Acc: 0.9008..  Val Acc: 0.8853.. \n",
            "Epoch: 61/150..  Train Loss: 0.2706..  Val Loss: 0.3291..  Train Acc: 0.9010..  Val Acc: 0.8838.. \n",
            "Epoch: 62/150..  Train Loss: 0.2700..  Val Loss: 0.3215..  Train Acc: 0.9011..  Val Acc: 0.8859.. \n",
            "Epoch: 63/150..  Train Loss: 0.2694..  Val Loss: 0.3155..  Train Acc: 0.9013..  Val Acc: 0.8883.. \n",
            "Epoch: 64/150..  Train Loss: 0.2688..  Val Loss: 0.3130..  Train Acc: 0.9015..  Val Acc: 0.8887.. \n",
            "Epoch: 65/150..  Train Loss: 0.2683..  Val Loss: 0.3226..  Train Acc: 0.9017..  Val Acc: 0.8864.. \n",
            "Epoch: 66/150..  Train Loss: 0.2677..  Val Loss: 0.3104..  Train Acc: 0.9019..  Val Acc: 0.8895.. \n",
            "Epoch: 67/150..  Train Loss: 0.2671..  Val Loss: 0.3119..  Train Acc: 0.9020..  Val Acc: 0.8890.. \n",
            "Epoch: 68/150..  Train Loss: 0.2666..  Val Loss: 0.3131..  Train Acc: 0.9021..  Val Acc: 0.8892.. \n",
            "Epoch: 69/150..  Train Loss: 0.2661..  Val Loss: 0.3112..  Train Acc: 0.9024..  Val Acc: 0.8898.. \n",
            "Epoch: 70/150..  Train Loss: 0.2655..  Val Loss: 0.3119..  Train Acc: 0.9025..  Val Acc: 0.8896.. \n",
            "Epoch: 71/150..  Train Loss: 0.2649..  Val Loss: 0.3095..  Train Acc: 0.9027..  Val Acc: 0.8907.. \n",
            "Epoch: 72/150..  Train Loss: 0.2644..  Val Loss: 0.3160..  Train Acc: 0.9028..  Val Acc: 0.8881.. \n",
            "Epoch: 73/150..  Train Loss: 0.2639..  Val Loss: 0.3099..  Train Acc: 0.9029..  Val Acc: 0.8900.. \n",
            "Epoch: 74/150..  Train Loss: 0.2634..  Val Loss: 0.3153..  Train Acc: 0.9031..  Val Acc: 0.8883.. \n",
            "Epoch: 75/150..  Train Loss: 0.2630..  Val Loss: 0.3061..  Train Acc: 0.9033..  Val Acc: 0.8914.. \n",
            "Epoch: 76/150..  Train Loss: 0.2625..  Val Loss: 0.3046..  Train Acc: 0.9033..  Val Acc: 0.8920.. \n",
            "Epoch: 77/150..  Train Loss: 0.2620..  Val Loss: 0.3110..  Train Acc: 0.9035..  Val Acc: 0.8900.. \n",
            "Epoch: 78/150..  Train Loss: 0.2615..  Val Loss: 0.3072..  Train Acc: 0.9035..  Val Acc: 0.8914.. \n",
            "Epoch: 79/150..  Train Loss: 0.2611..  Val Loss: 0.3133..  Train Acc: 0.9037..  Val Acc: 0.8895.. \n",
            "Epoch: 80/150..  Train Loss: 0.2606..  Val Loss: 0.3191..  Train Acc: 0.9038..  Val Acc: 0.8875.. \n",
            "Epoch: 81/150..  Train Loss: 0.2601..  Val Loss: 0.3287..  Train Acc: 0.9040..  Val Acc: 0.8846.. \n",
            "Epoch: 82/150..  Train Loss: 0.2597..  Val Loss: 0.3282..  Train Acc: 0.9041..  Val Acc: 0.8846.. \n",
            "Epoch: 83/150..  Train Loss: 0.2593..  Val Loss: 0.3172..  Train Acc: 0.9042..  Val Acc: 0.8883.. \n",
            "Epoch: 84/150..  Train Loss: 0.2589..  Val Loss: 0.3097..  Train Acc: 0.9044..  Val Acc: 0.8906.. \n",
            "Epoch: 85/150..  Train Loss: 0.2585..  Val Loss: 0.3096..  Train Acc: 0.9045..  Val Acc: 0.8903.. \n",
            "Epoch: 86/150..  Train Loss: 0.2580..  Val Loss: 0.3055..  Train Acc: 0.9045..  Val Acc: 0.8924.. \n",
            "Epoch: 87/150..  Train Loss: 0.2576..  Val Loss: 0.3259..  Train Acc: 0.9047..  Val Acc: 0.8855.. \n",
            "Epoch: 88/150..  Train Loss: 0.2572..  Val Loss: 0.3106..  Train Acc: 0.9048..  Val Acc: 0.8906.. \n",
            "Epoch: 89/150..  Train Loss: 0.2568..  Val Loss: 0.3135..  Train Acc: 0.9049..  Val Acc: 0.8898.. \n",
            "Epoch: 90/150..  Train Loss: 0.2564..  Val Loss: 0.3107..  Train Acc: 0.9050..  Val Acc: 0.8906.. \n",
            "Epoch: 91/150..  Train Loss: 0.2560..  Val Loss: 0.3202..  Train Acc: 0.9051..  Val Acc: 0.8870.. \n",
            "Epoch: 92/150..  Train Loss: 0.2556..  Val Loss: 0.3210..  Train Acc: 0.9053..  Val Acc: 0.8870.. \n",
            "Epoch: 93/150..  Train Loss: 0.2552..  Val Loss: 0.3103..  Train Acc: 0.9055..  Val Acc: 0.8899.. \n",
            "Epoch: 94/150..  Train Loss: 0.2549..  Val Loss: 0.3207..  Train Acc: 0.9054..  Val Acc: 0.8873.. \n",
            "Epoch: 95/150..  Train Loss: 0.2544..  Val Loss: 0.3053..  Train Acc: 0.9056..  Val Acc: 0.8918.. \n",
            "Epoch: 96/150..  Train Loss: 0.2541..  Val Loss: 0.3121..  Train Acc: 0.9057..  Val Acc: 0.8897.. \n",
            "Epoch: 97/150..  Train Loss: 0.2537..  Val Loss: 0.3109..  Train Acc: 0.9060..  Val Acc: 0.8903.. \n",
            "Epoch: 98/150..  Train Loss: 0.2534..  Val Loss: 0.3179..  Train Acc: 0.9060..  Val Acc: 0.8879.. \n",
            "Epoch: 99/150..  Train Loss: 0.2530..  Val Loss: 0.3115..  Train Acc: 0.9062..  Val Acc: 0.8895.. \n",
            "Epoch: 100/150..  Train Loss: 0.2526..  Val Loss: 0.3145..  Train Acc: 0.9062..  Val Acc: 0.8886.. \n",
            "Epoch: 101/150..  Train Loss: 0.2523..  Val Loss: 0.3099..  Train Acc: 0.9063..  Val Acc: 0.8905.. \n",
            "Epoch: 102/150..  Train Loss: 0.2520..  Val Loss: 0.3237..  Train Acc: 0.9064..  Val Acc: 0.8860.. \n",
            "Epoch: 103/150..  Train Loss: 0.2516..  Val Loss: 0.3179..  Train Acc: 0.9066..  Val Acc: 0.8880.. \n",
            "Epoch: 104/150..  Train Loss: 0.2513..  Val Loss: 0.3118..  Train Acc: 0.9067..  Val Acc: 0.8901.. \n",
            "Epoch: 105/150..  Train Loss: 0.2509..  Val Loss: 0.3117..  Train Acc: 0.9068..  Val Acc: 0.8896.. \n",
            "Epoch: 106/150..  Train Loss: 0.2506..  Val Loss: 0.3033..  Train Acc: 0.9069..  Val Acc: 0.8921.. \n",
            "Epoch: 107/150..  Train Loss: 0.2502..  Val Loss: 0.3040..  Train Acc: 0.9070..  Val Acc: 0.8920.. \n",
            "Epoch: 108/150..  Train Loss: 0.2499..  Val Loss: 0.3083..  Train Acc: 0.9071..  Val Acc: 0.8912.. \n",
            "Epoch: 109/150..  Train Loss: 0.2495..  Val Loss: 0.3086..  Train Acc: 0.9072..  Val Acc: 0.8911.. \n",
            "Epoch: 110/150..  Train Loss: 0.2493..  Val Loss: 0.3118..  Train Acc: 0.9072..  Val Acc: 0.8903.. \n",
            "Epoch: 111/150..  Train Loss: 0.2489..  Val Loss: 0.3009..  Train Acc: 0.9075..  Val Acc: 0.8930.. \n",
            "Epoch: 112/150..  Train Loss: 0.2486..  Val Loss: 0.3036..  Train Acc: 0.9076..  Val Acc: 0.8928.. \n",
            "Epoch: 113/150..  Train Loss: 0.2483..  Val Loss: 0.3198..  Train Acc: 0.9076..  Val Acc: 0.8874.. \n",
            "Epoch: 114/150..  Train Loss: 0.2479..  Val Loss: 0.3125..  Train Acc: 0.9077..  Val Acc: 0.8901.. \n",
            "Epoch: 115/150..  Train Loss: 0.2477..  Val Loss: 0.3107..  Train Acc: 0.9077..  Val Acc: 0.8907.. \n",
            "Epoch: 116/150..  Train Loss: 0.2473..  Val Loss: 0.3171..  Train Acc: 0.9078..  Val Acc: 0.8891.. \n",
            "Epoch: 117/150..  Train Loss: 0.2471..  Val Loss: 0.3181..  Train Acc: 0.9080..  Val Acc: 0.8885.. \n",
            "Epoch: 118/150..  Train Loss: 0.2467..  Val Loss: 0.3071..  Train Acc: 0.9081..  Val Acc: 0.8914.. \n",
            "Epoch: 119/150..  Train Loss: 0.2464..  Val Loss: 0.3102..  Train Acc: 0.9082..  Val Acc: 0.8912.. \n",
            "Epoch: 120/150..  Train Loss: 0.2461..  Val Loss: 0.3144..  Train Acc: 0.9082..  Val Acc: 0.8898.. \n",
            "Epoch: 121/150..  Train Loss: 0.2458..  Val Loss: 0.3025..  Train Acc: 0.9084..  Val Acc: 0.8936.. \n",
            "Epoch: 122/150..  Train Loss: 0.2454..  Val Loss: 0.3137..  Train Acc: 0.9085..  Val Acc: 0.8899.. \n",
            "Epoch: 123/150..  Train Loss: 0.2452..  Val Loss: 0.3217..  Train Acc: 0.9085..  Val Acc: 0.8882.. \n",
            "Epoch: 124/150..  Train Loss: 0.2449..  Val Loss: 0.3132..  Train Acc: 0.9086..  Val Acc: 0.8905.. \n",
            "Epoch: 125/150..  Train Loss: 0.2446..  Val Loss: 0.3055..  Train Acc: 0.9088..  Val Acc: 0.8927.. \n",
            "Epoch: 126/150..  Train Loss: 0.2443..  Val Loss: 0.3055..  Train Acc: 0.9088..  Val Acc: 0.8924.. \n",
            "Epoch: 127/150..  Train Loss: 0.2440..  Val Loss: 0.3100..  Train Acc: 0.9088..  Val Acc: 0.8916.. \n",
            "Epoch: 128/150..  Train Loss: 0.2437..  Val Loss: 0.2929..  Train Acc: 0.9089..  Val Acc: 0.8957.. \n",
            "Epoch: 129/150..  Train Loss: 0.2435..  Val Loss: 0.2993..  Train Acc: 0.9091..  Val Acc: 0.8943.. \n",
            "Epoch: 130/150..  Train Loss: 0.2432..  Val Loss: 0.2931..  Train Acc: 0.9091..  Val Acc: 0.8957.. \n",
            "Epoch: 131/150..  Train Loss: 0.2429..  Val Loss: 0.2975..  Train Acc: 0.9092..  Val Acc: 0.8944.. \n",
            "Epoch: 132/150..  Train Loss: 0.2427..  Val Loss: 0.2971..  Train Acc: 0.9092..  Val Acc: 0.8945.. \n",
            "Epoch: 133/150..  Train Loss: 0.2424..  Val Loss: 0.2932..  Train Acc: 0.9095..  Val Acc: 0.8957.. \n",
            "Epoch: 134/150..  Train Loss: 0.2422..  Val Loss: 0.2910..  Train Acc: 0.9095..  Val Acc: 0.8963.. \n",
            "Epoch: 135/150..  Train Loss: 0.2419..  Val Loss: 0.3046..  Train Acc: 0.9095..  Val Acc: 0.8932.. \n",
            "Epoch: 136/150..  Train Loss: 0.2416..  Val Loss: 0.2971..  Train Acc: 0.9097..  Val Acc: 0.8951.. \n",
            "Epoch: 137/150..  Train Loss: 0.2413..  Val Loss: 0.2944..  Train Acc: 0.9098..  Val Acc: 0.8958.. \n",
            "Epoch: 138/150..  Train Loss: 0.2411..  Val Loss: 0.2901..  Train Acc: 0.9098..  Val Acc: 0.8969.. \n",
            "Epoch: 139/150..  Train Loss: 0.2408..  Val Loss: 0.2913..  Train Acc: 0.9099..  Val Acc: 0.8962.. \n",
            "Epoch: 140/150..  Train Loss: 0.2406..  Val Loss: 0.2913..  Train Acc: 0.9100..  Val Acc: 0.8969.. \n",
            "Epoch: 141/150..  Train Loss: 0.2404..  Val Loss: 0.2841..  Train Acc: 0.9101..  Val Acc: 0.8984.. \n",
            "Epoch: 142/150..  Train Loss: 0.2401..  Val Loss: 0.2915..  Train Acc: 0.9100..  Val Acc: 0.8964.. \n",
            "Epoch: 143/150..  Train Loss: 0.2398..  Val Loss: 0.2884..  Train Acc: 0.9102..  Val Acc: 0.8969.. \n",
            "Epoch: 144/150..  Train Loss: 0.2396..  Val Loss: 0.2949..  Train Acc: 0.9102..  Val Acc: 0.8959.. \n",
            "Epoch: 145/150..  Train Loss: 0.2394..  Val Loss: 0.2925..  Train Acc: 0.9102..  Val Acc: 0.8965.. \n",
            "Epoch: 146/150..  Train Loss: 0.2391..  Val Loss: 0.2897..  Train Acc: 0.9104..  Val Acc: 0.8971.. \n",
            "Epoch: 147/150..  Train Loss: 0.2389..  Val Loss: 0.2854..  Train Acc: 0.9104..  Val Acc: 0.8980.. \n",
            "Epoch: 148/150..  Train Loss: 0.2386..  Val Loss: 0.2920..  Train Acc: 0.9104..  Val Acc: 0.8965.. \n",
            "Epoch: 149/150..  Train Loss: 0.2384..  Val Loss: 0.2871..  Train Acc: 0.9105..  Val Acc: 0.8978.. \n",
            "Epoch: 150/150..  Train Loss: 0.2382..  Val Loss: 0.2905..  Train Acc: 0.9106..  Val Acc: 0.8966.. \n"
          ],
          "name": "stdout"
        },
        {
          "output_type": "display_data",
          "data": {
            "image/png": "[encoded data removed]",
            "text/plain": [
              "<Figure size 864x432 with 2 Axes>"
            ]
          },
          "metadata": {
            "tags": [],
            "needs_background": "light"
          }
        },
        {
          "output_type": "stream",
          "text": [
            "Acurácia de teste: 89.59%\n",
            "Acurácia de treinamento: 91.06%\n",
            "Acurácia de validação: 89.66%\n"
          ],
          "name": "stdout"
        }
      ]
    },
    {
      "cell_type": "code",
      "metadata": {
        "colab": {
          "base_uri": "https://localhost:8080/",
          "height": 1000
        },
        "id": "Lr1D9Xt3Urqz",
        "outputId": "5a8ff16f-d07a-4a8d-876f-aeaf765f87a8"
      },
      "source": [
        "params1 = dict()\n",
        "params1['EPOCHS'] = 150\n",
        "params1['BATCH_SIZE'] = 64\n",
        "params1['LEARNING_RATE'] = 0.05\n",
        "params1['CRITERION'] = nn.CrossEntropyLoss()\n",
        "params1['OPTIMIZER'] = 'SGD'\n",
        "\n",
        "model1 = nn.Sequential(\n",
        "          nn.Linear(NUM_FEATURES, 1024),\n",
        "          nn.ReLU(),\n",
        "          nn.Linear(1024, 512),\n",
        "          nn.ReLU(),\n",
        "          nn.Linear(512, NUM_CLASSES),\n",
        "        )\n",
        "\n",
        "execute_model(model1, params1)"
      ],
      "execution_count": null,
      "outputs": [
        {
          "output_type": "stream",
          "text": [
            "Shape X_train (936408, 112)\n",
            "Shape y_train (936408,)\n",
            "Shape X_val (117052, 112)\n",
            "Shape y_val (117052,)\n",
            "Shape X_test (117051, 112)\n",
            "Shape y_test (117051,)\n",
            "Len DF original 1170511\n",
            "Len train + val + test 1170511\n",
            "Sequential(\n",
            "  (0): Linear(in_features=112, out_features=1024, bias=True)\n",
            "  (1): ReLU()\n",
            "  (2): Linear(in_features=1024, out_features=512, bias=True)\n",
            "  (3): ReLU()\n",
            "  (4): Linear(in_features=512, out_features=12, bias=True)\n",
            ")\n",
            "Epoch: 1/150..  Train Loss: 0.6852..  Val Loss: 0.7434..  Train Acc: 0.7613..  Val Acc: 0.7385.. \n",
            "Epoch: 2/150..  Train Loss: 0.5220..  Val Loss: 0.5460..  Train Acc: 0.8214..  Val Acc: 0.8108.. \n",
            "Epoch: 3/150..  Train Loss: 0.4646..  Val Loss: 0.4959..  Train Acc: 0.8407..  Val Acc: 0.8276.. \n",
            "Epoch: 4/150..  Train Loss: 0.4305..  Val Loss: 0.4786..  Train Acc: 0.8520..  Val Acc: 0.8336.. \n",
            "Epoch: 5/150..  Train Loss: 0.4070..  Val Loss: 0.4602..  Train Acc: 0.8596..  Val Acc: 0.8389.. \n",
            "Epoch: 6/150..  Train Loss: 0.3898..  Val Loss: 0.4489..  Train Acc: 0.8652..  Val Acc: 0.8422.. \n",
            "Epoch: 7/150..  Train Loss: 0.3766..  Val Loss: 0.4342..  Train Acc: 0.8694..  Val Acc: 0.8466.. \n",
            "Epoch: 8/150..  Train Loss: 0.3660..  Val Loss: 0.4153..  Train Acc: 0.8727..  Val Acc: 0.8542.. \n",
            "Epoch: 9/150..  Train Loss: 0.3574..  Val Loss: 0.4049..  Train Acc: 0.8755..  Val Acc: 0.8575.. \n",
            "Epoch: 10/150..  Train Loss: 0.3501..  Val Loss: 0.3999..  Train Acc: 0.8776..  Val Acc: 0.8600.. \n",
            "Epoch: 11/150..  Train Loss: 0.3439..  Val Loss: 0.3874..  Train Acc: 0.8795..  Val Acc: 0.8640.. \n",
            "Epoch: 12/150..  Train Loss: 0.3386..  Val Loss: 0.3843..  Train Acc: 0.8811..  Val Acc: 0.8647.. \n",
            "Epoch: 13/150..  Train Loss: 0.3338..  Val Loss: 0.3758..  Train Acc: 0.8824..  Val Acc: 0.8678.. \n",
            "Epoch: 14/150..  Train Loss: 0.3296..  Val Loss: 0.3759..  Train Acc: 0.8836..  Val Acc: 0.8675.. \n",
            "Epoch: 15/150..  Train Loss: 0.3258..  Val Loss: 0.3737..  Train Acc: 0.8848..  Val Acc: 0.8687.. \n",
            "Epoch: 16/150..  Train Loss: 0.3224..  Val Loss: 0.3691..  Train Acc: 0.8858..  Val Acc: 0.8704.. \n",
            "Epoch: 17/150..  Train Loss: 0.3192..  Val Loss: 0.3728..  Train Acc: 0.8865..  Val Acc: 0.8697.. \n",
            "Epoch: 18/150..  Train Loss: 0.3163..  Val Loss: 0.3716..  Train Acc: 0.8874..  Val Acc: 0.8704.. \n",
            "Epoch: 19/150..  Train Loss: 0.3137..  Val Loss: 0.3580..  Train Acc: 0.8882..  Val Acc: 0.8745.. \n",
            "Epoch: 20/150..  Train Loss: 0.3112..  Val Loss: 0.3563..  Train Acc: 0.8890..  Val Acc: 0.8749.. \n",
            "Epoch: 21/150..  Train Loss: 0.3090..  Val Loss: 0.3485..  Train Acc: 0.8896..  Val Acc: 0.8776.. \n",
            "Epoch: 22/150..  Train Loss: 0.3068..  Val Loss: 0.3508..  Train Acc: 0.8902..  Val Acc: 0.8764.. \n",
            "Epoch: 23/150..  Train Loss: 0.3047..  Val Loss: 0.3519..  Train Acc: 0.8909..  Val Acc: 0.8765.. \n",
            "Epoch: 24/150..  Train Loss: 0.3028..  Val Loss: 0.3602..  Train Acc: 0.8915..  Val Acc: 0.8737.. \n",
            "Epoch: 25/150..  Train Loss: 0.3010..  Val Loss: 0.3524..  Train Acc: 0.8919..  Val Acc: 0.8760.. \n",
            "Epoch: 26/150..  Train Loss: 0.2993..  Val Loss: 0.3491..  Train Acc: 0.8925..  Val Acc: 0.8774.. \n",
            "Epoch: 27/150..  Train Loss: 0.2977..  Val Loss: 0.3494..  Train Acc: 0.8930..  Val Acc: 0.8774.. \n",
            "Epoch: 28/150..  Train Loss: 0.2960..  Val Loss: 0.3484..  Train Acc: 0.8935..  Val Acc: 0.8775.. \n",
            "Epoch: 29/150..  Train Loss: 0.2946..  Val Loss: 0.3466..  Train Acc: 0.8937..  Val Acc: 0.8774.. \n",
            "Epoch: 30/150..  Train Loss: 0.2932..  Val Loss: 0.3394..  Train Acc: 0.8942..  Val Acc: 0.8796.. \n",
            "Epoch: 31/150..  Train Loss: 0.2918..  Val Loss: 0.3389..  Train Acc: 0.8944..  Val Acc: 0.8799.. \n",
            "Epoch: 32/150..  Train Loss: 0.2904..  Val Loss: 0.3356..  Train Acc: 0.8948..  Val Acc: 0.8814.. \n",
            "Epoch: 33/150..  Train Loss: 0.2892..  Val Loss: 0.3374..  Train Acc: 0.8953..  Val Acc: 0.8807.. \n",
            "Epoch: 34/150..  Train Loss: 0.2879..  Val Loss: 0.3314..  Train Acc: 0.8957..  Val Acc: 0.8832.. \n",
            "Epoch: 35/150..  Train Loss: 0.2867..  Val Loss: 0.3310..  Train Acc: 0.8959..  Val Acc: 0.8829.. \n",
            "Epoch: 36/150..  Train Loss: 0.2856..  Val Loss: 0.3274..  Train Acc: 0.8963..  Val Acc: 0.8845.. \n",
            "Epoch: 37/150..  Train Loss: 0.2844..  Val Loss: 0.3320..  Train Acc: 0.8965..  Val Acc: 0.8823.. \n",
            "Epoch: 38/150..  Train Loss: 0.2833..  Val Loss: 0.3241..  Train Acc: 0.8968..  Val Acc: 0.8856.. \n",
            "Epoch: 39/150..  Train Loss: 0.2822..  Val Loss: 0.3172..  Train Acc: 0.8973..  Val Acc: 0.8878.. \n",
            "Epoch: 40/150..  Train Loss: 0.2812..  Val Loss: 0.3217..  Train Acc: 0.8975..  Val Acc: 0.8859.. \n",
            "Epoch: 41/150..  Train Loss: 0.2802..  Val Loss: 0.3159..  Train Acc: 0.8979..  Val Acc: 0.8877.. \n",
            "Epoch: 42/150..  Train Loss: 0.2792..  Val Loss: 0.3159..  Train Acc: 0.8981..  Val Acc: 0.8878.. \n",
            "Epoch: 43/150..  Train Loss: 0.2783..  Val Loss: 0.3105..  Train Acc: 0.8983..  Val Acc: 0.8892.. \n",
            "Epoch: 44/150..  Train Loss: 0.2773..  Val Loss: 0.3051..  Train Acc: 0.8987..  Val Acc: 0.8912.. \n",
            "Epoch: 45/150..  Train Loss: 0.2764..  Val Loss: 0.3082..  Train Acc: 0.8989..  Val Acc: 0.8898.. \n",
            "Epoch: 46/150..  Train Loss: 0.2755..  Val Loss: 0.3109..  Train Acc: 0.8992..  Val Acc: 0.8889.. \n",
            "Epoch: 47/150..  Train Loss: 0.2746..  Val Loss: 0.3090..  Train Acc: 0.8994..  Val Acc: 0.8894.. \n",
            "Epoch: 48/150..  Train Loss: 0.2738..  Val Loss: 0.3075..  Train Acc: 0.8998..  Val Acc: 0.8895.. \n",
            "Epoch: 49/150..  Train Loss: 0.2730..  Val Loss: 0.3039..  Train Acc: 0.9000..  Val Acc: 0.8909.. \n",
            "Epoch: 50/150..  Train Loss: 0.2722..  Val Loss: 0.3085..  Train Acc: 0.9002..  Val Acc: 0.8895.. \n",
            "Epoch: 51/150..  Train Loss: 0.2713..  Val Loss: 0.3022..  Train Acc: 0.9006..  Val Acc: 0.8916.. \n",
            "Epoch: 52/150..  Train Loss: 0.2706..  Val Loss: 0.3019..  Train Acc: 0.9009..  Val Acc: 0.8916.. \n",
            "Epoch: 53/150..  Train Loss: 0.2698..  Val Loss: 0.2988..  Train Acc: 0.9011..  Val Acc: 0.8928.. \n",
            "Epoch: 54/150..  Train Loss: 0.2691..  Val Loss: 0.2986..  Train Acc: 0.9012..  Val Acc: 0.8931.. \n",
            "Epoch: 55/150..  Train Loss: 0.2683..  Val Loss: 0.2946..  Train Acc: 0.9014..  Val Acc: 0.8941.. \n",
            "Epoch: 56/150..  Train Loss: 0.2676..  Val Loss: 0.2970..  Train Acc: 0.9017..  Val Acc: 0.8934.. \n",
            "Epoch: 57/150..  Train Loss: 0.2668..  Val Loss: 0.2930..  Train Acc: 0.9019..  Val Acc: 0.8947.. \n",
            "Epoch: 58/150..  Train Loss: 0.2662..  Val Loss: 0.2941..  Train Acc: 0.9021..  Val Acc: 0.8946.. \n",
            "Epoch: 59/150..  Train Loss: 0.2655..  Val Loss: 0.2913..  Train Acc: 0.9023..  Val Acc: 0.8956.. \n",
            "Epoch: 60/150..  Train Loss: 0.2648..  Val Loss: 0.2915..  Train Acc: 0.9023..  Val Acc: 0.8958.. \n",
            "Epoch: 61/150..  Train Loss: 0.2642..  Val Loss: 0.2897..  Train Acc: 0.9026..  Val Acc: 0.8962.. \n",
            "Epoch: 62/150..  Train Loss: 0.2636..  Val Loss: 0.2870..  Train Acc: 0.9028..  Val Acc: 0.8968.. \n",
            "Epoch: 63/150..  Train Loss: 0.2630..  Val Loss: 0.2859..  Train Acc: 0.9029..  Val Acc: 0.8973.. \n",
            "Epoch: 64/150..  Train Loss: 0.2624..  Val Loss: 0.2855..  Train Acc: 0.9032..  Val Acc: 0.8970.. \n",
            "Epoch: 65/150..  Train Loss: 0.2618..  Val Loss: 0.2859..  Train Acc: 0.9034..  Val Acc: 0.8975.. \n",
            "Epoch: 66/150..  Train Loss: 0.2612..  Val Loss: 0.2845..  Train Acc: 0.9036..  Val Acc: 0.8980.. \n",
            "Epoch: 67/150..  Train Loss: 0.2606..  Val Loss: 0.2879..  Train Acc: 0.9037..  Val Acc: 0.8966.. \n",
            "Epoch: 68/150..  Train Loss: 0.2600..  Val Loss: 0.2890..  Train Acc: 0.9039..  Val Acc: 0.8964.. \n",
            "Epoch: 69/150..  Train Loss: 0.2594..  Val Loss: 0.2890..  Train Acc: 0.9040..  Val Acc: 0.8963.. \n",
            "Epoch: 70/150..  Train Loss: 0.2589..  Val Loss: 0.2880..  Train Acc: 0.9042..  Val Acc: 0.8964.. \n",
            "Epoch: 71/150..  Train Loss: 0.2583..  Val Loss: 0.2885..  Train Acc: 0.9043..  Val Acc: 0.8965.. \n",
            "Epoch: 72/150..  Train Loss: 0.2578..  Val Loss: 0.2904..  Train Acc: 0.9045..  Val Acc: 0.8958.. \n",
            "Epoch: 73/150..  Train Loss: 0.2572..  Val Loss: 0.2882..  Train Acc: 0.9046..  Val Acc: 0.8963.. \n",
            "Epoch: 74/150..  Train Loss: 0.2568..  Val Loss: 0.2911..  Train Acc: 0.9048..  Val Acc: 0.8956.. \n",
            "Epoch: 75/150..  Train Loss: 0.2562..  Val Loss: 0.2952..  Train Acc: 0.9050..  Val Acc: 0.8944.. \n",
            "Epoch: 76/150..  Train Loss: 0.2557..  Val Loss: 0.2909..  Train Acc: 0.9050..  Val Acc: 0.8958.. \n",
            "Epoch: 77/150..  Train Loss: 0.2551..  Val Loss: 0.2835..  Train Acc: 0.9054..  Val Acc: 0.8981.. \n",
            "Epoch: 78/150..  Train Loss: 0.2547..  Val Loss: 0.2857..  Train Acc: 0.9054..  Val Acc: 0.8974.. \n",
            "Epoch: 79/150..  Train Loss: 0.2541..  Val Loss: 0.2887..  Train Acc: 0.9055..  Val Acc: 0.8971.. \n",
            "Epoch: 80/150..  Train Loss: 0.2537..  Val Loss: 0.2847..  Train Acc: 0.9056..  Val Acc: 0.8982.. \n",
            "Epoch: 81/150..  Train Loss: 0.2532..  Val Loss: 0.2852..  Train Acc: 0.9059..  Val Acc: 0.8984.. \n",
            "Epoch: 82/150..  Train Loss: 0.2528..  Val Loss: 0.2824..  Train Acc: 0.9058..  Val Acc: 0.8990.. \n",
            "Epoch: 83/150..  Train Loss: 0.2523..  Val Loss: 0.2829..  Train Acc: 0.9061..  Val Acc: 0.8988.. \n",
            "Epoch: 84/150..  Train Loss: 0.2518..  Val Loss: 0.2827..  Train Acc: 0.9063..  Val Acc: 0.8989.. \n",
            "Epoch: 85/150..  Train Loss: 0.2513..  Val Loss: 0.2824..  Train Acc: 0.9064..  Val Acc: 0.8988.. \n"
          ],
          "name": "stdout"
        },
        {
          "output_type": "error",
          "ename": "KeyboardInterrupt",
          "evalue": "ignored",
          "traceback": [
            "\u001b[0;31m---------------------------------------------------------------------------\u001b[0m",
            "\u001b[0;31mKeyboardInterrupt\u001b[0m                         Traceback (most recent call last)",
            "\u001b[0;32m<ipython-input-16-ea2fecd80181>\u001b[0m in \u001b[0;36m<module>\u001b[0;34m()\u001b[0m\n\u001b[1;32m     14\u001b[0m         )\n\u001b[1;32m     15\u001b[0m \u001b[0;34m\u001b[0m\u001b[0m\n\u001b[0;32m---> 16\u001b[0;31m \u001b[0mexecute_model\u001b[0m\u001b[0;34m(\u001b[0m\u001b[0mmodel1\u001b[0m\u001b[0;34m,\u001b[0m \u001b[0mparams1\u001b[0m\u001b[0;34m)\u001b[0m\u001b[0;34m\u001b[0m\u001b[0;34m\u001b[0m\u001b[0m\n\u001b[0m",
            "\u001b[0;32m<ipython-input-14-fe01bb0afc74>\u001b[0m in \u001b[0;36mexecute_model\u001b[0;34m(model, dict_params)\u001b[0m\n\u001b[1;32m     43\u001b[0m \u001b[0;34m\u001b[0m\u001b[0m\n\u001b[1;32m     44\u001b[0m           \u001b[0;31m#backpropagation\u001b[0m\u001b[0;34m\u001b[0m\u001b[0;34m\u001b[0m\u001b[0;34m\u001b[0m\u001b[0m\n\u001b[0;32m---> 45\u001b[0;31m           \u001b[0mloss\u001b[0m\u001b[0;34m.\u001b[0m\u001b[0mbackward\u001b[0m\u001b[0;34m(\u001b[0m\u001b[0;34m)\u001b[0m\u001b[0;34m\u001b[0m\u001b[0;34m\u001b[0m\u001b[0m\n\u001b[0m\u001b[1;32m     46\u001b[0m           \u001b[0moptimizer\u001b[0m\u001b[0;34m.\u001b[0m\u001b[0mstep\u001b[0m\u001b[0;34m(\u001b[0m\u001b[0;34m)\u001b[0m\u001b[0;34m\u001b[0m\u001b[0;34m\u001b[0m\u001b[0m\n\u001b[1;32m     47\u001b[0m \u001b[0;34m\u001b[0m\u001b[0m\n",
            "\u001b[0;32m/usr/local/lib/python3.7/dist-packages/torch/tensor.py\u001b[0m in \u001b[0;36mbackward\u001b[0;34m(self, gradient, retain_graph, create_graph, inputs)\u001b[0m\n\u001b[1;32m    243\u001b[0m                 \u001b[0mcreate_graph\u001b[0m\u001b[0;34m=\u001b[0m\u001b[0mcreate_graph\u001b[0m\u001b[0;34m,\u001b[0m\u001b[0;34m\u001b[0m\u001b[0;34m\u001b[0m\u001b[0m\n\u001b[1;32m    244\u001b[0m                 inputs=inputs)\n\u001b[0;32m--> 245\u001b[0;31m         \u001b[0mtorch\u001b[0m\u001b[0;34m.\u001b[0m\u001b[0mautograd\u001b[0m\u001b[0;34m.\u001b[0m\u001b[0mbackward\u001b[0m\u001b[0;34m(\u001b[0m\u001b[0mself\u001b[0m\u001b[0;34m,\u001b[0m \u001b[0mgradient\u001b[0m\u001b[0;34m,\u001b[0m \u001b[0mretain_graph\u001b[0m\u001b[0;34m,\u001b[0m \u001b[0mcreate_graph\u001b[0m\u001b[0;34m,\u001b[0m \u001b[0minputs\u001b[0m\u001b[0;34m=\u001b[0m\u001b[0minputs\u001b[0m\u001b[0;34m)\u001b[0m\u001b[0;34m\u001b[0m\u001b[0;34m\u001b[0m\u001b[0m\n\u001b[0m\u001b[1;32m    246\u001b[0m \u001b[0;34m\u001b[0m\u001b[0m\n\u001b[1;32m    247\u001b[0m     \u001b[0;32mdef\u001b[0m \u001b[0mregister_hook\u001b[0m\u001b[0;34m(\u001b[0m\u001b[0mself\u001b[0m\u001b[0;34m,\u001b[0m \u001b[0mhook\u001b[0m\u001b[0;34m)\u001b[0m\u001b[0;34m:\u001b[0m\u001b[0;34m\u001b[0m\u001b[0;34m\u001b[0m\u001b[0m\n",
            "\u001b[0;32m/usr/local/lib/python3.7/dist-packages/torch/autograd/__init__.py\u001b[0m in \u001b[0;36mbackward\u001b[0;34m(tensors, grad_tensors, retain_graph, create_graph, grad_variables, inputs)\u001b[0m\n\u001b[1;32m    145\u001b[0m     Variable._execution_engine.run_backward(\n\u001b[1;32m    146\u001b[0m         \u001b[0mtensors\u001b[0m\u001b[0;34m,\u001b[0m \u001b[0mgrad_tensors_\u001b[0m\u001b[0;34m,\u001b[0m \u001b[0mretain_graph\u001b[0m\u001b[0;34m,\u001b[0m \u001b[0mcreate_graph\u001b[0m\u001b[0;34m,\u001b[0m \u001b[0minputs\u001b[0m\u001b[0;34m,\u001b[0m\u001b[0;34m\u001b[0m\u001b[0;34m\u001b[0m\u001b[0m\n\u001b[0;32m--> 147\u001b[0;31m         allow_unreachable=True, accumulate_grad=True)  # allow_unreachable flag\n\u001b[0m\u001b[1;32m    148\u001b[0m \u001b[0;34m\u001b[0m\u001b[0m\n\u001b[1;32m    149\u001b[0m \u001b[0;34m\u001b[0m\u001b[0m\n",
            "\u001b[0;31mKeyboardInterrupt\u001b[0m: "
          ]
        }
      ]
    },
    {
      "cell_type": "code",
      "metadata": {
        "colab": {
          "base_uri": "https://localhost:8080/",
          "height": 1000
        },
        "id": "urRmBXTXllAM",
        "outputId": "e5c1f8d5-48fe-4833-be6c-ee4150d047fa"
      },
      "source": [
        "params = dict()\n",
        "params['EPOCHS'] = 200\n",
        "params['BATCH_SIZE'] = 64 \n",
        "params['LEARNING_RATE'] = 0.05\n",
        "params['CRITERION'] = nn.CrossEntropyLoss()\n",
        "params['OPTIMIZER'] = 'SGD'\n",
        "\n",
        "model = nn.Sequential(\n",
        "          nn.Linear(NUM_FEATURES, 512),\n",
        "          nn.ReLU(),\n",
        "          nn.Linear(512, NUM_CLASSES)\n",
        "        )\n",
        "\n",
        "execute_model(model, params)"
      ],
      "execution_count": null,
      "outputs": [
        {
          "output_type": "stream",
          "text": [
            "Shape X_train (936408, 112)\n",
            "Shape y_train (936408,)\n",
            "Shape X_val (117052, 112)\n",
            "Shape y_val (117052,)\n",
            "Shape X_test (117051, 112)\n",
            "Shape y_test (117051,)\n",
            "Len DF original 1170511\n",
            "Len train + val + test 1170511\n",
            "Sequential(\n",
            "  (0): Linear(in_features=112, out_features=512, bias=True)\n",
            "  (1): ReLU()\n",
            "  (2): Linear(in_features=512, out_features=12, bias=True)\n",
            ")\n",
            "Epoch: 1/200..  Train Loss: 0.7324..  Val Loss: 0.7729..  Train Acc: 0.7440..  Val Acc: 0.7226.. \n",
            "Epoch: 2/200..  Train Loss: 0.5969..  Val Loss: 0.6835..  Train Acc: 0.7974..  Val Acc: 0.7610.. \n",
            "Epoch: 3/200..  Train Loss: 0.5444..  Val Loss: 0.6168..  Train Acc: 0.8173..  Val Acc: 0.7878.. \n",
            "Epoch: 4/200..  Train Loss: 0.5115..  Val Loss: 0.5773..  Train Acc: 0.8281..  Val Acc: 0.8013.. \n",
            "Epoch: 5/200..  Train Loss: 0.4881..  Val Loss: 0.5495..  Train Acc: 0.8358..  Val Acc: 0.8113.. \n",
            "Epoch: 6/200..  Train Loss: 0.4709..  Val Loss: 0.5286..  Train Acc: 0.8413..  Val Acc: 0.8187.. \n",
            "Epoch: 7/200..  Train Loss: 0.4570..  Val Loss: 0.5146..  Train Acc: 0.8455..  Val Acc: 0.8244.. \n",
            "Epoch: 8/200..  Train Loss: 0.4458..  Val Loss: 0.5063..  Train Acc: 0.8490..  Val Acc: 0.8278.. \n",
            "Epoch: 9/200..  Train Loss: 0.4364..  Val Loss: 0.4995..  Train Acc: 0.8521..  Val Acc: 0.8296.. \n",
            "Epoch: 10/200..  Train Loss: 0.4286..  Val Loss: 0.4891..  Train Acc: 0.8547..  Val Acc: 0.8333.. \n",
            "Epoch: 11/200..  Train Loss: 0.4217..  Val Loss: 0.4804..  Train Acc: 0.8569..  Val Acc: 0.8362.. \n",
            "Epoch: 12/200..  Train Loss: 0.4156..  Val Loss: 0.4754..  Train Acc: 0.8588..  Val Acc: 0.8381.. \n",
            "Epoch: 13/200..  Train Loss: 0.4103..  Val Loss: 0.4691..  Train Acc: 0.8604..  Val Acc: 0.8398.. \n",
            "Epoch: 14/200..  Train Loss: 0.4056..  Val Loss: 0.4626..  Train Acc: 0.8618..  Val Acc: 0.8420.. \n",
            "Epoch: 15/200..  Train Loss: 0.4012..  Val Loss: 0.4579..  Train Acc: 0.8633..  Val Acc: 0.8432.. \n",
            "Epoch: 16/200..  Train Loss: 0.3971..  Val Loss: 0.4532..  Train Acc: 0.8645..  Val Acc: 0.8446.. \n",
            "Epoch: 17/200..  Train Loss: 0.3935..  Val Loss: 0.4483..  Train Acc: 0.8655..  Val Acc: 0.8459.. \n",
            "Epoch: 18/200..  Train Loss: 0.3900..  Val Loss: 0.4452..  Train Acc: 0.8666..  Val Acc: 0.8467.. \n",
            "Epoch: 19/200..  Train Loss: 0.3868..  Val Loss: 0.4423..  Train Acc: 0.8676..  Val Acc: 0.8473.. \n",
            "Epoch: 20/200..  Train Loss: 0.3838..  Val Loss: 0.4385..  Train Acc: 0.8685..  Val Acc: 0.8483.. \n",
            "Epoch: 21/200..  Train Loss: 0.3810..  Val Loss: 0.4355..  Train Acc: 0.8692..  Val Acc: 0.8492.. \n",
            "Epoch: 22/200..  Train Loss: 0.3784..  Val Loss: 0.4352..  Train Acc: 0.8699..  Val Acc: 0.8493.. \n",
            "Epoch: 23/200..  Train Loss: 0.3759..  Val Loss: 0.4320..  Train Acc: 0.8706..  Val Acc: 0.8501.. \n",
            "Epoch: 24/200..  Train Loss: 0.3736..  Val Loss: 0.4320..  Train Acc: 0.8713..  Val Acc: 0.8495.. \n",
            "Epoch: 25/200..  Train Loss: 0.3714..  Val Loss: 0.4273..  Train Acc: 0.8720..  Val Acc: 0.8515.. \n",
            "Epoch: 26/200..  Train Loss: 0.3693..  Val Loss: 0.4248..  Train Acc: 0.8726..  Val Acc: 0.8520.. \n",
            "Epoch: 27/200..  Train Loss: 0.3674..  Val Loss: 0.4207..  Train Acc: 0.8731..  Val Acc: 0.8536.. \n",
            "Epoch: 28/200..  Train Loss: 0.3655..  Val Loss: 0.4180..  Train Acc: 0.8737..  Val Acc: 0.8548.. \n",
            "Epoch: 29/200..  Train Loss: 0.3638..  Val Loss: 0.4180..  Train Acc: 0.8742..  Val Acc: 0.8546.. \n",
            "Epoch: 30/200..  Train Loss: 0.3620..  Val Loss: 0.4161..  Train Acc: 0.8747..  Val Acc: 0.8551.. \n",
            "Epoch: 31/200..  Train Loss: 0.3603..  Val Loss: 0.4146..  Train Acc: 0.8752..  Val Acc: 0.8556.. \n",
            "Epoch: 32/200..  Train Loss: 0.3586..  Val Loss: 0.4137..  Train Acc: 0.8756..  Val Acc: 0.8556.. \n",
            "Epoch: 33/200..  Train Loss: 0.3570..  Val Loss: 0.4139..  Train Acc: 0.8760..  Val Acc: 0.8551.. \n",
            "Epoch: 34/200..  Train Loss: 0.3555..  Val Loss: 0.4126..  Train Acc: 0.8765..  Val Acc: 0.8555.. \n",
            "Epoch: 35/200..  Train Loss: 0.3540..  Val Loss: 0.4102..  Train Acc: 0.8770..  Val Acc: 0.8564.. \n",
            "Epoch: 36/200..  Train Loss: 0.3526..  Val Loss: 0.4077..  Train Acc: 0.8774..  Val Acc: 0.8569.. \n",
            "Epoch: 37/200..  Train Loss: 0.3512..  Val Loss: 0.4085..  Train Acc: 0.8778..  Val Acc: 0.8562.. \n",
            "Epoch: 38/200..  Train Loss: 0.3499..  Val Loss: 0.4038..  Train Acc: 0.8782..  Val Acc: 0.8583.. \n",
            "Epoch: 39/200..  Train Loss: 0.3487..  Val Loss: 0.4018..  Train Acc: 0.8784..  Val Acc: 0.8587.. \n",
            "Epoch: 40/200..  Train Loss: 0.3475..  Val Loss: 0.4024..  Train Acc: 0.8789..  Val Acc: 0.8585.. \n",
            "Epoch: 41/200..  Train Loss: 0.3463..  Val Loss: 0.4000..  Train Acc: 0.8790..  Val Acc: 0.8596.. \n",
            "Epoch: 42/200..  Train Loss: 0.3451..  Val Loss: 0.3979..  Train Acc: 0.8795..  Val Acc: 0.8602.. \n",
            "Epoch: 43/200..  Train Loss: 0.3440..  Val Loss: 0.3991..  Train Acc: 0.8798..  Val Acc: 0.8597.. \n",
            "Epoch: 44/200..  Train Loss: 0.3429..  Val Loss: 0.3957..  Train Acc: 0.8800..  Val Acc: 0.8607.. \n",
            "Epoch: 45/200..  Train Loss: 0.3418..  Val Loss: 0.3938..  Train Acc: 0.8804..  Val Acc: 0.8614.. \n",
            "Epoch: 46/200..  Train Loss: 0.3408..  Val Loss: 0.3921..  Train Acc: 0.8806..  Val Acc: 0.8622.. \n",
            "Epoch: 47/200..  Train Loss: 0.3397..  Val Loss: 0.3911..  Train Acc: 0.8809..  Val Acc: 0.8621.. \n",
            "Epoch: 48/200..  Train Loss: 0.3387..  Val Loss: 0.3873..  Train Acc: 0.8812..  Val Acc: 0.8638.. \n",
            "Epoch: 49/200..  Train Loss: 0.3378..  Val Loss: 0.3845..  Train Acc: 0.8815..  Val Acc: 0.8648.. \n",
            "Epoch: 50/200..  Train Loss: 0.3368..  Val Loss: 0.3863..  Train Acc: 0.8818..  Val Acc: 0.8638.. \n",
            "Epoch: 51/200..  Train Loss: 0.3359..  Val Loss: 0.3848..  Train Acc: 0.8820..  Val Acc: 0.8644.. \n",
            "Epoch: 52/200..  Train Loss: 0.3350..  Val Loss: 0.3804..  Train Acc: 0.8822..  Val Acc: 0.8663.. \n",
            "Epoch: 53/200..  Train Loss: 0.3341..  Val Loss: 0.3807..  Train Acc: 0.8825..  Val Acc: 0.8658.. \n",
            "Epoch: 54/200..  Train Loss: 0.3333..  Val Loss: 0.3800..  Train Acc: 0.8827..  Val Acc: 0.8662.. \n",
            "Epoch: 55/200..  Train Loss: 0.3324..  Val Loss: 0.3799..  Train Acc: 0.8830..  Val Acc: 0.8664.. \n",
            "Epoch: 56/200..  Train Loss: 0.3316..  Val Loss: 0.3791..  Train Acc: 0.8832..  Val Acc: 0.8664.. \n",
            "Epoch: 57/200..  Train Loss: 0.3309..  Val Loss: 0.3763..  Train Acc: 0.8835..  Val Acc: 0.8674.. \n",
            "Epoch: 58/200..  Train Loss: 0.3301..  Val Loss: 0.3744..  Train Acc: 0.8836..  Val Acc: 0.8678.. \n",
            "Epoch: 59/200..  Train Loss: 0.3293..  Val Loss: 0.3733..  Train Acc: 0.8839..  Val Acc: 0.8683.. \n",
            "Epoch: 60/200..  Train Loss: 0.3286..  Val Loss: 0.3725..  Train Acc: 0.8840..  Val Acc: 0.8682.. \n",
            "Epoch: 61/200..  Train Loss: 0.3279..  Val Loss: 0.3751..  Train Acc: 0.8842..  Val Acc: 0.8674.. \n",
            "Epoch: 62/200..  Train Loss: 0.3272..  Val Loss: 0.3728..  Train Acc: 0.8845..  Val Acc: 0.8681.. \n",
            "Epoch: 63/200..  Train Loss: 0.3265..  Val Loss: 0.3699..  Train Acc: 0.8847..  Val Acc: 0.8693.. \n",
            "Epoch: 64/200..  Train Loss: 0.3258..  Val Loss: 0.3696..  Train Acc: 0.8849..  Val Acc: 0.8694.. \n",
            "Epoch: 65/200..  Train Loss: 0.3252..  Val Loss: 0.3698..  Train Acc: 0.8850..  Val Acc: 0.8692.. \n",
            "Epoch: 66/200..  Train Loss: 0.3245..  Val Loss: 0.3695..  Train Acc: 0.8853..  Val Acc: 0.8693.. \n",
            "Epoch: 67/200..  Train Loss: 0.3239..  Val Loss: 0.3688..  Train Acc: 0.8854..  Val Acc: 0.8694.. \n",
            "Epoch: 68/200..  Train Loss: 0.3233..  Val Loss: 0.3676..  Train Acc: 0.8855..  Val Acc: 0.8700.. \n",
            "Epoch: 69/200..  Train Loss: 0.3226..  Val Loss: 0.3669..  Train Acc: 0.8857..  Val Acc: 0.8701.. \n",
            "Epoch: 70/200..  Train Loss: 0.3220..  Val Loss: 0.3647..  Train Acc: 0.8859..  Val Acc: 0.8709.. \n",
            "Epoch: 71/200..  Train Loss: 0.3214..  Val Loss: 0.3647..  Train Acc: 0.8861..  Val Acc: 0.8707.. \n",
            "Epoch: 72/200..  Train Loss: 0.3208..  Val Loss: 0.3640..  Train Acc: 0.8863..  Val Acc: 0.8709.. \n",
            "Epoch: 73/200..  Train Loss: 0.3203..  Val Loss: 0.3624..  Train Acc: 0.8864..  Val Acc: 0.8716.. \n",
            "Epoch: 74/200..  Train Loss: 0.3197..  Val Loss: 0.3640..  Train Acc: 0.8866..  Val Acc: 0.8709.. \n",
            "Epoch: 75/200..  Train Loss: 0.3192..  Val Loss: 0.3612..  Train Acc: 0.8867..  Val Acc: 0.8718.. \n",
            "Epoch: 76/200..  Train Loss: 0.3186..  Val Loss: 0.3605..  Train Acc: 0.8869..  Val Acc: 0.8719.. \n",
            "Epoch: 77/200..  Train Loss: 0.3181..  Val Loss: 0.3614..  Train Acc: 0.8871..  Val Acc: 0.8717.. \n",
            "Epoch: 78/200..  Train Loss: 0.3176..  Val Loss: 0.3594..  Train Acc: 0.8872..  Val Acc: 0.8722.. \n",
            "Epoch: 79/200..  Train Loss: 0.3171..  Val Loss: 0.3613..  Train Acc: 0.8874..  Val Acc: 0.8716.. \n",
            "Epoch: 80/200..  Train Loss: 0.3166..  Val Loss: 0.3615..  Train Acc: 0.8875..  Val Acc: 0.8716.. \n",
            "Epoch: 81/200..  Train Loss: 0.3161..  Val Loss: 0.3594..  Train Acc: 0.8877..  Val Acc: 0.8721.. \n",
            "Epoch: 82/200..  Train Loss: 0.3157..  Val Loss: 0.3590..  Train Acc: 0.8878..  Val Acc: 0.8723.. \n",
            "Epoch: 83/200..  Train Loss: 0.3152..  Val Loss: 0.3585..  Train Acc: 0.8879..  Val Acc: 0.8726.. \n",
            "Epoch: 84/200..  Train Loss: 0.3147..  Val Loss: 0.3567..  Train Acc: 0.8881..  Val Acc: 0.8729.. \n",
            "Epoch: 85/200..  Train Loss: 0.3143..  Val Loss: 0.3558..  Train Acc: 0.8882..  Val Acc: 0.8732.. \n",
            "Epoch: 86/200..  Train Loss: 0.3138..  Val Loss: 0.3557..  Train Acc: 0.8883..  Val Acc: 0.8732.. \n",
            "Epoch: 87/200..  Train Loss: 0.3134..  Val Loss: 0.3560..  Train Acc: 0.8885..  Val Acc: 0.8731.. \n",
            "Epoch: 88/200..  Train Loss: 0.3129..  Val Loss: 0.3545..  Train Acc: 0.8886..  Val Acc: 0.8737.. \n",
            "Epoch: 89/200..  Train Loss: 0.3125..  Val Loss: 0.3534..  Train Acc: 0.8888..  Val Acc: 0.8741.. \n",
            "Epoch: 90/200..  Train Loss: 0.3121..  Val Loss: 0.3528..  Train Acc: 0.8888..  Val Acc: 0.8743.. \n",
            "Epoch: 91/200..  Train Loss: 0.3117..  Val Loss: 0.3512..  Train Acc: 0.8889..  Val Acc: 0.8748.. \n",
            "Epoch: 92/200..  Train Loss: 0.3113..  Val Loss: 0.3513..  Train Acc: 0.8891..  Val Acc: 0.8745.. \n",
            "Epoch: 93/200..  Train Loss: 0.3108..  Val Loss: 0.3497..  Train Acc: 0.8892..  Val Acc: 0.8751.. \n",
            "Epoch: 94/200..  Train Loss: 0.3104..  Val Loss: 0.3479..  Train Acc: 0.8894..  Val Acc: 0.8756.. \n",
            "Epoch: 95/200..  Train Loss: 0.3101..  Val Loss: 0.3482..  Train Acc: 0.8894..  Val Acc: 0.8755.. \n",
            "Epoch: 96/200..  Train Loss: 0.3097..  Val Loss: 0.3470..  Train Acc: 0.8896..  Val Acc: 0.8758.. \n",
            "Epoch: 97/200..  Train Loss: 0.3093..  Val Loss: 0.3480..  Train Acc: 0.8896..  Val Acc: 0.8753.. \n",
            "Epoch: 98/200..  Train Loss: 0.3089..  Val Loss: 0.3466..  Train Acc: 0.8898..  Val Acc: 0.8758.. \n",
            "Epoch: 99/200..  Train Loss: 0.3085..  Val Loss: 0.3460..  Train Acc: 0.8898..  Val Acc: 0.8762.. \n",
            "Epoch: 100/200..  Train Loss: 0.3082..  Val Loss: 0.3438..  Train Acc: 0.8899..  Val Acc: 0.8769.. \n",
            "Epoch: 101/200..  Train Loss: 0.3078..  Val Loss: 0.3438..  Train Acc: 0.8900..  Val Acc: 0.8768.. \n",
            "Epoch: 102/200..  Train Loss: 0.3075..  Val Loss: 0.3439..  Train Acc: 0.8902..  Val Acc: 0.8767.. \n",
            "Epoch: 103/200..  Train Loss: 0.3071..  Val Loss: 0.3431..  Train Acc: 0.8903..  Val Acc: 0.8771.. \n",
            "Epoch: 104/200..  Train Loss: 0.3068..  Val Loss: 0.3428..  Train Acc: 0.8904..  Val Acc: 0.8772.. \n",
            "Epoch: 105/200..  Train Loss: 0.3064..  Val Loss: 0.3409..  Train Acc: 0.8905..  Val Acc: 0.8778.. \n",
            "Epoch: 106/200..  Train Loss: 0.3061..  Val Loss: 0.3425..  Train Acc: 0.8906..  Val Acc: 0.8772.. \n",
            "Epoch: 107/200..  Train Loss: 0.3057..  Val Loss: 0.3420..  Train Acc: 0.8907..  Val Acc: 0.8774.. \n",
            "Epoch: 108/200..  Train Loss: 0.3054..  Val Loss: 0.3409..  Train Acc: 0.8909..  Val Acc: 0.8779.. \n",
            "Epoch: 109/200..  Train Loss: 0.3051..  Val Loss: 0.3395..  Train Acc: 0.8910..  Val Acc: 0.8782.. \n",
            "Epoch: 110/200..  Train Loss: 0.3047..  Val Loss: 0.3397..  Train Acc: 0.8910..  Val Acc: 0.8782.. \n",
            "Epoch: 111/200..  Train Loss: 0.3044..  Val Loss: 0.3391..  Train Acc: 0.8912..  Val Acc: 0.8785.. \n",
            "Epoch: 112/200..  Train Loss: 0.3041..  Val Loss: 0.3378..  Train Acc: 0.8912..  Val Acc: 0.8789.. \n",
            "Epoch: 113/200..  Train Loss: 0.3038..  Val Loss: 0.3407..  Train Acc: 0.8913..  Val Acc: 0.8777.. \n",
            "Epoch: 114/200..  Train Loss: 0.3035..  Val Loss: 0.3389..  Train Acc: 0.8915..  Val Acc: 0.8784.. \n",
            "Epoch: 115/200..  Train Loss: 0.3032..  Val Loss: 0.3395..  Train Acc: 0.8915..  Val Acc: 0.8782.. \n",
            "Epoch: 116/200..  Train Loss: 0.3029..  Val Loss: 0.3388..  Train Acc: 0.8917..  Val Acc: 0.8782.. \n",
            "Epoch: 117/200..  Train Loss: 0.3026..  Val Loss: 0.3397..  Train Acc: 0.8917..  Val Acc: 0.8780.. \n",
            "Epoch: 118/200..  Train Loss: 0.3023..  Val Loss: 0.3390..  Train Acc: 0.8917..  Val Acc: 0.8783.. \n",
            "Epoch: 119/200..  Train Loss: 0.3020..  Val Loss: 0.3392..  Train Acc: 0.8919..  Val Acc: 0.8784.. \n",
            "Epoch: 120/200..  Train Loss: 0.3017..  Val Loss: 0.3390..  Train Acc: 0.8920..  Val Acc: 0.8784.. \n",
            "Epoch: 121/200..  Train Loss: 0.3014..  Val Loss: 0.3383..  Train Acc: 0.8921..  Val Acc: 0.8786.. \n",
            "Epoch: 122/200..  Train Loss: 0.3012..  Val Loss: 0.3394..  Train Acc: 0.8922..  Val Acc: 0.8782.. \n",
            "Epoch: 123/200..  Train Loss: 0.3009..  Val Loss: 0.3396..  Train Acc: 0.8923..  Val Acc: 0.8782.. \n",
            "Epoch: 124/200..  Train Loss: 0.3006..  Val Loss: 0.3387..  Train Acc: 0.8923..  Val Acc: 0.8786.. \n",
            "Epoch: 125/200..  Train Loss: 0.3004..  Val Loss: 0.3391..  Train Acc: 0.8924..  Val Acc: 0.8782.. \n",
            "Epoch: 126/200..  Train Loss: 0.3001..  Val Loss: 0.3377..  Train Acc: 0.8925..  Val Acc: 0.8786.. \n",
            "Epoch: 127/200..  Train Loss: 0.2998..  Val Loss: 0.3364..  Train Acc: 0.8925..  Val Acc: 0.8794.. \n",
            "Epoch: 128/200..  Train Loss: 0.2996..  Val Loss: 0.3364..  Train Acc: 0.8926..  Val Acc: 0.8792.. \n",
            "Epoch: 129/200..  Train Loss: 0.2993..  Val Loss: 0.3349..  Train Acc: 0.8926..  Val Acc: 0.8799.. \n",
            "Epoch: 130/200..  Train Loss: 0.2991..  Val Loss: 0.3354..  Train Acc: 0.8927..  Val Acc: 0.8797.. \n",
            "Epoch: 131/200..  Train Loss: 0.2989..  Val Loss: 0.3347..  Train Acc: 0.8928..  Val Acc: 0.8799.. \n",
            "Epoch: 132/200..  Train Loss: 0.2986..  Val Loss: 0.3341..  Train Acc: 0.8928..  Val Acc: 0.8802.. \n",
            "Epoch: 133/200..  Train Loss: 0.2984..  Val Loss: 0.3345..  Train Acc: 0.8929..  Val Acc: 0.8803.. \n",
            "Epoch: 134/200..  Train Loss: 0.2981..  Val Loss: 0.3349..  Train Acc: 0.8930..  Val Acc: 0.8800.. \n",
            "Epoch: 135/200..  Train Loss: 0.2979..  Val Loss: 0.3344..  Train Acc: 0.8931..  Val Acc: 0.8802.. \n",
            "Epoch: 136/200..  Train Loss: 0.2977..  Val Loss: 0.3337..  Train Acc: 0.8932..  Val Acc: 0.8804.. \n",
            "Epoch: 137/200..  Train Loss: 0.2975..  Val Loss: 0.3336..  Train Acc: 0.8931..  Val Acc: 0.8804.. \n",
            "Epoch: 138/200..  Train Loss: 0.2972..  Val Loss: 0.3332..  Train Acc: 0.8933..  Val Acc: 0.8807.. \n",
            "Epoch: 139/200..  Train Loss: 0.2970..  Val Loss: 0.3347..  Train Acc: 0.8934..  Val Acc: 0.8801.. \n",
            "Epoch: 140/200..  Train Loss: 0.2968..  Val Loss: 0.3340..  Train Acc: 0.8934..  Val Acc: 0.8806.. \n",
            "Epoch: 141/200..  Train Loss: 0.2966..  Val Loss: 0.3332..  Train Acc: 0.8935..  Val Acc: 0.8810.. \n",
            "Epoch: 142/200..  Train Loss: 0.2963..  Val Loss: 0.3336..  Train Acc: 0.8936..  Val Acc: 0.8809.. \n",
            "Epoch: 143/200..  Train Loss: 0.2961..  Val Loss: 0.3341..  Train Acc: 0.8936..  Val Acc: 0.8810.. \n",
            "Epoch: 144/200..  Train Loss: 0.2959..  Val Loss: 0.3326..  Train Acc: 0.8937..  Val Acc: 0.8813.. \n",
            "Epoch: 145/200..  Train Loss: 0.2957..  Val Loss: 0.3319..  Train Acc: 0.8938..  Val Acc: 0.8813.. \n",
            "Epoch: 146/200..  Train Loss: 0.2955..  Val Loss: 0.3327..  Train Acc: 0.8938..  Val Acc: 0.8810.. \n",
            "Epoch: 147/200..  Train Loss: 0.2953..  Val Loss: 0.3317..  Train Acc: 0.8938..  Val Acc: 0.8814.. \n",
            "Epoch: 148/200..  Train Loss: 0.2951..  Val Loss: 0.3320..  Train Acc: 0.8940..  Val Acc: 0.8813.. \n",
            "Epoch: 149/200..  Train Loss: 0.2949..  Val Loss: 0.3318..  Train Acc: 0.8940..  Val Acc: 0.8812.. \n",
            "Epoch: 150/200..  Train Loss: 0.2947..  Val Loss: 0.3309..  Train Acc: 0.8941..  Val Acc: 0.8816.. \n",
            "Epoch: 151/200..  Train Loss: 0.2944..  Val Loss: 0.3304..  Train Acc: 0.8942..  Val Acc: 0.8816.. \n",
            "Epoch: 152/200..  Train Loss: 0.2942..  Val Loss: 0.3309..  Train Acc: 0.8941..  Val Acc: 0.8815.. \n",
            "Epoch: 153/200..  Train Loss: 0.2940..  Val Loss: 0.3306..  Train Acc: 0.8943..  Val Acc: 0.8816.. \n",
            "Epoch: 154/200..  Train Loss: 0.2938..  Val Loss: 0.3299..  Train Acc: 0.8943..  Val Acc: 0.8819.. \n",
            "Epoch: 155/200..  Train Loss: 0.2937..  Val Loss: 0.3301..  Train Acc: 0.8943..  Val Acc: 0.8818.. \n",
            "Epoch: 156/200..  Train Loss: 0.2935..  Val Loss: 0.3299..  Train Acc: 0.8944..  Val Acc: 0.8817.. \n",
            "Epoch: 157/200..  Train Loss: 0.2932..  Val Loss: 0.3301..  Train Acc: 0.8945..  Val Acc: 0.8816.. \n",
            "Epoch: 158/200..  Train Loss: 0.2931..  Val Loss: 0.3289..  Train Acc: 0.8946..  Val Acc: 0.8822.. \n",
            "Epoch: 159/200..  Train Loss: 0.2929..  Val Loss: 0.3294..  Train Acc: 0.8946..  Val Acc: 0.8820.. \n",
            "Epoch: 160/200..  Train Loss: 0.2927..  Val Loss: 0.3296..  Train Acc: 0.8946..  Val Acc: 0.8819.. \n",
            "Epoch: 161/200..  Train Loss: 0.2925..  Val Loss: 0.3277..  Train Acc: 0.8947..  Val Acc: 0.8826.. \n",
            "Epoch: 162/200..  Train Loss: 0.2923..  Val Loss: 0.3291..  Train Acc: 0.8948..  Val Acc: 0.8822.. \n",
            "Epoch: 163/200..  Train Loss: 0.2921..  Val Loss: 0.3281..  Train Acc: 0.8949..  Val Acc: 0.8825.. \n",
            "Epoch: 164/200..  Train Loss: 0.2919..  Val Loss: 0.3285..  Train Acc: 0.8949..  Val Acc: 0.8823.. \n",
            "Epoch: 165/200..  Train Loss: 0.2918..  Val Loss: 0.3279..  Train Acc: 0.8950..  Val Acc: 0.8825.. \n",
            "Epoch: 166/200..  Train Loss: 0.2916..  Val Loss: 0.3270..  Train Acc: 0.8950..  Val Acc: 0.8828.. \n",
            "Epoch: 167/200..  Train Loss: 0.2914..  Val Loss: 0.3268..  Train Acc: 0.8950..  Val Acc: 0.8829.. \n",
            "Epoch: 168/200..  Train Loss: 0.2913..  Val Loss: 0.3254..  Train Acc: 0.8951..  Val Acc: 0.8834.. \n",
            "Epoch: 169/200..  Train Loss: 0.2911..  Val Loss: 0.3251..  Train Acc: 0.8951..  Val Acc: 0.8835.. \n",
            "Epoch: 170/200..  Train Loss: 0.2909..  Val Loss: 0.3265..  Train Acc: 0.8952..  Val Acc: 0.8831.. \n",
            "Epoch: 171/200..  Train Loss: 0.2908..  Val Loss: 0.3266..  Train Acc: 0.8952..  Val Acc: 0.8828.. \n",
            "Epoch: 172/200..  Train Loss: 0.2906..  Val Loss: 0.3253..  Train Acc: 0.8953..  Val Acc: 0.8833.. \n",
            "Epoch: 173/200..  Train Loss: 0.2904..  Val Loss: 0.3262..  Train Acc: 0.8953..  Val Acc: 0.8831.. \n",
            "Epoch: 174/200..  Train Loss: 0.2903..  Val Loss: 0.3235..  Train Acc: 0.8954..  Val Acc: 0.8840.. \n",
            "Epoch: 175/200..  Train Loss: 0.2901..  Val Loss: 0.3253..  Train Acc: 0.8954..  Val Acc: 0.8834.. \n",
            "Epoch: 176/200..  Train Loss: 0.2900..  Val Loss: 0.3261..  Train Acc: 0.8955..  Val Acc: 0.8831.. \n",
            "Epoch: 177/200..  Train Loss: 0.2898..  Val Loss: 0.3257..  Train Acc: 0.8956..  Val Acc: 0.8832.. \n",
            "Epoch: 178/200..  Train Loss: 0.2896..  Val Loss: 0.3250..  Train Acc: 0.8956..  Val Acc: 0.8834.. \n",
            "Epoch: 179/200..  Train Loss: 0.2895..  Val Loss: 0.3254..  Train Acc: 0.8956..  Val Acc: 0.8832.. \n",
            "Epoch: 180/200..  Train Loss: 0.2893..  Val Loss: 0.3259..  Train Acc: 0.8956..  Val Acc: 0.8831.. \n",
            "Epoch: 181/200..  Train Loss: 0.2892..  Val Loss: 0.3258..  Train Acc: 0.8957..  Val Acc: 0.8830.. \n",
            "Epoch: 182/200..  Train Loss: 0.2890..  Val Loss: 0.3257..  Train Acc: 0.8957..  Val Acc: 0.8831.. \n",
            "Epoch: 183/200..  Train Loss: 0.2889..  Val Loss: 0.3248..  Train Acc: 0.8958..  Val Acc: 0.8835.. \n",
            "Epoch: 184/200..  Train Loss: 0.2887..  Val Loss: 0.3235..  Train Acc: 0.8958..  Val Acc: 0.8840.. \n",
            "Epoch: 185/200..  Train Loss: 0.2886..  Val Loss: 0.3248..  Train Acc: 0.8959..  Val Acc: 0.8835.. \n",
            "Epoch: 186/200..  Train Loss: 0.2885..  Val Loss: 0.3243..  Train Acc: 0.8960..  Val Acc: 0.8835.. \n",
            "Epoch: 187/200..  Train Loss: 0.2883..  Val Loss: 0.3232..  Train Acc: 0.8960..  Val Acc: 0.8843.. \n",
            "Epoch: 188/200..  Train Loss: 0.2882..  Val Loss: 0.3222..  Train Acc: 0.8960..  Val Acc: 0.8844.. \n",
            "Epoch: 189/200..  Train Loss: 0.2880..  Val Loss: 0.3240..  Train Acc: 0.8961..  Val Acc: 0.8838.. \n",
            "Epoch: 190/200..  Train Loss: 0.2879..  Val Loss: 0.3233..  Train Acc: 0.8961..  Val Acc: 0.8842.. \n",
            "Epoch: 191/200..  Train Loss: 0.2878..  Val Loss: 0.3232..  Train Acc: 0.8961..  Val Acc: 0.8842.. \n",
            "Epoch: 192/200..  Train Loss: 0.2876..  Val Loss: 0.3233..  Train Acc: 0.8961..  Val Acc: 0.8841.. \n",
            "Epoch: 193/200..  Train Loss: 0.2875..  Val Loss: 0.3215..  Train Acc: 0.8962..  Val Acc: 0.8845.. \n",
            "Epoch: 194/200..  Train Loss: 0.2873..  Val Loss: 0.3233..  Train Acc: 0.8962..  Val Acc: 0.8841.. \n",
            "Epoch: 195/200..  Train Loss: 0.2872..  Val Loss: 0.3220..  Train Acc: 0.8962..  Val Acc: 0.8845.. \n",
            "Epoch: 196/200..  Train Loss: 0.2871..  Val Loss: 0.3215..  Train Acc: 0.8963..  Val Acc: 0.8845.. \n",
            "Epoch: 197/200..  Train Loss: 0.2870..  Val Loss: 0.3212..  Train Acc: 0.8964..  Val Acc: 0.8847.. \n",
            "Epoch: 198/200..  Train Loss: 0.2868..  Val Loss: 0.3205..  Train Acc: 0.8964..  Val Acc: 0.8850.. \n",
            "Epoch: 199/200..  Train Loss: 0.2867..  Val Loss: 0.3216..  Train Acc: 0.8965..  Val Acc: 0.8847.. \n",
            "Epoch: 200/200..  Train Loss: 0.2866..  Val Loss: 0.3212..  Train Acc: 0.8964..  Val Acc: 0.8847.. \n"
          ],
          "name": "stdout"
        },
        {
          "output_type": "display_data",
          "data": {
            "image/png": "[encoded data removed]",
            "text/plain": [
              "<Figure size 864x432 with 2 Axes>"
            ]
          },
          "metadata": {
            "tags": [],
            "needs_background": "light"
          }
        },
        {
          "output_type": "stream",
          "text": [
            "Acurácia de teste: 88.44%\n",
            "Acurácia de treinamento: 89.64%\n",
            "Acurácia de validação: 88.47%\n"
          ],
          "name": "stdout"
        }
      ]
    },
    {
      "cell_type": "code",
      "metadata": {
        "colab": {
          "base_uri": "https://localhost:8080/",
          "height": 1000
        },
        "id": "d009MDW6yIKZ",
        "outputId": "743db0f3-a338-4a99-e413-799cad3a2d5f"
      },
      "source": [
        "params1 = dict()\n",
        "params1['EPOCHS'] = 25\n",
        "params1['BATCH_SIZE'] = 64\n",
        "params1['LEARNING_RATE'] = 0.1\n",
        "params1['CRITERION'] = nn.CrossEntropyLoss()\n",
        "params1['OPTIMIZER'] = 'SGD'\n",
        "\n",
        "model1 = nn.Sequential(\n",
        "          nn.Linear(NUM_FEATURES, 128),\n",
        "          nn.ReLU(),\n",
        "          nn.Linear(128, NUM_CLASSES)\n",
        "        )\n",
        "\n",
        "execute_model(model1, params1)"
      ],
      "execution_count": null,
      "outputs": [
        {
          "output_type": "stream",
          "text": [
            "Shape X_train (936408, 112)\n",
            "Shape y_train (936408,)\n",
            "Shape X_val (117052, 112)\n",
            "Shape y_val (117052,)\n",
            "Shape X_test (117051, 112)\n",
            "Shape y_test (117051,)\n",
            "Len DF original 1170511\n",
            "Len train + val + test 1170511\n",
            "Sequential(\n",
            "  (0): Linear(in_features=112, out_features=128, bias=True)\n",
            "  (1): ReLU()\n",
            "  (2): Linear(in_features=128, out_features=12, bias=True)\n",
            ")\n",
            "Epoch: 1/25..  Train Loss: 0.7081..  Val Loss: 0.8351..  Train Acc: 0.7519..  Val Acc: 0.7152.. \n",
            "Epoch: 2/25..  Train Loss: 0.5718..  Val Loss: 0.7139..  Train Acc: 0.8052..  Val Acc: 0.7488.. \n",
            "Epoch: 3/25..  Train Loss: 0.5208..  Val Loss: 0.6138..  Train Acc: 0.8229..  Val Acc: 0.7865.. \n",
            "Epoch: 4/25..  Train Loss: 0.4912..  Val Loss: 0.5595..  Train Acc: 0.8335..  Val Acc: 0.8056.. \n",
            "Epoch: 5/25..  Train Loss: 0.4714..  Val Loss: 0.5392..  Train Acc: 0.8402..  Val Acc: 0.8142.. \n",
            "Epoch: 6/25..  Train Loss: 0.4567..  Val Loss: 0.5064..  Train Acc: 0.8450..  Val Acc: 0.8254.. \n",
            "Epoch: 7/25..  Train Loss: 0.4451..  Val Loss: 0.4965..  Train Acc: 0.8490..  Val Acc: 0.8292.. \n",
            "Epoch: 8/25..  Train Loss: 0.4360..  Val Loss: 0.4907..  Train Acc: 0.8519..  Val Acc: 0.8311.. \n",
            "Epoch: 9/25..  Train Loss: 0.4285..  Val Loss: 0.4827..  Train Acc: 0.8543..  Val Acc: 0.8337.. \n",
            "Epoch: 10/25..  Train Loss: 0.4221..  Val Loss: 0.4833..  Train Acc: 0.8563..  Val Acc: 0.8335.. \n",
            "Epoch: 11/25..  Train Loss: 0.4166..  Val Loss: 0.4731..  Train Acc: 0.8581..  Val Acc: 0.8374.. \n",
            "Epoch: 12/25..  Train Loss: 0.4117..  Val Loss: 0.4643..  Train Acc: 0.8597..  Val Acc: 0.8398.. \n",
            "Epoch: 13/25..  Train Loss: 0.4075..  Val Loss: 0.4610..  Train Acc: 0.8610..  Val Acc: 0.8410.. \n",
            "Epoch: 14/25..  Train Loss: 0.4037..  Val Loss: 0.4546..  Train Acc: 0.8621..  Val Acc: 0.8436.. \n",
            "Epoch: 15/25..  Train Loss: 0.4002..  Val Loss: 0.4524..  Train Acc: 0.8634..  Val Acc: 0.8442.. \n",
            "Epoch: 16/25..  Train Loss: 0.3971..  Val Loss: 0.4475..  Train Acc: 0.8645..  Val Acc: 0.8461.. \n",
            "Epoch: 17/25..  Train Loss: 0.3942..  Val Loss: 0.4492..  Train Acc: 0.8653..  Val Acc: 0.8458.. \n",
            "Epoch: 18/25..  Train Loss: 0.3916..  Val Loss: 0.4453..  Train Acc: 0.8661..  Val Acc: 0.8469.. \n",
            "Epoch: 19/25..  Train Loss: 0.3892..  Val Loss: 0.4405..  Train Acc: 0.8667..  Val Acc: 0.8486.. \n",
            "Epoch: 20/25..  Train Loss: 0.3870..  Val Loss: 0.4405..  Train Acc: 0.8674..  Val Acc: 0.8488.. \n",
            "Epoch: 21/25..  Train Loss: 0.3850..  Val Loss: 0.4404..  Train Acc: 0.8681..  Val Acc: 0.8489.. \n",
            "Epoch: 22/25..  Train Loss: 0.3831..  Val Loss: 0.4363..  Train Acc: 0.8687..  Val Acc: 0.8500.. \n",
            "Epoch: 23/25..  Train Loss: 0.3812..  Val Loss: 0.4344..  Train Acc: 0.8691..  Val Acc: 0.8506.. \n",
            "Epoch: 24/25..  Train Loss: 0.3794..  Val Loss: 0.4341..  Train Acc: 0.8697..  Val Acc: 0.8507.. \n",
            "Epoch: 25/25..  Train Loss: 0.3777..  Val Loss: 0.4294..  Train Acc: 0.8701..  Val Acc: 0.8524.. \n"
          ],
          "name": "stdout"
        },
        {
          "output_type": "display_data",
          "data": {
            "image/png": "[encoded data removed]",
            "text/plain": [
              "<Figure size 864x432 with 2 Axes>"
            ]
          },
          "metadata": {
            "tags": [],
            "needs_background": "light"
          }
        },
        {
          "output_type": "stream",
          "text": [
            "Acurácia de teste: 85.33%\n",
            "Acurácia de treinamento: 87.01%\n",
            "Acurácia de validação: 85.24%\n"
          ],
          "name": "stdout"
        }
      ]
    },
    {
      "cell_type": "code",
      "metadata": {
        "colab": {
          "base_uri": "https://localhost:8080/",
          "height": 1000
        },
        "id": "gcamgzgwfGXT",
        "outputId": "8cbfd0e9-964f-45a1-ffbb-6b407c5049d3"
      },
      "source": [
        "params1 = dict()\n",
        "params1['EPOCHS'] = 25\n",
        "params1['BATCH_SIZE'] = 64\n",
        "params1['LEARNING_RATE'] = 0.1\n",
        "params1['CRITERION'] = nn.CrossEntropyLoss()\n",
        "params1['OPTIMIZER'] = 'SGD'\n",
        "\n",
        "model1 = nn.Sequential(\n",
        "          nn.Linear(NUM_FEATURES, 512),\n",
        "          nn.ReLU(),\n",
        "          nn.Linear(512, 256),\n",
        "          nn.ReLU(),\n",
        "          nn.Linear(256, NUM_CLASSES),\n",
        "        )\n",
        "\n",
        "execute_model(model1, params1)"
      ],
      "execution_count": null,
      "outputs": [
        {
          "output_type": "stream",
          "text": [
            "Shape X_train (936408, 112)\n",
            "Shape y_train (936408,)\n",
            "Shape X_val (117052, 112)\n",
            "Shape y_val (117052,)\n",
            "Shape X_test (117051, 112)\n",
            "Shape y_test (117051,)\n",
            "Len DF original 1170511\n",
            "Len train + val + test 1170511\n",
            "Sequential(\n",
            "  (0): Linear(in_features=112, out_features=512, bias=True)\n",
            "  (1): ReLU()\n",
            "  (2): Linear(in_features=512, out_features=256, bias=True)\n",
            "  (3): ReLU()\n",
            "  (4): Linear(in_features=256, out_features=12, bias=True)\n",
            ")\n",
            "Epoch: 1/25..  Train Loss: 0.6502..  Val Loss: 0.6431..  Train Acc: 0.7726..  Val Acc: 0.7714.. \n",
            "Epoch: 2/25..  Train Loss: 0.4913..  Val Loss: 0.5299..  Train Acc: 0.8305..  Val Acc: 0.8128.. \n",
            "Epoch: 3/25..  Train Loss: 0.4376..  Val Loss: 0.4710..  Train Acc: 0.8486..  Val Acc: 0.8354.. \n",
            "Epoch: 4/25..  Train Loss: 0.4071..  Val Loss: 0.4391..  Train Acc: 0.8588..  Val Acc: 0.8487.. \n",
            "Epoch: 5/25..  Train Loss: 0.3869..  Val Loss: 0.4202..  Train Acc: 0.8655..  Val Acc: 0.8544.. \n",
            "Epoch: 6/25..  Train Loss: 0.3726..  Val Loss: 0.4114..  Train Acc: 0.8700..  Val Acc: 0.8574.. \n",
            "Epoch: 7/25..  Train Loss: 0.3616..  Val Loss: 0.3938..  Train Acc: 0.8735..  Val Acc: 0.8622.. \n",
            "Epoch: 8/25..  Train Loss: 0.3528..  Val Loss: 0.3859..  Train Acc: 0.8760..  Val Acc: 0.8641.. \n",
            "Epoch: 9/25..  Train Loss: 0.3458..  Val Loss: 0.3728..  Train Acc: 0.8780..  Val Acc: 0.8698.. \n",
            "Epoch: 10/25..  Train Loss: 0.3398..  Val Loss: 0.3712..  Train Acc: 0.8798..  Val Acc: 0.8705.. \n",
            "Epoch: 11/25..  Train Loss: 0.3347..  Val Loss: 0.3668..  Train Acc: 0.8812..  Val Acc: 0.8718.. \n",
            "Epoch: 12/25..  Train Loss: 0.3303..  Val Loss: 0.3524..  Train Acc: 0.8828..  Val Acc: 0.8774.. \n",
            "Epoch: 13/25..  Train Loss: 0.3265..  Val Loss: 0.3596..  Train Acc: 0.8838..  Val Acc: 0.8746.. \n",
            "Epoch: 14/25..  Train Loss: 0.3231..  Val Loss: 0.3526..  Train Acc: 0.8849..  Val Acc: 0.8766.. \n",
            "Epoch: 15/25..  Train Loss: 0.3201..  Val Loss: 0.3447..  Train Acc: 0.8857..  Val Acc: 0.8792.. \n",
            "Epoch: 16/25..  Train Loss: 0.3172..  Val Loss: 0.3520..  Train Acc: 0.8867..  Val Acc: 0.8765.. \n",
            "Epoch: 17/25..  Train Loss: 0.3145..  Val Loss: 0.3525..  Train Acc: 0.8875..  Val Acc: 0.8763.. \n",
            "Epoch: 18/25..  Train Loss: 0.3123..  Val Loss: 0.3638..  Train Acc: 0.8879..  Val Acc: 0.8716.. \n",
            "Epoch: 19/25..  Train Loss: 0.3101..  Val Loss: 0.3572..  Train Acc: 0.8887..  Val Acc: 0.8741.. \n",
            "Epoch: 20/25..  Train Loss: 0.3080..  Val Loss: 0.3581..  Train Acc: 0.8893..  Val Acc: 0.8745.. \n",
            "Epoch: 21/25..  Train Loss: 0.3061..  Val Loss: 0.3455..  Train Acc: 0.8899..  Val Acc: 0.8784.. \n",
            "Epoch: 22/25..  Train Loss: 0.3043..  Val Loss: 0.3356..  Train Acc: 0.8905..  Val Acc: 0.8817.. \n",
            "Epoch: 23/25..  Train Loss: 0.3026..  Val Loss: 0.3442..  Train Acc: 0.8909..  Val Acc: 0.8785.. \n",
            "Epoch: 24/25..  Train Loss: 0.3009..  Val Loss: 0.3458..  Train Acc: 0.8915..  Val Acc: 0.8779.. \n",
            "Epoch: 25/25..  Train Loss: 0.2994..  Val Loss: 0.3299..  Train Acc: 0.8918..  Val Acc: 0.8829.. \n"
          ],
          "name": "stdout"
        },
        {
          "output_type": "display_data",
          "data": {
            "image/png": "[encoded data removed]",
            "text/plain": [
              "<Figure size 864x432 with 2 Axes>"
            ]
          },
          "metadata": {
            "tags": [],
            "needs_background": "light"
          }
        },
        {
          "output_type": "stream",
          "text": [
            "Acurácia de teste: 88.34%\n",
            "Acurácia de treinamento: 89.18%\n",
            "Acurácia de validação: 88.29%\n"
          ],
          "name": "stdout"
        }
      ]
    },
    {
      "cell_type": "code",
      "metadata": {
        "colab": {
          "base_uri": "https://localhost:8080/",
          "height": 1000
        },
        "id": "moUZO47_gkeJ",
        "outputId": "2a769ff6-051a-4834-fce5-74f45c4c87d5"
      },
      "source": [
        "params1 = dict()\n",
        "params1['EPOCHS'] = 25\n",
        "params1['BATCH_SIZE'] = 64\n",
        "params1['LEARNING_RATE'] = 0.1\n",
        "params1['CRITERION'] = nn.CrossEntropyLoss()\n",
        "params1['OPTIMIZER'] = 'ADAM'\n",
        "\n",
        "model1 = nn.Sequential(\n",
        "          nn.Linear(NUM_FEATURES, 128),\n",
        "          nn.BatchNorm1d(128),\n",
        "          nn.ReLU(),\n",
        "          nn.Linear(128, NUM_CLASSES),\n",
        "        )\n",
        "\n",
        "execute_model(model1, params1)"
      ],
      "execution_count": null,
      "outputs": [
        {
          "output_type": "stream",
          "text": [
            "Shape X_train (936408, 112)\n",
            "Shape y_train (936408,)\n",
            "Shape X_val (117052, 112)\n",
            "Shape y_val (117052,)\n",
            "Shape X_test (117051, 112)\n",
            "Shape y_test (117051,)\n",
            "Len DF original 1170511\n",
            "Len train + val + test 1170511\n",
            "Sequential(\n",
            "  (0): Linear(in_features=112, out_features=128, bias=True)\n",
            "  (1): BatchNorm1d(128, eps=1e-05, momentum=0.1, affine=True, track_running_stats=True)\n",
            "  (2): ReLU()\n",
            "  (3): Linear(in_features=128, out_features=12, bias=True)\n",
            ")\n",
            "Epoch: 1/25..  Train Loss: 0.6635..  Val Loss: 0.6256..  Train Acc: 0.7704..  Val Acc: 0.7920.. \n",
            "Epoch: 2/25..  Train Loss: 0.6429..  Val Loss: 0.6574..  Train Acc: 0.7792..  Val Acc: 0.7790.. \n",
            "Epoch: 3/25..  Train Loss: 0.6484..  Val Loss: 0.6654..  Train Acc: 0.7775..  Val Acc: 0.7738.. \n",
            "Epoch: 4/25..  Train Loss: 0.6457..  Val Loss: 0.6521..  Train Acc: 0.7784..  Val Acc: 0.7801.. \n",
            "Epoch: 5/25..  Train Loss: 0.6539..  Val Loss: 0.6340..  Train Acc: 0.7761..  Val Acc: 0.7897.. \n",
            "Epoch: 6/25..  Train Loss: 0.6551..  Val Loss: 0.6547..  Train Acc: 0.7765..  Val Acc: 0.7837.. \n",
            "Epoch: 7/25..  Train Loss: 0.6532..  Val Loss: 0.6530..  Train Acc: 0.7772..  Val Acc: 0.7837.. \n",
            "Epoch: 8/25..  Train Loss: 0.6520..  Val Loss: 0.6436..  Train Acc: 0.7773..  Val Acc: 0.7867.. \n",
            "Epoch: 9/25..  Train Loss: 0.6503..  Val Loss: 0.6380..  Train Acc: 0.7775..  Val Acc: 0.7876.. \n",
            "Epoch: 10/25..  Train Loss: 0.6498..  Val Loss: 0.6364..  Train Acc: 0.7777..  Val Acc: 0.7889.. \n",
            "Epoch: 11/25..  Train Loss: 0.6487..  Val Loss: 0.6464..  Train Acc: 0.7781..  Val Acc: 0.7849.. \n",
            "Epoch: 12/25..  Train Loss: 0.6478..  Val Loss: 0.6519..  Train Acc: 0.7786..  Val Acc: 0.7812.. \n",
            "Epoch: 13/25..  Train Loss: 0.6479..  Val Loss: 0.6715..  Train Acc: 0.7783..  Val Acc: 0.7797.. \n",
            "Epoch: 14/25..  Train Loss: 0.6468..  Val Loss: 0.6515..  Train Acc: 0.7787..  Val Acc: 0.7799.. \n",
            "Epoch: 15/25..  Train Loss: 0.6456..  Val Loss: 0.6387..  Train Acc: 0.7795..  Val Acc: 0.7882.. \n",
            "Epoch: 16/25..  Train Loss: 0.6454..  Val Loss: 0.6550..  Train Acc: 0.7793..  Val Acc: 0.7828.. \n",
            "Epoch: 17/25..  Train Loss: 0.6446..  Val Loss: 0.6410..  Train Acc: 0.7798..  Val Acc: 0.7884.. \n",
            "Epoch: 18/25..  Train Loss: 0.6448..  Val Loss: 0.6437..  Train Acc: 0.7798..  Val Acc: 0.7860.. \n",
            "Epoch: 19/25..  Train Loss: 0.6445..  Val Loss: 0.6481..  Train Acc: 0.7799..  Val Acc: 0.7839.. \n",
            "Epoch: 20/25..  Train Loss: 0.6441..  Val Loss: 0.6550..  Train Acc: 0.7800..  Val Acc: 0.7812.. \n",
            "Epoch: 21/25..  Train Loss: 0.6435..  Val Loss: 0.6449..  Train Acc: 0.7800..  Val Acc: 0.7859.. \n",
            "Epoch: 22/25..  Train Loss: 0.6447..  Val Loss: 0.6563..  Train Acc: 0.7795..  Val Acc: 0.7803.. \n",
            "Epoch: 23/25..  Train Loss: 0.6437..  Val Loss: 0.6376..  Train Acc: 0.7802..  Val Acc: 0.7887.. \n",
            "Epoch: 24/25..  Train Loss: 0.6512..  Val Loss: 0.6415..  Train Acc: 0.7774..  Val Acc: 0.7826.. \n",
            "Epoch: 25/25..  Train Loss: 0.6553..  Val Loss: 0.6418..  Train Acc: 0.7758..  Val Acc: 0.7829.. \n"
          ],
          "name": "stdout"
        },
        {
          "output_type": "display_data",
          "data": {
            "image/png": "[encoded data removed]",
            "text/plain": [
              "<Figure size 864x432 with 2 Axes>"
            ]
          },
          "metadata": {
            "tags": [],
            "needs_background": "light"
          }
        },
        {
          "output_type": "stream",
          "text": [
            "Acurácia de teste: 78.39%\n",
            "Acurácia de treinamento: 77.58%\n",
            "Acurácia de validação: 78.29%\n"
          ],
          "name": "stdout"
        }
      ]
    },
    {
      "cell_type": "markdown",
      "metadata": {
        "id": "oHK_j5wVWfOJ"
      },
      "source": [
        "Salva o modelo XXX"
      ]
    },
    {
      "cell_type": "code",
      "metadata": {
        "id": "-PRrl82BWcwa"
      },
      "source": [
        "#Salva modelo\n",
        "torch.save(model.state_dict(), 'checkpoint.pth')\n",
        "print(\"Model:' \\n\\n\", model, '\\n')\n",
        "print(\"The state dict keys: \\n\\n\", model.state_dict().keys())"
      ],
      "execution_count": null,
      "outputs": []
    },
    {
      "cell_type": "markdown",
      "metadata": {
        "id": "mlpWZJrTT4iB"
      },
      "source": [
        "# **As instruções abaixo são para realizar a predição no hidden.csv e gerar o arquivo com as classificações para entrega**\n"
      ]
    },
    {
      "cell_type": "markdown",
      "metadata": {
        "id": "DHVF-4CTUCDx"
      },
      "source": [
        "Pequena avaliação no hidden.csv (dataset contendo somente as colunas preditoras)"
      ]
    },
    {
      "cell_type": "code",
      "metadata": {
        "colab": {
          "base_uri": "https://localhost:8080/"
        },
        "id": "_fcSTpKlbaCW",
        "outputId": "e89e45ec-c2ec-4b5d-a9f9-0a9c645b3371"
      },
      "source": [
        "df_hidden = pd.read_csv('hidden.csv', delimiter=';')\n",
        "print('Shape', df_hidden.shape)"
      ],
      "execution_count": null,
      "outputs": [
        {
          "output_type": "stream",
          "text": [
            "Shape (122397, 30)\n"
          ],
          "name": "stdout"
        }
      ]
    },
    {
      "cell_type": "code",
      "metadata": {
        "colab": {
          "base_uri": "https://localhost:8080/",
          "height": 224
        },
        "id": "HIhTn2rtpMtt",
        "outputId": "02b4f522-c1dc-41c6-b716-e6258cbd0cf2"
      },
      "source": [
        "df_hidden.head()"
      ],
      "execution_count": null,
      "outputs": [
        {
          "output_type": "execute_result",
          "data": {
            "text/html": [
              "<div>\n",
              "<style scoped>\n",
              "    .dataframe tbody tr th:only-of-type {\n",
              "        vertical-align: middle;\n",
              "    }\n",
              "\n",
              "    .dataframe tbody tr th {\n",
              "        vertical-align: top;\n",
              "    }\n",
              "\n",
              "    .dataframe thead th {\n",
              "        text-align: right;\n",
              "    }\n",
              "</style>\n",
              "<table border=\"1\" class=\"dataframe\">\n",
              "  <thead>\n",
              "    <tr style=\"text-align: right;\">\n",
              "      <th></th>\n",
              "      <th>DEPTH_MD</th>\n",
              "      <th>X_LOC</th>\n",
              "      <th>Y_LOC</th>\n",
              "      <th>Z_LOC</th>\n",
              "      <th>CALI</th>\n",
              "      <th>RSHA</th>\n",
              "      <th>RMED</th>\n",
              "      <th>RDEP</th>\n",
              "      <th>RHOB</th>\n",
              "      <th>GR</th>\n",
              "      <th>NPHI</th>\n",
              "      <th>PEF</th>\n",
              "      <th>DTC</th>\n",
              "      <th>SP</th>\n",
              "      <th>BS</th>\n",
              "      <th>ROP</th>\n",
              "      <th>DCAL</th>\n",
              "      <th>DRHO</th>\n",
              "      <th>MUDWEIGHT</th>\n",
              "      <th>RMIC</th>\n",
              "      <th>Carbon_Index</th>\n",
              "      <th>Normalized_RHOB</th>\n",
              "      <th>Normalized_GR</th>\n",
              "      <th>Delta_DTC</th>\n",
              "      <th>Delta_RHOB</th>\n",
              "      <th>Delta_GR</th>\n",
              "      <th>Delta_DEPTH_MD</th>\n",
              "      <th>Delta_Carbon_Index</th>\n",
              "      <th>GROUP_encoded</th>\n",
              "      <th>FORMATION_encoded</th>\n",
              "    </tr>\n",
              "  </thead>\n",
              "  <tbody>\n",
              "    <tr>\n",
              "      <th>0</th>\n",
              "      <td>1518.280</td>\n",
              "      <td>433906.75</td>\n",
              "      <td>6460000.5</td>\n",
              "      <td>-1493.241821</td>\n",
              "      <td>15.506232</td>\n",
              "      <td>-999.0</td>\n",
              "      <td>-999.000000</td>\n",
              "      <td>0.878615</td>\n",
              "      <td>-999.0</td>\n",
              "      <td>103.451515</td>\n",
              "      <td>0.439925</td>\n",
              "      <td>-999.0</td>\n",
              "      <td>147.043427</td>\n",
              "      <td>-999.0</td>\n",
              "      <td>17.5</td>\n",
              "      <td>146.526276</td>\n",
              "      <td>-1.993768</td>\n",
              "      <td>0.109706</td>\n",
              "      <td>-999.0</td>\n",
              "      <td>-999.0</td>\n",
              "      <td>-999.0</td>\n",
              "      <td>-999.0</td>\n",
              "      <td>0.229715</td>\n",
              "      <td>-0.000000</td>\n",
              "      <td>-999.0</td>\n",
              "      <td>-0.000000</td>\n",
              "      <td>0.000</td>\n",
              "      <td>-999.0</td>\n",
              "      <td>5</td>\n",
              "      <td>51</td>\n",
              "    </tr>\n",
              "    <tr>\n",
              "      <th>1</th>\n",
              "      <td>1518.432</td>\n",
              "      <td>433906.75</td>\n",
              "      <td>6460000.5</td>\n",
              "      <td>-1493.393799</td>\n",
              "      <td>18.524611</td>\n",
              "      <td>-999.0</td>\n",
              "      <td>-999.000000</td>\n",
              "      <td>0.874237</td>\n",
              "      <td>-999.0</td>\n",
              "      <td>94.124893</td>\n",
              "      <td>0.504055</td>\n",
              "      <td>-999.0</td>\n",
              "      <td>145.426468</td>\n",
              "      <td>-999.0</td>\n",
              "      <td>17.5</td>\n",
              "      <td>147.605148</td>\n",
              "      <td>1.024611</td>\n",
              "      <td>-0.006418</td>\n",
              "      <td>-999.0</td>\n",
              "      <td>-999.0</td>\n",
              "      <td>-999.0</td>\n",
              "      <td>-999.0</td>\n",
              "      <td>0.206369</td>\n",
              "      <td>1.616959</td>\n",
              "      <td>-999.0</td>\n",
              "      <td>9.326622</td>\n",
              "      <td>0.152</td>\n",
              "      <td>-999.0</td>\n",
              "      <td>5</td>\n",
              "      <td>51</td>\n",
              "    </tr>\n",
              "    <tr>\n",
              "      <th>2</th>\n",
              "      <td>1518.584</td>\n",
              "      <td>433906.75</td>\n",
              "      <td>6460000.5</td>\n",
              "      <td>-1493.545776</td>\n",
              "      <td>18.855669</td>\n",
              "      <td>-999.0</td>\n",
              "      <td>-999.000000</td>\n",
              "      <td>0.869858</td>\n",
              "      <td>-999.0</td>\n",
              "      <td>93.586487</td>\n",
              "      <td>0.512960</td>\n",
              "      <td>-999.0</td>\n",
              "      <td>145.295105</td>\n",
              "      <td>-999.0</td>\n",
              "      <td>17.5</td>\n",
              "      <td>140.783127</td>\n",
              "      <td>1.355669</td>\n",
              "      <td>0.022769</td>\n",
              "      <td>-999.0</td>\n",
              "      <td>-999.0</td>\n",
              "      <td>-999.0</td>\n",
              "      <td>-999.0</td>\n",
              "      <td>0.205021</td>\n",
              "      <td>0.131363</td>\n",
              "      <td>-999.0</td>\n",
              "      <td>0.538406</td>\n",
              "      <td>0.152</td>\n",
              "      <td>-999.0</td>\n",
              "      <td>5</td>\n",
              "      <td>51</td>\n",
              "    </tr>\n",
              "    <tr>\n",
              "      <th>3</th>\n",
              "      <td>1518.736</td>\n",
              "      <td>433906.75</td>\n",
              "      <td>6460000.5</td>\n",
              "      <td>-1493.697754</td>\n",
              "      <td>19.163353</td>\n",
              "      <td>-999.0</td>\n",
              "      <td>-999.000000</td>\n",
              "      <td>0.865479</td>\n",
              "      <td>-999.0</td>\n",
              "      <td>91.113373</td>\n",
              "      <td>0.500070</td>\n",
              "      <td>-999.0</td>\n",
              "      <td>143.657593</td>\n",
              "      <td>-999.0</td>\n",
              "      <td>17.5</td>\n",
              "      <td>125.159531</td>\n",
              "      <td>1.663353</td>\n",
              "      <td>0.024972</td>\n",
              "      <td>-999.0</td>\n",
              "      <td>-999.0</td>\n",
              "      <td>-999.0</td>\n",
              "      <td>-999.0</td>\n",
              "      <td>0.198831</td>\n",
              "      <td>1.637512</td>\n",
              "      <td>-999.0</td>\n",
              "      <td>2.473114</td>\n",
              "      <td>0.152</td>\n",
              "      <td>-999.0</td>\n",
              "      <td>5</td>\n",
              "      <td>51</td>\n",
              "    </tr>\n",
              "    <tr>\n",
              "      <th>4</th>\n",
              "      <td>1518.888</td>\n",
              "      <td>433906.75</td>\n",
              "      <td>6460000.5</td>\n",
              "      <td>-1493.849609</td>\n",
              "      <td>18.489744</td>\n",
              "      <td>-999.0</td>\n",
              "      <td>0.849849</td>\n",
              "      <td>0.863804</td>\n",
              "      <td>-999.0</td>\n",
              "      <td>100.228333</td>\n",
              "      <td>0.277670</td>\n",
              "      <td>-999.0</td>\n",
              "      <td>142.838440</td>\n",
              "      <td>-999.0</td>\n",
              "      <td>17.5</td>\n",
              "      <td>107.576691</td>\n",
              "      <td>0.989744</td>\n",
              "      <td>0.024527</td>\n",
              "      <td>-999.0</td>\n",
              "      <td>-999.0</td>\n",
              "      <td>-999.0</td>\n",
              "      <td>-999.0</td>\n",
              "      <td>0.221647</td>\n",
              "      <td>0.819153</td>\n",
              "      <td>-999.0</td>\n",
              "      <td>-9.114960</td>\n",
              "      <td>0.152</td>\n",
              "      <td>-999.0</td>\n",
              "      <td>5</td>\n",
              "      <td>51</td>\n",
              "    </tr>\n",
              "  </tbody>\n",
              "</table>\n",
              "</div>"
            ],
            "text/plain": [
              "   DEPTH_MD      X_LOC  ...  GROUP_encoded  FORMATION_encoded\n",
              "0  1518.280  433906.75  ...              5                 51\n",
              "1  1518.432  433906.75  ...              5                 51\n",
              "2  1518.584  433906.75  ...              5                 51\n",
              "3  1518.736  433906.75  ...              5                 51\n",
              "4  1518.888  433906.75  ...              5                 51\n",
              "\n",
              "[5 rows x 30 columns]"
            ]
          },
          "metadata": {
            "tags": []
          },
          "execution_count": 114
        }
      ]
    },
    {
      "cell_type": "code",
      "metadata": {
        "colab": {
          "base_uri": "https://localhost:8080/"
        },
        "id": "JMXm2wDBrLM0",
        "outputId": "4f72a8a3-285e-4df7-a190-07a0a3e7d31f"
      },
      "source": [
        "df_hidden.info()"
      ],
      "execution_count": null,
      "outputs": [
        {
          "output_type": "stream",
          "text": [
            "<class 'pandas.core.frame.DataFrame'>\n",
            "RangeIndex: 122397 entries, 0 to 122396\n",
            "Data columns (total 30 columns):\n",
            " #   Column              Non-Null Count   Dtype  \n",
            "---  ------              --------------   -----  \n",
            " 0   DEPTH_MD            122397 non-null  float64\n",
            " 1   X_LOC               122397 non-null  float64\n",
            " 2   Y_LOC               122397 non-null  float64\n",
            " 3   Z_LOC               122397 non-null  float64\n",
            " 4   CALI                122397 non-null  float64\n",
            " 5   RSHA                122397 non-null  float64\n",
            " 6   RMED                122397 non-null  float64\n",
            " 7   RDEP                122397 non-null  float64\n",
            " 8   RHOB                122397 non-null  float64\n",
            " 9   GR                  122397 non-null  float64\n",
            " 10  NPHI                122397 non-null  float64\n",
            " 11  PEF                 122397 non-null  float64\n",
            " 12  DTC                 122397 non-null  float64\n",
            " 13  SP                  122397 non-null  float64\n",
            " 14  BS                  122397 non-null  float64\n",
            " 15  ROP                 122397 non-null  float64\n",
            " 16  DCAL                122397 non-null  float64\n",
            " 17  DRHO                122397 non-null  float64\n",
            " 18  MUDWEIGHT           122397 non-null  float64\n",
            " 19  RMIC                122397 non-null  float64\n",
            " 20  Carbon_Index        122397 non-null  float64\n",
            " 21  Normalized_RHOB     122397 non-null  float64\n",
            " 22  Normalized_GR       122397 non-null  float64\n",
            " 23  Delta_DTC           122397 non-null  float64\n",
            " 24  Delta_RHOB          122397 non-null  float64\n",
            " 25  Delta_GR            122397 non-null  float64\n",
            " 26  Delta_DEPTH_MD      122397 non-null  float64\n",
            " 27  Delta_Carbon_Index  122397 non-null  float64\n",
            " 28  GROUP_encoded       122397 non-null  int64  \n",
            " 29  FORMATION_encoded   122397 non-null  int64  \n",
            "dtypes: float64(28), int64(2)\n",
            "memory usage: 28.0 MB\n"
          ],
          "name": "stdout"
        }
      ]
    },
    {
      "cell_type": "markdown",
      "metadata": {
        "id": "nr0CmD-TUUKy"
      },
      "source": [
        "Como realizei a normalização dos meus dados para treinar o modelo, tenho que fazer o mesmo com os dados do hidden.csv"
      ]
    },
    {
      "cell_type": "code",
      "metadata": {
        "id": "03OttP97b8oO"
      },
      "source": [
        "#aqui confirmar se é fit_transform\n",
        "X_hidden_mm = min_max_scaler.transform(df_hidden[['DEPTH_MD', 'X_LOC', 'Y_LOC', 'Z_LOC', 'CALI', 'RSHA', 'RMED', 'RDEP',  'RHOB', 'GR', 'NPHI', 'PEF', 'DTC', 'SP', 'BS', 'ROP',\n",
        "        'DCAL', 'DRHO', 'MUDWEIGHT', 'RMIC', 'Carbon_Index', 'Normalized_RHOB', 'Normalized_GR', 'Delta_DTC', 'Delta_RHOB', 'Delta_GR', 'Delta_DEPTH_MD', 'Delta_Carbon_Index'\n",
        "        ]])\n",
        "\n",
        "X_hidden_ohe = ohe.transform(df_hidden[['GROUP_encoded', 'FORMATION_encoded']])\n",
        "\n",
        "X_hidden = np.hstack([ X_hidden_mm, X_hidden_ohe])\n",
        "\n",
        "X_hidden = torch.from_numpy (X_hidden).float ()\n",
        "\n",
        "#X_hidden = F.pad(X_hidden, (0, 22), \"constant\", 0)"
      ],
      "execution_count": null,
      "outputs": []
    },
    {
      "cell_type": "markdown",
      "metadata": {
        "id": "dKIC68KtUdXK"
      },
      "source": [
        "Carrego o modelo e realizo a predição"
      ]
    },
    {
      "cell_type": "code",
      "metadata": {
        "id": "lzQA7S1fpFRN"
      },
      "source": [
        "# Desativa o cálculo do gradiente (para modo evaluation) \n",
        "save_path = 'checkpoint.pth'\n",
        "with torch.no_grad():\n",
        "  model_predict = Net(num_feature = NUM_FEATURES, num_class=NUM_CLASSES, drop_out=DROP_OUT)\n",
        "  model_predict.load_state_dict(torch.load(save_path))\n",
        "  model_predict.eval() #ativa modo evaluation\n",
        "\n",
        "  prediction = model_predict(X_hidden)\n",
        "  classes_val = torch.argmax(prediction, dim=1)\n"
      ],
      "execution_count": null,
      "outputs": []
    },
    {
      "cell_type": "code",
      "metadata": {
        "colab": {
          "base_uri": "https://localhost:8080/"
        },
        "id": "e_-G5w6l7FQG",
        "outputId": "f74884c6-1bd9-49af-e82c-0bd239626364"
      },
      "source": [
        "classes_val.unique()"
      ],
      "execution_count": null,
      "outputs": [
        {
          "output_type": "execute_result",
          "data": {
            "text/plain": [
              "tensor([ 0,  1,  2,  3,  4,  5,  6,  7,  8, 10])"
            ]
          },
          "metadata": {
            "tags": []
          },
          "execution_count": 255
        }
      ]
    },
    {
      "cell_type": "code",
      "metadata": {
        "colab": {
          "base_uri": "https://localhost:8080/"
        },
        "id": "E0FWJPpl3tnG",
        "outputId": "584b1483-d026-4bfb-fcb8-cf1cd00fcdfd"
      },
      "source": [
        "df_entrega = pd.DataFrame(classes_val, columns=['lithology'])\n",
        "print(df_entrega.shape)\n",
        "df_entrega['lithology'].value_counts()"
      ],
      "execution_count": null,
      "outputs": [
        {
          "output_type": "stream",
          "text": [
            "(122397, 1)\n"
          ],
          "name": "stdout"
        },
        {
          "output_type": "execute_result",
          "data": {
            "text/plain": [
              "0     65353\n",
              "3     31013\n",
              "1     12602\n",
              "4     10621\n",
              "2      1962\n",
              "5       532\n",
              "8       111\n",
              "10      106\n",
              "7        52\n",
              "6        45\n",
              "Name: lithology, dtype: int64"
            ]
          },
          "metadata": {
            "tags": []
          },
          "execution_count": 256
        }
      ]
    },
    {
      "cell_type": "markdown",
      "metadata": {
        "id": "cuqY-nv6U566"
      },
      "source": [
        "Como eu havia padronizado as classes da variável a ser predita (FORCE_2020_LITHOFACIES_LITHOLOGY) no intervalo de 0-11, irei realizar a transformação contrária delas para voltarem ao valor original"
      ]
    },
    {
      "cell_type": "code",
      "metadata": {
        "colab": {
          "base_uri": "https://localhost:8080/"
        },
        "id": "O-Jme1I15nLd",
        "outputId": "91c2e51c-9983-4ac5-b77c-088d05b9a433"
      },
      "source": [
        "lithology_dict"
      ],
      "execution_count": null,
      "outputs": [
        {
          "output_type": "execute_result",
          "data": {
            "text/plain": [
              "{30000: 1,\n",
              " 65000: 0,\n",
              " 65030: 2,\n",
              " 70000: 3,\n",
              " 70032: 6,\n",
              " 74000: 9,\n",
              " 80000: 4,\n",
              " 86000: 10,\n",
              " 88000: 7,\n",
              " 90000: 8,\n",
              " 93000: 11,\n",
              " 99000: 5}"
            ]
          },
          "metadata": {
            "tags": []
          },
          "execution_count": 246
        }
      ]
    },
    {
      "cell_type": "code",
      "metadata": {
        "colab": {
          "base_uri": "https://localhost:8080/"
        },
        "id": "GiguZSjk0Gku",
        "outputId": "6b8149cc-7723-42a5-c1cb-50f45a55c570"
      },
      "source": [
        "undo_lithology_dict = dict((y,x) for x,y in lithology_dict.items())\n",
        "\n",
        "def undo_map_lithology(dict_lithology, row) -> str:\n",
        "    key = row['lithology']\n",
        "    return undo_lithology_dict[key]\n",
        "\n",
        "df_entrega['lithology'] = df_entrega.apply(lambda row: undo_map_lithology(undo_lithology_dict, row), axis=1)\n",
        "df_entrega['lithology'].value_counts()"
      ],
      "execution_count": null,
      "outputs": [
        {
          "output_type": "execute_result",
          "data": {
            "text/plain": [
              "65000    63689\n",
              "70000    36510\n",
              "30000    12691\n",
              "88000     7047\n",
              "80000     1210\n",
              "65030      787\n",
              "86000      280\n",
              "99000      126\n",
              "70032       43\n",
              "90000       14\n",
              "Name: lithology, dtype: int64"
            ]
          },
          "metadata": {
            "tags": []
          },
          "execution_count": 248
        }
      ]
    },
    {
      "cell_type": "code",
      "metadata": {
        "id": "ttP--1uM59BU"
      },
      "source": [
        "df_entrega.to_csv('dataset_hidden.csv', index=False)"
      ],
      "execution_count": null,
      "outputs": []
    }
  ]
}