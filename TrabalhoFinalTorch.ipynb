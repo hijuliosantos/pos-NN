{
  "nbformat": 4,
  "nbformat_minor": 0,
  "metadata": {
    "accelerator": "GPU",
    "colab": {
      "name": "TrabalhoFinalTorch.ipynb",
      "provenance": [],
      "collapsed_sections": [],
      "toc_visible": true,
      "include_colab_link": true
    },
    "kernelspec": {
      "display_name": "Python 3",
      "language": "python",
      "name": "python3"
    },
    "language_info": {
      "codemirror_mode": {
        "name": "ipython",
        "version": 3
      },
      "file_extension": ".py",
      "mimetype": "text/x-python",
      "name": "python",
      "nbconvert_exporter": "python",
      "pygments_lexer": "ipython3",
      "version": "3.8.8"
    }
  },
  "cells": [
    {
      "cell_type": "markdown",
      "metadata": {
        "id": "view-in-github",
        "colab_type": "text"
      },
      "source": [
        "<a href=\"https://colab.research.google.com/github/hijuliosantos/pos-NN/blob/main/TrabalhoFinalTorch.ipynb\" target=\"_parent\"><img src=\"https://colab.research.google.com/assets/colab-badge.svg\" alt=\"Open In Colab\"/></a>"
      ]
    },
    {
      "cell_type": "markdown",
      "metadata": {
        "id": "Sl2rsRZG-xV_"
      },
      "source": [
        "Este trabalho tem como objetivo utilizar a biblioteca de aprendizado de máquina \"PyTorch\" com o objetivo de criar diferentes arquiteturas de redes neurais para a classificação de granulometria e compará-las. Para este trabalho, utilizou-se a base \"lithology.csv\" criada por um time de especialistas em litologia. \n",
        "\n",
        "A base contém 1.170.511 exemplos, 30 variáveis preditoras e uma variável a ser predita, contendo 12 classes granulométricas.\n",
        "\n",
        "\n",
        "\n",
        "\n",
        "\n"
      ]
    },
    {
      "cell_type": "markdown",
      "metadata": {
        "id": "_ezXsHw7wWdI"
      },
      "source": [
        "# Inicío da execução do trabalho"
      ]
    },
    {
      "cell_type": "markdown",
      "metadata": {
        "id": "qZRE_LF8DcWe"
      },
      "source": [
        "Inicialmente realizo a importação das bibliotecas necessárias para o desenvolvimento deste trabalho."
      ]
    },
    {
      "cell_type": "code",
      "metadata": {
        "id": "m0y5tkRfmsai"
      },
      "source": [
        "import pandas as pd\n",
        "import matplotlib.pyplot as plt\n",
        "import torch\n",
        "import torch.nn as nn\n",
        "import torch.optim as optim\n",
        "import torch.nn.functional as F\n",
        "import numpy as np\n",
        "\n",
        "from sklearn import preprocessing\n",
        "from sklearn.preprocessing import OneHotEncoder\n",
        "from sklearn.model_selection import train_test_split\n",
        "from sklearn.model_selection import StratifiedKFold\n",
        "from torch.utils.data import Dataset, DataLoader, WeightedRandomSampler"
      ],
      "execution_count": null,
      "outputs": []
    },
    {
      "cell_type": "markdown",
      "metadata": {
        "id": "0VXOTfT4DrfE"
      },
      "source": [
        "Os dados estão no google Drive, com isto, utilizo o seguinte código para utilizar o drive no colab."
      ]
    },
    {
      "cell_type": "code",
      "metadata": {
        "colab": {
          "base_uri": "https://localhost:8080/"
        },
        "id": "U5hKCqvOloee",
        "outputId": "35a334cd-4d1a-44c3-98ca-bc91644ab624"
      },
      "source": [
        "from google.colab import drive\n",
        "drive.mount('/content/drive')"
      ],
      "execution_count": null,
      "outputs": [
        {
          "output_type": "stream",
          "text": [
            "Mounted at /content/drive\n"
          ],
          "name": "stdout"
        }
      ]
    },
    {
      "cell_type": "code",
      "metadata": {
        "colab": {
          "base_uri": "https://localhost:8080/"
        },
        "id": "per9r8g3mYSL",
        "outputId": "38973288-f38f-4987-a4a1-3178624d4d21"
      },
      "source": [
        "%cd /content/drive/My Drive/datasets/"
      ],
      "execution_count": null,
      "outputs": [
        {
          "output_type": "stream",
          "text": [
            "/content/drive/My Drive/datasets\n"
          ],
          "name": "stdout"
        }
      ]
    },
    {
      "cell_type": "markdown",
      "metadata": {
        "id": "i4DPE6k4EUrF"
      },
      "source": [
        "Leitura dos dados através da biblioteca pandas."
      ]
    },
    {
      "cell_type": "code",
      "metadata": {
        "colab": {
          "base_uri": "https://localhost:8080/"
        },
        "id": "oiIN0aBBmhTK",
        "outputId": "a4f7d656-114d-446d-c72a-7ca08623f8fa"
      },
      "source": [
        "df = pd.read_csv('lithology.csv', delimiter=';')\n",
        "print('Shape da base', df.shape)"
      ],
      "execution_count": null,
      "outputs": [
        {
          "output_type": "stream",
          "text": [
            "Shape da base (1170511, 31)\n"
          ],
          "name": "stdout"
        }
      ]
    },
    {
      "cell_type": "markdown",
      "metadata": {
        "id": "RfSsXukpKABu"
      },
      "source": [
        "Faço uma pequena análise em alguns dados (etapas de pré-processamento já executadas)."
      ]
    },
    {
      "cell_type": "code",
      "metadata": {
        "colab": {
          "base_uri": "https://localhost:8080/",
          "height": 224
        },
        "id": "nlkAlHihmzXB",
        "outputId": "dfd332a2-df61-4e71-b092-5dd0a58c2f64"
      },
      "source": [
        "pd.set_option('display.max_columns', 31)\n",
        "df.head()"
      ],
      "execution_count": null,
      "outputs": [
        {
          "output_type": "execute_result",
          "data": {
            "text/html": [
              "<div>\n",
              "<style scoped>\n",
              "    .dataframe tbody tr th:only-of-type {\n",
              "        vertical-align: middle;\n",
              "    }\n",
              "\n",
              "    .dataframe tbody tr th {\n",
              "        vertical-align: top;\n",
              "    }\n",
              "\n",
              "    .dataframe thead th {\n",
              "        text-align: right;\n",
              "    }\n",
              "</style>\n",
              "<table border=\"1\" class=\"dataframe\">\n",
              "  <thead>\n",
              "    <tr style=\"text-align: right;\">\n",
              "      <th></th>\n",
              "      <th>DEPTH_MD</th>\n",
              "      <th>X_LOC</th>\n",
              "      <th>Y_LOC</th>\n",
              "      <th>Z_LOC</th>\n",
              "      <th>CALI</th>\n",
              "      <th>RSHA</th>\n",
              "      <th>RMED</th>\n",
              "      <th>RDEP</th>\n",
              "      <th>RHOB</th>\n",
              "      <th>GR</th>\n",
              "      <th>NPHI</th>\n",
              "      <th>PEF</th>\n",
              "      <th>DTC</th>\n",
              "      <th>SP</th>\n",
              "      <th>BS</th>\n",
              "      <th>ROP</th>\n",
              "      <th>DCAL</th>\n",
              "      <th>DRHO</th>\n",
              "      <th>MUDWEIGHT</th>\n",
              "      <th>RMIC</th>\n",
              "      <th>FORCE_2020_LITHOFACIES_LITHOLOGY</th>\n",
              "      <th>Carbon_Index</th>\n",
              "      <th>Normalized_RHOB</th>\n",
              "      <th>Normalized_GR</th>\n",
              "      <th>Delta_DTC</th>\n",
              "      <th>Delta_RHOB</th>\n",
              "      <th>Delta_GR</th>\n",
              "      <th>Delta_DEPTH_MD</th>\n",
              "      <th>Delta_Carbon_Index</th>\n",
              "      <th>GROUP_encoded</th>\n",
              "      <th>FORMATION_encoded</th>\n",
              "    </tr>\n",
              "  </thead>\n",
              "  <tbody>\n",
              "    <tr>\n",
              "      <th>0</th>\n",
              "      <td>494.528</td>\n",
              "      <td>437641.96875</td>\n",
              "      <td>6470972.5</td>\n",
              "      <td>-469.501831</td>\n",
              "      <td>19.480835</td>\n",
              "      <td>-999.0</td>\n",
              "      <td>1.611410</td>\n",
              "      <td>1.798681</td>\n",
              "      <td>1.884186</td>\n",
              "      <td>80.200851</td>\n",
              "      <td>-999.0</td>\n",
              "      <td>20.915468</td>\n",
              "      <td>161.131180</td>\n",
              "      <td>24.612379</td>\n",
              "      <td>17.5</td>\n",
              "      <td>34.636410</td>\n",
              "      <td>1.980835</td>\n",
              "      <td>-0.574928</td>\n",
              "      <td>-999.0</td>\n",
              "      <td>-999.0</td>\n",
              "      <td>65000.0</td>\n",
              "      <td>24.735691</td>\n",
              "      <td>0.314847</td>\n",
              "      <td>0.150172</td>\n",
              "      <td>-0.000000</td>\n",
              "      <td>-0.000000</td>\n",
              "      <td>-0.000000</td>\n",
              "      <td>0.000</td>\n",
              "      <td>0.000000</td>\n",
              "      <td>6</td>\n",
              "      <td>68</td>\n",
              "    </tr>\n",
              "    <tr>\n",
              "      <th>1</th>\n",
              "      <td>494.680</td>\n",
              "      <td>437641.96875</td>\n",
              "      <td>6470972.5</td>\n",
              "      <td>-469.653809</td>\n",
              "      <td>19.468800</td>\n",
              "      <td>-999.0</td>\n",
              "      <td>1.618070</td>\n",
              "      <td>1.795641</td>\n",
              "      <td>1.889794</td>\n",
              "      <td>79.262886</td>\n",
              "      <td>-999.0</td>\n",
              "      <td>19.383013</td>\n",
              "      <td>160.603470</td>\n",
              "      <td>23.895531</td>\n",
              "      <td>17.5</td>\n",
              "      <td>34.636410</td>\n",
              "      <td>1.968800</td>\n",
              "      <td>-0.570188</td>\n",
              "      <td>-999.0</td>\n",
              "      <td>-999.0</td>\n",
              "      <td>65000.0</td>\n",
              "      <td>24.492376</td>\n",
              "      <td>0.318528</td>\n",
              "      <td>0.148269</td>\n",
              "      <td>0.527710</td>\n",
              "      <td>-0.005608</td>\n",
              "      <td>0.937965</td>\n",
              "      <td>0.152</td>\n",
              "      <td>-0.243315</td>\n",
              "      <td>6</td>\n",
              "      <td>68</td>\n",
              "    </tr>\n",
              "    <tr>\n",
              "      <th>2</th>\n",
              "      <td>494.832</td>\n",
              "      <td>437641.96875</td>\n",
              "      <td>6470972.5</td>\n",
              "      <td>-469.805786</td>\n",
              "      <td>19.468800</td>\n",
              "      <td>-999.0</td>\n",
              "      <td>1.626459</td>\n",
              "      <td>1.800733</td>\n",
              "      <td>1.896523</td>\n",
              "      <td>74.821999</td>\n",
              "      <td>-999.0</td>\n",
              "      <td>22.591518</td>\n",
              "      <td>160.173615</td>\n",
              "      <td>23.916357</td>\n",
              "      <td>17.5</td>\n",
              "      <td>34.779556</td>\n",
              "      <td>1.968800</td>\n",
              "      <td>-0.574245</td>\n",
              "      <td>-999.0</td>\n",
              "      <td>-999.0</td>\n",
              "      <td>65000.0</td>\n",
              "      <td>24.202299</td>\n",
              "      <td>0.322946</td>\n",
              "      <td>0.139258</td>\n",
              "      <td>0.429855</td>\n",
              "      <td>-0.006729</td>\n",
              "      <td>4.440887</td>\n",
              "      <td>0.152</td>\n",
              "      <td>-0.290077</td>\n",
              "      <td>6</td>\n",
              "      <td>68</td>\n",
              "    </tr>\n",
              "    <tr>\n",
              "      <th>3</th>\n",
              "      <td>494.984</td>\n",
              "      <td>437641.96875</td>\n",
              "      <td>6470972.5</td>\n",
              "      <td>-469.957794</td>\n",
              "      <td>19.459282</td>\n",
              "      <td>-999.0</td>\n",
              "      <td>1.621594</td>\n",
              "      <td>1.801517</td>\n",
              "      <td>1.891913</td>\n",
              "      <td>72.878922</td>\n",
              "      <td>-999.0</td>\n",
              "      <td>32.191910</td>\n",
              "      <td>160.149429</td>\n",
              "      <td>23.793688</td>\n",
              "      <td>17.5</td>\n",
              "      <td>39.965164</td>\n",
              "      <td>1.959282</td>\n",
              "      <td>-0.586315</td>\n",
              "      <td>-999.0</td>\n",
              "      <td>-999.0</td>\n",
              "      <td>65000.0</td>\n",
              "      <td>24.400797</td>\n",
              "      <td>0.319919</td>\n",
              "      <td>0.135315</td>\n",
              "      <td>0.024185</td>\n",
              "      <td>0.004610</td>\n",
              "      <td>1.943077</td>\n",
              "      <td>0.152</td>\n",
              "      <td>0.198498</td>\n",
              "      <td>6</td>\n",
              "      <td>68</td>\n",
              "    </tr>\n",
              "    <tr>\n",
              "      <th>4</th>\n",
              "      <td>495.136</td>\n",
              "      <td>437641.96875</td>\n",
              "      <td>6470972.5</td>\n",
              "      <td>-470.109772</td>\n",
              "      <td>19.453100</td>\n",
              "      <td>-999.0</td>\n",
              "      <td>1.602679</td>\n",
              "      <td>1.795299</td>\n",
              "      <td>1.880034</td>\n",
              "      <td>71.729141</td>\n",
              "      <td>-999.0</td>\n",
              "      <td>38.495632</td>\n",
              "      <td>160.128342</td>\n",
              "      <td>24.104078</td>\n",
              "      <td>17.5</td>\n",
              "      <td>57.483765</td>\n",
              "      <td>1.953100</td>\n",
              "      <td>-0.597914</td>\n",
              "      <td>-999.0</td>\n",
              "      <td>-999.0</td>\n",
              "      <td>65000.0</td>\n",
              "      <td>24.916765</td>\n",
              "      <td>0.312121</td>\n",
              "      <td>0.132982</td>\n",
              "      <td>0.021088</td>\n",
              "      <td>0.011879</td>\n",
              "      <td>1.149780</td>\n",
              "      <td>0.152</td>\n",
              "      <td>0.515968</td>\n",
              "      <td>6</td>\n",
              "      <td>68</td>\n",
              "    </tr>\n",
              "  </tbody>\n",
              "</table>\n",
              "</div>"
            ],
            "text/plain": [
              "   DEPTH_MD         X_LOC      Y_LOC       Z_LOC       CALI   RSHA      RMED  \\\n",
              "0   494.528  437641.96875  6470972.5 -469.501831  19.480835 -999.0  1.611410   \n",
              "1   494.680  437641.96875  6470972.5 -469.653809  19.468800 -999.0  1.618070   \n",
              "2   494.832  437641.96875  6470972.5 -469.805786  19.468800 -999.0  1.626459   \n",
              "3   494.984  437641.96875  6470972.5 -469.957794  19.459282 -999.0  1.621594   \n",
              "4   495.136  437641.96875  6470972.5 -470.109772  19.453100 -999.0  1.602679   \n",
              "\n",
              "       RDEP      RHOB         GR   NPHI        PEF         DTC         SP  \\\n",
              "0  1.798681  1.884186  80.200851 -999.0  20.915468  161.131180  24.612379   \n",
              "1  1.795641  1.889794  79.262886 -999.0  19.383013  160.603470  23.895531   \n",
              "2  1.800733  1.896523  74.821999 -999.0  22.591518  160.173615  23.916357   \n",
              "3  1.801517  1.891913  72.878922 -999.0  32.191910  160.149429  23.793688   \n",
              "4  1.795299  1.880034  71.729141 -999.0  38.495632  160.128342  24.104078   \n",
              "\n",
              "     BS        ROP      DCAL      DRHO  MUDWEIGHT   RMIC  \\\n",
              "0  17.5  34.636410  1.980835 -0.574928     -999.0 -999.0   \n",
              "1  17.5  34.636410  1.968800 -0.570188     -999.0 -999.0   \n",
              "2  17.5  34.779556  1.968800 -0.574245     -999.0 -999.0   \n",
              "3  17.5  39.965164  1.959282 -0.586315     -999.0 -999.0   \n",
              "4  17.5  57.483765  1.953100 -0.597914     -999.0 -999.0   \n",
              "\n",
              "   FORCE_2020_LITHOFACIES_LITHOLOGY  Carbon_Index  Normalized_RHOB  \\\n",
              "0                           65000.0     24.735691         0.314847   \n",
              "1                           65000.0     24.492376         0.318528   \n",
              "2                           65000.0     24.202299         0.322946   \n",
              "3                           65000.0     24.400797         0.319919   \n",
              "4                           65000.0     24.916765         0.312121   \n",
              "\n",
              "   Normalized_GR  Delta_DTC  Delta_RHOB  Delta_GR  Delta_DEPTH_MD  \\\n",
              "0       0.150172  -0.000000   -0.000000 -0.000000           0.000   \n",
              "1       0.148269   0.527710   -0.005608  0.937965           0.152   \n",
              "2       0.139258   0.429855   -0.006729  4.440887           0.152   \n",
              "3       0.135315   0.024185    0.004610  1.943077           0.152   \n",
              "4       0.132982   0.021088    0.011879  1.149780           0.152   \n",
              "\n",
              "   Delta_Carbon_Index  GROUP_encoded  FORMATION_encoded  \n",
              "0            0.000000              6                 68  \n",
              "1           -0.243315              6                 68  \n",
              "2           -0.290077              6                 68  \n",
              "3            0.198498              6                 68  \n",
              "4            0.515968              6                 68  "
            ]
          },
          "metadata": {
            "tags": []
          },
          "execution_count": 5
        }
      ]
    },
    {
      "cell_type": "code",
      "metadata": {
        "colab": {
          "base_uri": "https://localhost:8080/"
        },
        "id": "8_mTLoYKm0kh",
        "outputId": "7d7ae266-fdd4-48d6-840e-742e866799ed"
      },
      "source": [
        "df.info()"
      ],
      "execution_count": null,
      "outputs": [
        {
          "output_type": "stream",
          "text": [
            "<class 'pandas.core.frame.DataFrame'>\n",
            "RangeIndex: 1170511 entries, 0 to 1170510\n",
            "Data columns (total 31 columns):\n",
            " #   Column                            Non-Null Count    Dtype  \n",
            "---  ------                            --------------    -----  \n",
            " 0   DEPTH_MD                          1170511 non-null  float64\n",
            " 1   X_LOC                             1170511 non-null  float64\n",
            " 2   Y_LOC                             1170511 non-null  float64\n",
            " 3   Z_LOC                             1170511 non-null  float64\n",
            " 4   CALI                              1170511 non-null  float64\n",
            " 5   RSHA                              1170511 non-null  float64\n",
            " 6   RMED                              1170511 non-null  float64\n",
            " 7   RDEP                              1170511 non-null  float64\n",
            " 8   RHOB                              1170511 non-null  float64\n",
            " 9   GR                                1170511 non-null  float64\n",
            " 10  NPHI                              1170511 non-null  float64\n",
            " 11  PEF                               1170511 non-null  float64\n",
            " 12  DTC                               1170511 non-null  float64\n",
            " 13  SP                                1170511 non-null  float64\n",
            " 14  BS                                1170511 non-null  float64\n",
            " 15  ROP                               1170511 non-null  float64\n",
            " 16  DCAL                              1170511 non-null  float64\n",
            " 17  DRHO                              1170511 non-null  float64\n",
            " 18  MUDWEIGHT                         1170511 non-null  float64\n",
            " 19  RMIC                              1170511 non-null  float64\n",
            " 20  FORCE_2020_LITHOFACIES_LITHOLOGY  1170511 non-null  float64\n",
            " 21  Carbon_Index                      1170511 non-null  float64\n",
            " 22  Normalized_RHOB                   1170511 non-null  float64\n",
            " 23  Normalized_GR                     1170511 non-null  float64\n",
            " 24  Delta_DTC                         1170511 non-null  float64\n",
            " 25  Delta_RHOB                        1170511 non-null  float64\n",
            " 26  Delta_GR                          1170511 non-null  float64\n",
            " 27  Delta_DEPTH_MD                    1170511 non-null  float64\n",
            " 28  Delta_Carbon_Index                1170511 non-null  float64\n",
            " 29  GROUP_encoded                     1170511 non-null  int64  \n",
            " 30  FORMATION_encoded                 1170511 non-null  int64  \n",
            "dtypes: float64(29), int64(2)\n",
            "memory usage: 276.8 MB\n"
          ],
          "name": "stdout"
        }
      ]
    },
    {
      "cell_type": "code",
      "metadata": {
        "colab": {
          "base_uri": "https://localhost:8080/"
        },
        "id": "e_W3eClGu5pE",
        "outputId": "2e5c214e-4442-4031-f865-16af900ebd3b"
      },
      "source": [
        "df['FORMATION_encoded'].value_counts()"
      ],
      "execution_count": null,
      "outputs": [
        {
          "output_type": "execute_result",
          "data": {
            "text/plain": [
              " 68    254998\n",
              " 37     94328\n",
              " 38     71080\n",
              " 24     65041\n",
              "-1      54632\n",
              "        ...  \n",
              " 6        235\n",
              " 30       177\n",
              " 17       171\n",
              " 19       118\n",
              " 13       105\n",
              "Name: FORMATION_encoded, Length: 70, dtype: int64"
            ]
          },
          "metadata": {
            "tags": []
          },
          "execution_count": 7
        }
      ]
    },
    {
      "cell_type": "code",
      "metadata": {
        "colab": {
          "base_uri": "https://localhost:8080/"
        },
        "id": "mseRLtWEu6VL",
        "outputId": "84f552cb-f911-47e2-e911-06f74d1a64d2"
      },
      "source": [
        "df['GROUP_encoded'].value_counts()"
      ],
      "execution_count": null,
      "outputs": [
        {
          "output_type": "execute_result",
          "data": {
            "text/plain": [
              "5     293155\n",
              "9     234028\n",
              "12    131999\n",
              "7     131944\n",
              "3     119085\n",
              "6     112768\n",
              "2      52320\n",
              "0      35823\n",
              "11     26116\n",
              "4      13913\n",
              "13     12238\n",
              "1       3125\n",
              "8       2792\n",
              "10      1205\n",
              "Name: GROUP_encoded, dtype: int64"
            ]
          },
          "metadata": {
            "tags": []
          },
          "execution_count": 8
        }
      ]
    },
    {
      "cell_type": "code",
      "metadata": {
        "colab": {
          "base_uri": "https://localhost:8080/"
        },
        "id": "fOYGRH_im2qy",
        "outputId": "cec98dd7-613d-4476-cdbd-888dd3141bb3"
      },
      "source": [
        "df['FORCE_2020_LITHOFACIES_LITHOLOGY'].value_counts()"
      ],
      "execution_count": null,
      "outputs": [
        {
          "output_type": "execute_result",
          "data": {
            "text/plain": [
              "65000.0    720803\n",
              "30000.0    168937\n",
              "65030.0    150455\n",
              "70000.0     56320\n",
              "80000.0     33329\n",
              "99000.0     15245\n",
              "70032.0     10513\n",
              "88000.0      8213\n",
              "90000.0      3820\n",
              "74000.0      1688\n",
              "86000.0      1085\n",
              "93000.0       103\n",
              "Name: FORCE_2020_LITHOFACIES_LITHOLOGY, dtype: int64"
            ]
          },
          "metadata": {
            "tags": []
          },
          "execution_count": 9
        }
      ]
    },
    {
      "cell_type": "markdown",
      "metadata": {
        "id": "AX7NvF10Kh9M"
      },
      "source": [
        "A partir da análise incial, irei padronizar a variável a ser predita \"FORCE_2020_LITHOFACIES_LITHOLOGY\" para valores de 0 até 11, devido aos seus valores originais estarem despadronizados. "
      ]
    },
    {
      "cell_type": "code",
      "metadata": {
        "colab": {
          "base_uri": "https://localhost:8080/"
        },
        "id": "daocp7o0nA-a",
        "outputId": "af6db4e4-0435-4fe7-ed9a-542477f4def5"
      },
      "source": [
        "lithology_dict = {30000: 1, 65030: 2, 65000: 0, 80000: 4, 74000: 9, 70000: 3, 70032: 6, \n",
        "                  88000: 7, 86000: 10, 99000: 5, 90000: 8, 93000: 11}\n",
        "\n",
        "def map_lithology(dict_lithology, row) -> str:\n",
        "    key = row['FORCE_2020_LITHOFACIES_LITHOLOGY']\n",
        "    return dict_lithology[key]\n",
        "\n",
        "df['LITHOLOGY_MAP'] = df.apply(lambda row: map_lithology(lithology_dict, row), axis=1)\n",
        "df['LITHOLOGY_MAP'].value_counts()"
      ],
      "execution_count": null,
      "outputs": [
        {
          "output_type": "execute_result",
          "data": {
            "text/plain": [
              "0     720803\n",
              "1     168937\n",
              "2     150455\n",
              "3      56320\n",
              "4      33329\n",
              "5      15245\n",
              "6      10513\n",
              "7       8213\n",
              "8       3820\n",
              "9       1688\n",
              "10      1085\n",
              "11       103\n",
              "Name: LITHOLOGY_MAP, dtype: int64"
            ]
          },
          "metadata": {
            "tags": []
          },
          "execution_count": 3
        }
      ]
    },
    {
      "cell_type": "code",
      "metadata": {
        "colab": {
          "base_uri": "https://localhost:8080/"
        },
        "id": "zvD-JCdsnDAC",
        "outputId": "28c93094-d69d-4045-cc25-9059f60be78f"
      },
      "source": [
        "df.columns"
      ],
      "execution_count": null,
      "outputs": [
        {
          "output_type": "execute_result",
          "data": {
            "text/plain": [
              "Index(['DEPTH_MD', 'X_LOC', 'Y_LOC', 'Z_LOC', 'CALI', 'RSHA', 'RMED', 'RDEP',\n",
              "       'RHOB', 'GR', 'NPHI', 'PEF', 'DTC', 'SP', 'BS', 'ROP', 'DCAL', 'DRHO',\n",
              "       'MUDWEIGHT', 'RMIC', 'FORCE_2020_LITHOFACIES_LITHOLOGY', 'Carbon_Index',\n",
              "       'Normalized_RHOB', 'Normalized_GR', 'Delta_DTC', 'Delta_RHOB',\n",
              "       'Delta_GR', 'Delta_DEPTH_MD', 'Delta_Carbon_Index', 'GROUP_encoded',\n",
              "       'FORMATION_encoded', 'LITHOLOGY_MAP'],\n",
              "      dtype='object')"
            ]
          },
          "metadata": {
            "tags": []
          },
          "execution_count": 11
        }
      ]
    },
    {
      "cell_type": "markdown",
      "metadata": {
        "id": "14elu0_4S7Ju"
      },
      "source": [
        "Configurações para reprodutibilidade"
      ]
    },
    {
      "cell_type": "code",
      "metadata": {
        "id": "Wza-cmzIRL1d"
      },
      "source": [
        "seed = 42\n",
        "torch.manual_seed(seed)\n",
        "np.random.seed(seed)\n",
        "#random.seed(seed) \n",
        "# for cuda\n",
        "torch.cuda.manual_seed_all(seed)\n",
        "torch.backends.cudnn.deterministic = True\n",
        "torch.backends.cudnn.benchmark = False\n",
        "torch.backends.cudnn.enabled = False"
      ],
      "execution_count": null,
      "outputs": []
    },
    {
      "cell_type": "markdown",
      "metadata": {
        "id": "an061aCsTNxE"
      },
      "source": [
        "Habilitar GPU cuda se disponível."
      ]
    },
    {
      "cell_type": "code",
      "metadata": {
        "colab": {
          "base_uri": "https://localhost:8080/"
        },
        "id": "-39-v-Eu1XHP",
        "outputId": "364f7280-6191-440d-f075-a88b9dd92af4"
      },
      "source": [
        "device = torch.device(\"cuda:0\" if torch.cuda.is_available() else \"cpu\")\n",
        "print(device)"
      ],
      "execution_count": null,
      "outputs": [
        {
          "output_type": "stream",
          "text": [
            "cpu\n"
          ],
          "name": "stdout"
        }
      ]
    },
    {
      "cell_type": "markdown",
      "metadata": {
        "id": "8w0VBte0TZvk"
      },
      "source": [
        "Divido o meu dataset em 80% treino e mantenho 20% para testes. Esses 20% de testes, divido metade para testes ea outra metade para validação. Com isto, obtenho 80% treino / 10% validação / 10% testes. Foi estratificada a varíavel a ser predita nos splits. "
      ]
    },
    {
      "cell_type": "code",
      "metadata": {
        "id": "WQNysSwFTZJs"
      },
      "source": [
        "X = df[['DEPTH_MD', 'X_LOC', 'Y_LOC', 'Z_LOC', 'CALI', 'RSHA', 'RMED', 'RDEP', 'RHOB', 'GR', 'NPHI', 'PEF', 'DTC', 'SP', 'BS', 'ROP', 'DCAL', 'DRHO', 'MUDWEIGHT', 'RMIC',\n",
        "        'Carbon_Index', 'Normalized_RHOB', 'Normalized_GR', 'Delta_DTC', 'Delta_RHOB', 'Delta_GR', 'Delta_DEPTH_MD', 'Delta_Carbon_Index', 'GROUP_encoded', 'FORMATION_encoded']]\n",
        "\n",
        "y = df['LITHOLOGY_MAP']\n",
        "\n",
        "# DIVIDIR DATASET EM 80/10/10\n",
        "X_train, X_temp, y_train, y_temp = train_test_split(X, y, test_size=0.2, stratify=y, random_state=seed, shuffle=True)\n",
        "X_test, X_val, y_test, y_val = train_test_split(X_temp, y_temp, test_size=0.5, stratify=y_temp, random_state=seed, shuffle=True)"
      ],
      "execution_count": null,
      "outputs": []
    },
    {
      "cell_type": "markdown",
      "metadata": {
        "id": "j9T46YMRUOhF"
      },
      "source": [
        "Realizo os ajustes nas variáveis preditoras. \n",
        "\n",
        "Para os valores numéricos irei utilizar MinMaxScaler e os valores categóricos irei utilizar OneHotEncoder."
      ]
    },
    {
      "cell_type": "code",
      "metadata": {
        "id": "7kcp6ZVMUfgd"
      },
      "source": [
        "# NORMALIZAR OS DADOS\n",
        "min_max_scaler = preprocessing.MinMaxScaler()\n",
        "\n",
        "X_train_mm = min_max_scaler.fit_transform(X_train[['DEPTH_MD', 'X_LOC', 'Y_LOC', 'Z_LOC', 'CALI', 'RSHA', 'RMED', 'RDEP',  'RHOB', 'GR', 'NPHI', 'PEF', 'DTC', 'SP', 'BS', 'ROP',\n",
        "        'DCAL', 'DRHO', 'MUDWEIGHT', 'RMIC', 'Carbon_Index', 'Normalized_RHOB', 'Normalized_GR', 'Delta_DTC', 'Delta_RHOB', 'Delta_GR', 'Delta_DEPTH_MD', 'Delta_Carbon_Index'\n",
        "        ]])\n",
        "\n",
        "X_test_mm = min_max_scaler.transform(X_test[['DEPTH_MD', 'X_LOC', 'Y_LOC', 'Z_LOC', 'CALI', 'RSHA', 'RMED', 'RDEP',  'RHOB', 'GR', 'NPHI', 'PEF', 'DTC', 'SP', 'BS', 'ROP',\n",
        "        'DCAL', 'DRHO', 'MUDWEIGHT', 'RMIC', 'Carbon_Index', 'Normalized_RHOB', 'Normalized_GR', 'Delta_DTC', 'Delta_RHOB', 'Delta_GR', 'Delta_DEPTH_MD', 'Delta_Carbon_Index'\n",
        "        ]])\n",
        "\n",
        "X_val_mm = min_max_scaler.transform(X_val[['DEPTH_MD', 'X_LOC', 'Y_LOC', 'Z_LOC', 'CALI', 'RSHA', 'RMED', 'RDEP',  'RHOB', 'GR', 'NPHI', 'PEF', 'DTC', 'SP', 'BS', 'ROP',\n",
        "        'DCAL', 'DRHO', 'MUDWEIGHT', 'RMIC', 'Carbon_Index', 'Normalized_RHOB', 'Normalized_GR', 'Delta_DTC', 'Delta_RHOB', 'Delta_GR', 'Delta_DEPTH_MD', 'Delta_Carbon_Index'\n",
        "        ]])\n",
        "\n",
        "ohe = OneHotEncoder(sparse=False, handle_unknown='ignore')\n",
        "X_train_ohe = ohe.fit_transform(X_train[['GROUP_encoded', 'FORMATION_encoded']])\n",
        "X_test_ohe = ohe.transform(X_test[['GROUP_encoded', 'FORMATION_encoded']])\n",
        "X_val_ohe = ohe.transform(X_val[['GROUP_encoded', 'FORMATION_encoded']])\n",
        "\n",
        "# GERAR O DATASET\n",
        "X_train = np.hstack([ X_train_mm, X_train_ohe])\n",
        "X_test = np.hstack([ X_test_mm, X_test_ohe])\n",
        "X_val = np.hstack([ X_val_mm, X_val_ohe])"
      ],
      "execution_count": null,
      "outputs": []
    },
    {
      "cell_type": "markdown",
      "metadata": {
        "id": "9FgRckjJVA8d"
      },
      "source": [
        "Organizo meus datasets de treino, teste e validação. Também realizo a conversão dos dados para tensor, afim de serem utilizados em modelos de redes neurais do pytorch."
      ]
    },
    {
      "cell_type": "code",
      "metadata": {
        "id": "kiAVFA3U8LCp"
      },
      "source": [
        "class ClassifierDataset (Dataset): \n",
        "    def __init__ (self, X_data, y_data): \n",
        "        self.X_data = X_data \n",
        "        self.y_data = y_data \n",
        "        \n",
        "    def __getitem__ (self, index): \n",
        "        return self.X_data [index], self.y_data [index] \n",
        "        \n",
        "    def __len__ (self): \n",
        "        return len (self.X_data) \n",
        "\n",
        "\n",
        "train_dataset = ClassifierDataset (torch.from_numpy (X_train) .float (), torch.from_numpy (y_train.to_numpy()) .long ())\n",
        "val_dataset = ClassifierDataset (torch.from_numpy (X_val) .float (), torch.from_numpy (y_val.to_numpy()) .long ())\n",
        "test_dataset = ClassifierDataset (torch.from_numpy (X_test) .float (), torch.from_numpy (y_test.to_numpy()) .long ())\n",
        "\n",
        "# tamanho da entrada (utilizado para a rede neural)\n",
        "NUM_FEATURES = X_train.shape[1]\n",
        "# quantidade de classes que posso obter (utilizado para a rede neural)\n",
        "NUM_CLASSES = len(y.value_counts())"
      ],
      "execution_count": null,
      "outputs": []
    },
    {
      "cell_type": "markdown",
      "metadata": {
        "id": "naVA6pmd-1f6"
      },
      "source": [
        "Método \"execute_test_model\" utilizado para executar o teste do modelo e exibir a acurácia após o treinamento e validação"
      ]
    },
    {
      "cell_type": "code",
      "metadata": {
        "id": "RaePLuGdNmIi"
      },
      "source": [
        "def execute_test_model(model: nn.Sequential, test_loader: DataLoader) -> None:\n",
        "  acc_test = 0.00\n",
        "  test_accuracy_general = []\n",
        "  #desativa calculo do gradiente (para modo evaluation) \n",
        "  with torch.no_grad():\n",
        "    \n",
        "    model.eval() #ativa modo evaluation\n",
        "    for i, (data_test, labels_test) in enumerate(test_loader):\n",
        "        data_test, labels_test = data_test.to(device), labels_test.to(device)\n",
        "        y_pred_test = model(data_test)\n",
        "                  \n",
        "        classes_test = torch.argmax(y_pred_test, dim=1)\n",
        "        acc_test += torch.mean((classes_test == labels_test).float())\n",
        "        test_accuracy_general.append(acc_test/len(test_loader))\n",
        "        \n",
        "  print(\"Acurácia de teste: {:.2f}%\".format(acc_test/len(test_loader) * 100))"
      ],
      "execution_count": null,
      "outputs": []
    },
    {
      "cell_type": "code",
      "metadata": {
        "id": "OklonBdWSeUb"
      },
      "source": [
        "def plot_loss_acc(train_losses_general: list, val_losses_general: list, train_accuracy_general: list, val_accuracy_general: list) -> None:\n",
        "  fig, axes = plt.subplots(nrows=1, ncols=2, figsize=(12, 6))\n",
        "  axes[0].plot(train_losses_general, label='Training loss')\n",
        "  axes[0].plot(val_losses_general, label='Validation loss')\n",
        "  axes[0].legend(frameon=False)\n",
        "\n",
        "  axes[1].plot(train_accuracy_general, label='Training acc')\n",
        "  axes[1].plot(val_accuracy_general, label='Validation acc')\n",
        "  axes[1].legend(frameon=False)\n",
        "  plt.show()"
      ],
      "execution_count": null,
      "outputs": []
    },
    {
      "cell_type": "markdown",
      "metadata": {
        "id": "tEvfJzE9TvmZ"
      },
      "source": [
        "Método \"execute_model\" responsável por executar o modelo. Ele recebe um modelo pytorch e um dicionário contendo parâmetros para a execução desse modelo.\n",
        "\n",
        "Execução:\n",
        "\n",
        "1.   Inicialmente os dados são preparados para utilizarem BATCH\n",
        "2.   Impresssão dos shapes dos dataset de treino, validação e teste\n",
        "3.   Criada a função de perda passada através do dict\n",
        "4.   Criada a função de otimização passada através do dict\n",
        "5.   Transferência do modelo para GPU se houver. Impressão da arquitetura do modelo\n",
        "6.   Realizado um loop na quantidade de épocas passadas través do dict\n",
        "7.   Para cada época, é realizado o treinamento do modelo, calculada a loss e acurácia. Também é realizada a validação com os 10% da base (o treinamento é desativado para a validação)\n",
        "8. Ao final do treinamento, são impressos dois gráficos apresentando a evolução da loss e acurácia por época\n",
        "9. Finalizando o método, é realizada a predição do modelo gerado com a base de testes (10%). São impressas as acurácias de todos os datasets: treino, validação e teste. A acurácia é utilizada para a avaliação do modelo.\n",
        "\n"
      ]
    },
    {
      "cell_type": "code",
      "metadata": {
        "id": "KCDvLYJ4_kyg"
      },
      "source": [
        "def execute_model(model: nn.Sequential, dict_params: dict) -> None:\n",
        "  # Crio o loader para aplicar batches nos datasets\n",
        "  train_loader = DataLoader(dataset=train_dataset, batch_size=dict_params['BATCH_SIZE'], shuffle=False)\n",
        "  val_loader = DataLoader(dataset=val_dataset, batch_size=dict_params['BATCH_SIZE'], shuffle=False)\n",
        "  test_loader = DataLoader(dataset=test_dataset, batch_size=dict_params['BATCH_SIZE'], shuffle=False)\n",
        "\n",
        "  # Imprimo o shape dos datasets para conferir se os dados estão distribuídos corretamente\n",
        "  print('Shape X_train', X_train.shape)\n",
        "  print('Shape y_train', y_train.shape)\n",
        "  print('Shape X_val', X_val.shape)\n",
        "  print('Shape y_val', y_val.shape)\n",
        "  print('Shape X_test', X_test.shape)\n",
        "  print('Shape y_test', y_test.shape)\n",
        "  print('Len DF original', len(df))\n",
        "  print('Len train + val + test', len(X_train) + len(X_val) + len(X_test))\n",
        "\n",
        "  # Crio a função de perda e o otimizador com base no que foi passado pelo dict\n",
        "  criterion = dict_params['CRITERION']\n",
        "  optimizer = None\n",
        "  if dict_params['OPTIMIZER'] == 'ADAM':\n",
        "    optimizer = optim.Adam(model.parameters(), lr=dict_params['LEARNING_RATE']) #weight_decay=0.03\n",
        "  elif dict_params['OPTIMIZER'] == 'SGD': \n",
        "    optimizer = torch.optim.SGD(model.parameters(), lr=dict_params['LEARNING_RATE'])\n",
        "\n",
        "  #  Transfiro o modelo para cpu ou gpu e imprimo ele\n",
        "  model.to(device)\n",
        "  print(model)\n",
        "\n",
        "  # Percorrer a quantidade de épocas passadas pelo dict\n",
        "  train_losses_general, val_losses_general, train_accuracy_general, val_accuracy_general = [], [], [], []\n",
        "  for e in range(dict_params['EPOCHS']):\n",
        "      train_loss, acc_train = 0.00, 0.00     \n",
        "\n",
        "      # Percorre os batches de treino, faz a predição, calcula a loss e a acurácia\n",
        "      for data, labels, in train_loader:\n",
        "          data, labels = data.to(device), labels.to(device)\n",
        "          #forward propagation\n",
        "          y_train_pred = model(data)\n",
        "          loss = criterion(y_train_pred, labels)\n",
        "\n",
        "          #zera o gradiente do otimizador\n",
        "          optimizer.zero_grad()\n",
        "          \n",
        "          #backpropagation\n",
        "          loss.backward()\n",
        "          optimizer.step()\n",
        "\n",
        "          train_loss += loss.item()\n",
        "\n",
        "          classes = torch.argmax(y_train_pred, dim=1)\n",
        "          acc_train += torch.mean((classes == labels).float())\n",
        "        \n",
        "      \n",
        "      # IMPORTANTE: é necessário desativar o cálculo de gradiente, pois, o modelo não pode considerar os dados de validação\n",
        "      val_loss, acc_val = 0.00, 0.00\n",
        "      with torch.no_grad(): #desativa calculo do gradiente (para modo evaluation) \n",
        "        model.eval() #ativa modo evaluation\n",
        "        \n",
        "        # Percorre os batches de validação, faz a predição, calcula a loss e a acurácia. \n",
        "        for data_val, labels_val in val_loader:\n",
        "          data_val, labels_val = data_val.to(device), labels_val.to(device)\n",
        "          y_val_pred = model(data_val)\n",
        "          val_loss += criterion(y_val_pred, labels_val)\n",
        "                  \n",
        "          classes_val = torch.argmax(y_val_pred, dim=1)\n",
        "          acc_val += torch.mean((classes_val == labels_val).float())\n",
        "          \n",
        "      # Acumula as métricas para posterior impressão de gráficos\n",
        "      train_losses_general.append(train_loss/len(train_loader))\n",
        "      val_losses_general.append(val_loss/len(val_loader))\n",
        "      train_accuracy_general.append(acc_train/len(train_loader))\n",
        "      val_accuracy_general.append(acc_val/len(val_loader))\n",
        "\n",
        "      # Impressão da época/loss/acc de treino e validação\n",
        "      print(\"Epoch: {}/{}.. \".format(e+1,dict_params['EPOCHS']),\n",
        "                  \"Train Loss: {:.4f}.. \".format(train_loss/len(train_loader)),\n",
        "                  \"Val Loss: {:.4f}.. \".format(val_loss/len(val_loader)),\n",
        "                  \"Train Acc: {:.4f}.. \".format(acc_train/len(train_loader)),\n",
        "                  \"Val Acc: {:.4f}.. \".format(acc_val/len(val_loader)))\n",
        "\n",
        "      #ativa o modo de treino novamente após desativa-lo para validação\n",
        "      model.train()\n",
        "\n",
        "  # Impressão da loss/acc por época nos treinos e validações\n",
        "  plot_loss_acc(train_losses_general, val_losses_general, train_accuracy_general, val_accuracy_general)\n",
        "\n",
        "  # Executo o teste do modelo e imprimo a relação de acurácias\n",
        "  execute_test_model(model, test_loader)\n",
        "  print(\"Acurácia de treinamento: {:.2f}%\".format(acc_train/len(train_loader) * 100))\n",
        "  print(\"Acurácia de validação: {:.2f}%\".format(acc_val/len(val_loader) * 100))"
      ],
      "execution_count": null,
      "outputs": []
    },
    {
      "cell_type": "markdown",
      "metadata": {
        "id": "0oR-p8fXt7yr"
      },
      "source": [
        "# **Abaixo serão realizados os experimentos**"
      ]
    },
    {
      "cell_type": "markdown",
      "metadata": {
        "id": "WK31EunpEk8L"
      },
      "source": [
        "PRIMEIRO MODELO: Rede neural com:\n",
        "\n",
        "\n",
        "*   Camada de entrada com 128 neurônios\n",
        "*   Função de ativação ReLU\n",
        "*   Camada de saída\n",
        "\n",
        "Utilizarei 10 épocas, batch size de 512, LR de 0.05, função de otimização SGD e perda CrossEntropyLoss"
      ]
    },
    {
      "cell_type": "code",
      "metadata": {
        "colab": {
          "base_uri": "https://localhost:8080/",
          "height": 816
        },
        "id": "fpGWQb3eNvGY",
        "outputId": "d53145eb-cd82-4fa3-e9e8-3f0491a5557d"
      },
      "source": [
        "params1 = dict()\n",
        "params1['EPOCHS'] = 10\n",
        "params1['BATCH_SIZE'] = 512\n",
        "params1['LEARNING_RATE'] = 0.05\n",
        "params1['CRITERION'] = nn.CrossEntropyLoss()\n",
        "params1['OPTIMIZER'] = 'SGD'\n",
        "\n",
        "model1 = nn.Sequential(\n",
        "          nn.Linear(NUM_FEATURES, 128),\n",
        "          nn.ReLU(),\n",
        "          nn.Linear(128, NUM_CLASSES)\n",
        "        )\n",
        "\n",
        "execute_model(model1, params1)"
      ],
      "execution_count": null,
      "outputs": [
        {
          "output_type": "stream",
          "text": [
            "Shape X_train (936408, 112)\n",
            "Shape y_train (936408,)\n",
            "Shape X_val (117052, 112)\n",
            "Shape y_val (117052,)\n",
            "Shape X_test (117051, 112)\n",
            "Shape y_test (117051,)\n",
            "Len DF original 1170511\n",
            "Len train + val + test 1170511\n",
            "Sequential(\n",
            "  (0): Linear(in_features=112, out_features=128, bias=True)\n",
            "  (1): ReLU()\n",
            "  (2): Linear(in_features=128, out_features=12, bias=True)\n",
            ")\n",
            "Epoch: 1/10..  Train Loss: 0.9874..  Val Loss: 0.8260..  Train Acc: 0.6659..  Val Acc: 0.7120.. \n",
            "Epoch: 2/10..  Train Loss: 0.7894..  Val Loss: 0.7634..  Train Acc: 0.7247..  Val Acc: 0.7333.. \n",
            "Epoch: 3/10..  Train Loss: 0.7502..  Val Loss: 0.7343..  Train Acc: 0.7365..  Val Acc: 0.7380.. \n",
            "Epoch: 4/10..  Train Loss: 0.7249..  Val Loss: 0.7107..  Train Acc: 0.7430..  Val Acc: 0.7472.. \n",
            "Epoch: 5/10..  Train Loss: 0.7046..  Val Loss: 0.6872..  Train Acc: 0.7509..  Val Acc: 0.7580.. \n",
            "Epoch: 6/10..  Train Loss: 0.6913..  Val Loss: 0.6681..  Train Acc: 0.7566..  Val Acc: 0.7674.. \n",
            "Epoch: 7/10..  Train Loss: 0.6784..  Val Loss: 0.6529..  Train Acc: 0.7626..  Val Acc: 0.7743.. \n",
            "Epoch: 8/10..  Train Loss: 0.6649..  Val Loss: 0.6395..  Train Acc: 0.7687..  Val Acc: 0.7794.. \n",
            "Epoch: 9/10..  Train Loss: 0.6519..  Val Loss: 0.6271..  Train Acc: 0.7743..  Val Acc: 0.7838.. \n",
            "Epoch: 10/10..  Train Loss: 0.6404..  Val Loss: 0.6157..  Train Acc: 0.7796..  Val Acc: 0.7896.. \n"
          ],
          "name": "stdout"
        },
        {
          "output_type": "display_data",
          "data": {
            "image/png": "[encoded data removed]",
            "text/plain": [
              "<Figure size 864x432 with 2 Axes>"
            ]
          },
          "metadata": {
            "tags": [],
            "needs_background": "light"
          }
        },
        {
          "output_type": "stream",
          "text": [
            "Acurácia de teste: 79.02%\n",
            "Acurácia de treinamento: 77.96%\n",
            "Acurácia de validação: 78.96%\n"
          ],
          "name": "stdout"
        }
      ]
    },
    {
      "cell_type": "markdown",
      "metadata": {
        "id": "Gaf3pq4JqXzi"
      },
      "source": [
        "# Análise do resultado do primeiro modelo\n",
        "\n",
        "\n",
        "\n",
        "Com base nos gráficos, podemos ver que a loss foi diminuindo e a acurácia foi aumentado conforme passos das épocas. Não apresenta overfitting ou underfitting. Poderá ser aumentada as épocas e até tentar outros experimentos com mais camadas e neurônios.\n",
        "\n",
        "Olhando para a acurácia e até mesmo para a loss no gráfico, podemos notar que a validação está um pouquinho melhor que o treino. Isso poderia acontecer caso não houvesse a desabilitação do treinamento no pytorch, mas não é o caso. Para tentar adequar os valores, tentarei diminuir o tamanho do batch (como o dataset de validação é menor e os dados estão se ajustando bem, diminuir o batch fará utilizar mais registros) ou ajustar a learning rate.\n",
        "\n",
        "\n",
        "---\n",
        "\n"
      ]
    },
    {
      "cell_type": "markdown",
      "metadata": {
        "id": "Bv_ZLHDBtQb6"
      },
      "source": [
        "Segundo modelo: Rede neural com:\n",
        "\n",
        "\n",
        "*   Camada de entrada com 128 neurônios\n",
        "*   Função de ativação ReLU\n",
        "*   Camada de saída\n",
        "\n",
        "Utilizarei 50 épocas, batch size de 64, LR de 0.05, função de otimização SGD e perda CrossEntropyLoss"
      ]
    },
    {
      "cell_type": "code",
      "metadata": {
        "colab": {
          "base_uri": "https://localhost:8080/",
          "height": 1000
        },
        "id": "eR2yi7YJTgo5",
        "outputId": "ad4def32-9c9c-4671-c017-0b99de0f5530"
      },
      "source": [
        "params2 = dict()\n",
        "params2['EPOCHS'] = 50\n",
        "params2['BATCH_SIZE'] = 64 \n",
        "params2['LEARNING_RATE'] = 0.05\n",
        "params2['CRITERION'] = nn.CrossEntropyLoss()\n",
        "params2['OPTIMIZER'] = 'SGD'\n",
        "\n",
        "model2 = nn.Sequential(\n",
        "          nn.Linear(NUM_FEATURES, 128),\n",
        "          nn.ReLU(),\n",
        "          nn.Linear(128, NUM_CLASSES)\n",
        "        )\n",
        "\n",
        "execute_model(model2, params2)"
      ],
      "execution_count": null,
      "outputs": [
        {
          "output_type": "stream",
          "text": [
            "Shape X_train (936408, 112)\n",
            "Shape y_train (936408,)\n",
            "Shape X_val (117052, 112)\n",
            "Shape y_val (117052,)\n",
            "Shape X_test (117051, 112)\n",
            "Shape y_test (117051,)\n",
            "Len DF original 1170511\n",
            "Len train + val + test 1170511\n",
            "Sequential(\n",
            "  (0): Linear(in_features=112, out_features=128, bias=True)\n",
            "  (1): ReLU()\n",
            "  (2): Linear(in_features=128, out_features=12, bias=True)\n",
            ")\n",
            "Epoch: 1/50..  Train Loss: 0.7578..  Val Loss: 0.7933..  Train Acc: 0.7341..  Val Acc: 0.7145.. \n",
            "Epoch: 2/50..  Train Loss: 0.6201..  Val Loss: 0.7599..  Train Acc: 0.7872..  Val Acc: 0.7344.. \n",
            "Epoch: 3/50..  Train Loss: 0.5674..  Val Loss: 0.6886..  Train Acc: 0.8087..  Val Acc: 0.7594.. \n",
            "Epoch: 4/50..  Train Loss: 0.5362..  Val Loss: 0.6355..  Train Acc: 0.8202..  Val Acc: 0.7771.. \n",
            "Epoch: 5/50..  Train Loss: 0.5139..  Val Loss: 0.6062..  Train Acc: 0.8274..  Val Acc: 0.7880.. \n",
            "Epoch: 6/50..  Train Loss: 0.4966..  Val Loss: 0.5670..  Train Acc: 0.8332..  Val Acc: 0.8042.. \n",
            "Epoch: 7/50..  Train Loss: 0.4833..  Val Loss: 0.5407..  Train Acc: 0.8377..  Val Acc: 0.8145.. \n",
            "Epoch: 8/50..  Train Loss: 0.4724..  Val Loss: 0.5268..  Train Acc: 0.8413..  Val Acc: 0.8194.. \n",
            "Epoch: 9/50..  Train Loss: 0.4632..  Val Loss: 0.5195..  Train Acc: 0.8442..  Val Acc: 0.8220.. \n",
            "Epoch: 10/50..  Train Loss: 0.4555..  Val Loss: 0.5150..  Train Acc: 0.8466..  Val Acc: 0.8234.. \n",
            "Epoch: 11/50..  Train Loss: 0.4488..  Val Loss: 0.5108..  Train Acc: 0.8487..  Val Acc: 0.8256.. \n",
            "Epoch: 12/50..  Train Loss: 0.4428..  Val Loss: 0.5023..  Train Acc: 0.8506..  Val Acc: 0.8281.. \n",
            "Epoch: 13/50..  Train Loss: 0.4376..  Val Loss: 0.4969..  Train Acc: 0.8522..  Val Acc: 0.8298.. \n",
            "Epoch: 14/50..  Train Loss: 0.4330..  Val Loss: 0.4888..  Train Acc: 0.8537..  Val Acc: 0.8327.. \n",
            "Epoch: 15/50..  Train Loss: 0.4288..  Val Loss: 0.4832..  Train Acc: 0.8550..  Val Acc: 0.8349.. \n",
            "Epoch: 16/50..  Train Loss: 0.4250..  Val Loss: 0.4834..  Train Acc: 0.8563..  Val Acc: 0.8351.. \n",
            "Epoch: 17/50..  Train Loss: 0.4213..  Val Loss: 0.4777..  Train Acc: 0.8576..  Val Acc: 0.8373.. \n",
            "Epoch: 18/50..  Train Loss: 0.4180..  Val Loss: 0.4796..  Train Acc: 0.8585..  Val Acc: 0.8362.. \n",
            "Epoch: 19/50..  Train Loss: 0.4149..  Val Loss: 0.4783..  Train Acc: 0.8596..  Val Acc: 0.8367.. \n",
            "Epoch: 20/50..  Train Loss: 0.4121..  Val Loss: 0.4717..  Train Acc: 0.8604..  Val Acc: 0.8386.. \n",
            "Epoch: 21/50..  Train Loss: 0.4095..  Val Loss: 0.4714..  Train Acc: 0.8613..  Val Acc: 0.8385.. \n",
            "Epoch: 22/50..  Train Loss: 0.4071..  Val Loss: 0.4688..  Train Acc: 0.8620..  Val Acc: 0.8394.. \n",
            "Epoch: 23/50..  Train Loss: 0.4048..  Val Loss: 0.4674..  Train Acc: 0.8627..  Val Acc: 0.8397.. \n",
            "Epoch: 24/50..  Train Loss: 0.4027..  Val Loss: 0.4647..  Train Acc: 0.8634..  Val Acc: 0.8404.. \n",
            "Epoch: 25/50..  Train Loss: 0.4006..  Val Loss: 0.4623..  Train Acc: 0.8640..  Val Acc: 0.8411.. \n",
            "Epoch: 26/50..  Train Loss: 0.3986..  Val Loss: 0.4599..  Train Acc: 0.8645..  Val Acc: 0.8420.. \n",
            "Epoch: 27/50..  Train Loss: 0.3967..  Val Loss: 0.4599..  Train Acc: 0.8651..  Val Acc: 0.8421.. \n",
            "Epoch: 28/50..  Train Loss: 0.3948..  Val Loss: 0.4562..  Train Acc: 0.8655..  Val Acc: 0.8430.. \n",
            "Epoch: 29/50..  Train Loss: 0.3930..  Val Loss: 0.4565..  Train Acc: 0.8661..  Val Acc: 0.8431.. \n",
            "Epoch: 30/50..  Train Loss: 0.3912..  Val Loss: 0.4653..  Train Acc: 0.8667..  Val Acc: 0.8401.. \n",
            "Epoch: 31/50..  Train Loss: 0.3894..  Val Loss: 0.4624..  Train Acc: 0.8672..  Val Acc: 0.8416.. \n",
            "Epoch: 32/50..  Train Loss: 0.3878..  Val Loss: 0.4644..  Train Acc: 0.8678..  Val Acc: 0.8403.. \n",
            "Epoch: 33/50..  Train Loss: 0.3863..  Val Loss: 0.4581..  Train Acc: 0.8682..  Val Acc: 0.8423.. \n",
            "Epoch: 34/50..  Train Loss: 0.3847..  Val Loss: 0.4540..  Train Acc: 0.8687..  Val Acc: 0.8436.. \n",
            "Epoch: 35/50..  Train Loss: 0.3833..  Val Loss: 0.4533..  Train Acc: 0.8690..  Val Acc: 0.8437.. \n",
            "Epoch: 36/50..  Train Loss: 0.3820..  Val Loss: 0.4513..  Train Acc: 0.8694..  Val Acc: 0.8443.. \n",
            "Epoch: 37/50..  Train Loss: 0.3807..  Val Loss: 0.4444..  Train Acc: 0.8698..  Val Acc: 0.8465.. \n",
            "Epoch: 38/50..  Train Loss: 0.3794..  Val Loss: 0.4449..  Train Acc: 0.8701..  Val Acc: 0.8460.. \n",
            "Epoch: 39/50..  Train Loss: 0.3782..  Val Loss: 0.4409..  Train Acc: 0.8704..  Val Acc: 0.8472.. \n",
            "Epoch: 40/50..  Train Loss: 0.3770..  Val Loss: 0.4380..  Train Acc: 0.8708..  Val Acc: 0.8484.. \n",
            "Epoch: 41/50..  Train Loss: 0.3759..  Val Loss: 0.4370..  Train Acc: 0.8711..  Val Acc: 0.8490.. \n",
            "Epoch: 42/50..  Train Loss: 0.3748..  Val Loss: 0.4378..  Train Acc: 0.8714..  Val Acc: 0.8489.. \n",
            "Epoch: 43/50..  Train Loss: 0.3737..  Val Loss: 0.4353..  Train Acc: 0.8717..  Val Acc: 0.8491.. \n",
            "Epoch: 44/50..  Train Loss: 0.3725..  Val Loss: 0.4328..  Train Acc: 0.8721..  Val Acc: 0.8504.. \n",
            "Epoch: 45/50..  Train Loss: 0.3714..  Val Loss: 0.4340..  Train Acc: 0.8722..  Val Acc: 0.8502.. \n",
            "Epoch: 46/50..  Train Loss: 0.3704..  Val Loss: 0.4298..  Train Acc: 0.8726..  Val Acc: 0.8515.. \n",
            "Epoch: 47/50..  Train Loss: 0.3694..  Val Loss: 0.4286..  Train Acc: 0.8729..  Val Acc: 0.8517.. \n",
            "Epoch: 48/50..  Train Loss: 0.3684..  Val Loss: 0.4252..  Train Acc: 0.8733..  Val Acc: 0.8527.. \n",
            "Epoch: 49/50..  Train Loss: 0.3674..  Val Loss: 0.4257..  Train Acc: 0.8735..  Val Acc: 0.8525.. \n",
            "Epoch: 50/50..  Train Loss: 0.3665..  Val Loss: 0.4249..  Train Acc: 0.8737..  Val Acc: 0.8530.. \n"
          ],
          "name": "stdout"
        },
        {
          "output_type": "display_data",
          "data": {
            "image/png": "[encoded data removed]",
            "text/plain": [
              "<Figure size 864x432 with 2 Axes>"
            ]
          },
          "metadata": {
            "tags": [],
            "needs_background": "light"
          }
        },
        {
          "output_type": "stream",
          "text": [
            "Acurácia de teste: 85.35%\n",
            "Acurácia de treinamento: 87.37%\n",
            "Acurácia de validação: 85.30%\n"
          ],
          "name": "stdout"
        }
      ]
    },
    {
      "cell_type": "markdown",
      "metadata": {
        "id": "udiiOlkJ5btP"
      },
      "source": [
        "# Análise do resultado do segundo modelo\n",
        "\n",
        "\n",
        "Com a diminuição do BATCH SIZE, os resultados se apresentaram melhores distribuídamente. A acurácia no treino, teste e validação foram altas, com apenas 2% de variação para baixo do treino para teste/validação. No próximo experimento, irei experimentar utilizar outra função de ativação.\n",
        "\n",
        "\n",
        "---\n",
        "\n"
      ]
    },
    {
      "cell_type": "markdown",
      "metadata": {
        "id": "5oJgv-GK6k_-"
      },
      "source": [
        "Terceiro modelo: Rede neural com:\n",
        "\n",
        "\n",
        "*   Camada de entrada com 128 neurônios\n",
        "*   Função de ativação Tanh\n",
        "*   Camada de saída\n",
        "\n",
        "Utilizarei 50 épocas, batch size de 64, LR de 0.05, função de otimização SGD e perda CrossEntropyLoss"
      ]
    },
    {
      "cell_type": "code",
      "metadata": {
        "colab": {
          "base_uri": "https://localhost:8080/",
          "height": 1000
        },
        "id": "fHYX_ShnEBwb",
        "outputId": "68e558a1-496e-46a0-fea7-ac7f0041f7fe"
      },
      "source": [
        "params3 = dict()\n",
        "params3['EPOCHS'] = 50\n",
        "params3['BATCH_SIZE'] = 64 \n",
        "params3['LEARNING_RATE'] = 0.05\n",
        "params3['CRITERION'] = nn.CrossEntropyLoss()\n",
        "params3['OPTIMIZER'] = 'SGD'\n",
        "\n",
        "model3 = nn.Sequential(\n",
        "          nn.Linear(NUM_FEATURES, 128),\n",
        "          nn.Tanh(),\n",
        "          nn.Linear(128, NUM_CLASSES)\n",
        "        )\n",
        "\n",
        "execute_model(model3, params3)"
      ],
      "execution_count": null,
      "outputs": [
        {
          "output_type": "stream",
          "text": [
            "Shape X_train (936408, 112)\n",
            "Shape y_train (936408,)\n",
            "Shape X_val (117052, 112)\n",
            "Shape y_val (117052,)\n",
            "Shape X_test (117051, 112)\n",
            "Shape y_test (117051,)\n",
            "Len DF original 1170511\n",
            "Len train + val + test 1170511\n",
            "Sequential(\n",
            "  (0): Linear(in_features=112, out_features=128, bias=True)\n",
            "  (1): Tanh()\n",
            "  (2): Linear(in_features=128, out_features=12, bias=True)\n",
            ")\n",
            "Epoch: 1/50..  Train Loss: 0.7731..  Val Loss: 0.8043..  Train Acc: 0.7254..  Val Acc: 0.7070.. \n",
            "Epoch: 2/50..  Train Loss: 0.6641..  Val Loss: 0.7534..  Train Acc: 0.7669..  Val Acc: 0.7359.. \n",
            "Epoch: 3/50..  Train Loss: 0.6176..  Val Loss: 0.7174..  Train Acc: 0.7880..  Val Acc: 0.7521.. \n",
            "Epoch: 4/50..  Train Loss: 0.5830..  Val Loss: 0.6743..  Train Acc: 0.8031..  Val Acc: 0.7666.. \n",
            "Epoch: 5/50..  Train Loss: 0.5565..  Val Loss: 0.6348..  Train Acc: 0.8132..  Val Acc: 0.7805.. \n",
            "Epoch: 6/50..  Train Loss: 0.5358..  Val Loss: 0.6085..  Train Acc: 0.8206..  Val Acc: 0.7909.. \n",
            "Epoch: 7/50..  Train Loss: 0.5192..  Val Loss: 0.5894..  Train Acc: 0.8262..  Val Acc: 0.7991.. \n",
            "Epoch: 8/50..  Train Loss: 0.5053..  Val Loss: 0.5725..  Train Acc: 0.8308..  Val Acc: 0.8051.. \n",
            "Epoch: 9/50..  Train Loss: 0.4934..  Val Loss: 0.5560..  Train Acc: 0.8351..  Val Acc: 0.8109.. \n",
            "Epoch: 10/50..  Train Loss: 0.4831..  Val Loss: 0.5420..  Train Acc: 0.8387..  Val Acc: 0.8151.. \n",
            "Epoch: 11/50..  Train Loss: 0.4742..  Val Loss: 0.5313..  Train Acc: 0.8420..  Val Acc: 0.8187.. \n",
            "Epoch: 12/50..  Train Loss: 0.4664..  Val Loss: 0.5235..  Train Acc: 0.8445..  Val Acc: 0.8216.. \n",
            "Epoch: 13/50..  Train Loss: 0.4596..  Val Loss: 0.5175..  Train Acc: 0.8466..  Val Acc: 0.8233.. \n",
            "Epoch: 14/50..  Train Loss: 0.4536..  Val Loss: 0.5125..  Train Acc: 0.8484..  Val Acc: 0.8250.. \n",
            "Epoch: 15/50..  Train Loss: 0.4483..  Val Loss: 0.5082..  Train Acc: 0.8500..  Val Acc: 0.8263.. \n",
            "Epoch: 16/50..  Train Loss: 0.4434..  Val Loss: 0.5041..  Train Acc: 0.8512..  Val Acc: 0.8275.. \n",
            "Epoch: 17/50..  Train Loss: 0.4390..  Val Loss: 0.4998..  Train Acc: 0.8525..  Val Acc: 0.8288.. \n",
            "Epoch: 18/50..  Train Loss: 0.4350..  Val Loss: 0.4954..  Train Acc: 0.8537..  Val Acc: 0.8302.. \n",
            "Epoch: 19/50..  Train Loss: 0.4312..  Val Loss: 0.4907..  Train Acc: 0.8547..  Val Acc: 0.8316.. \n",
            "Epoch: 20/50..  Train Loss: 0.4276..  Val Loss: 0.4864..  Train Acc: 0.8558..  Val Acc: 0.8328.. \n",
            "Epoch: 21/50..  Train Loss: 0.4242..  Val Loss: 0.4826..  Train Acc: 0.8567..  Val Acc: 0.8339.. \n",
            "Epoch: 22/50..  Train Loss: 0.4210..  Val Loss: 0.4793..  Train Acc: 0.8576..  Val Acc: 0.8348.. \n",
            "Epoch: 23/50..  Train Loss: 0.4179..  Val Loss: 0.4765..  Train Acc: 0.8585..  Val Acc: 0.8355.. \n",
            "Epoch: 24/50..  Train Loss: 0.4150..  Val Loss: 0.4739..  Train Acc: 0.8594..  Val Acc: 0.8366.. \n",
            "Epoch: 25/50..  Train Loss: 0.4121..  Val Loss: 0.4716..  Train Acc: 0.8604..  Val Acc: 0.8376.. \n",
            "Epoch: 26/50..  Train Loss: 0.4094..  Val Loss: 0.4694..  Train Acc: 0.8612..  Val Acc: 0.8382.. \n",
            "Epoch: 27/50..  Train Loss: 0.4068..  Val Loss: 0.4674..  Train Acc: 0.8619..  Val Acc: 0.8387.. \n",
            "Epoch: 28/50..  Train Loss: 0.4043..  Val Loss: 0.4654..  Train Acc: 0.8627..  Val Acc: 0.8393.. \n",
            "Epoch: 29/50..  Train Loss: 0.4019..  Val Loss: 0.4634..  Train Acc: 0.8634..  Val Acc: 0.8399.. \n",
            "Epoch: 30/50..  Train Loss: 0.3996..  Val Loss: 0.4614..  Train Acc: 0.8641..  Val Acc: 0.8404.. \n",
            "Epoch: 31/50..  Train Loss: 0.3974..  Val Loss: 0.4594..  Train Acc: 0.8648..  Val Acc: 0.8409.. \n",
            "Epoch: 32/50..  Train Loss: 0.3953..  Val Loss: 0.4575..  Train Acc: 0.8655..  Val Acc: 0.8414.. \n",
            "Epoch: 33/50..  Train Loss: 0.3932..  Val Loss: 0.4555..  Train Acc: 0.8661..  Val Acc: 0.8419.. \n",
            "Epoch: 34/50..  Train Loss: 0.3913..  Val Loss: 0.4536..  Train Acc: 0.8666..  Val Acc: 0.8426.. \n",
            "Epoch: 35/50..  Train Loss: 0.3893..  Val Loss: 0.4517..  Train Acc: 0.8672..  Val Acc: 0.8432.. \n",
            "Epoch: 36/50..  Train Loss: 0.3875..  Val Loss: 0.4498..  Train Acc: 0.8678..  Val Acc: 0.8439.. \n",
            "Epoch: 37/50..  Train Loss: 0.3857..  Val Loss: 0.4479..  Train Acc: 0.8684..  Val Acc: 0.8445.. \n",
            "Epoch: 38/50..  Train Loss: 0.3840..  Val Loss: 0.4460..  Train Acc: 0.8689..  Val Acc: 0.8453.. \n",
            "Epoch: 39/50..  Train Loss: 0.3823..  Val Loss: 0.4442..  Train Acc: 0.8694..  Val Acc: 0.8460.. \n",
            "Epoch: 40/50..  Train Loss: 0.3807..  Val Loss: 0.4424..  Train Acc: 0.8699..  Val Acc: 0.8466.. \n",
            "Epoch: 41/50..  Train Loss: 0.3791..  Val Loss: 0.4406..  Train Acc: 0.8703..  Val Acc: 0.8472.. \n",
            "Epoch: 42/50..  Train Loss: 0.3776..  Val Loss: 0.4388..  Train Acc: 0.8707..  Val Acc: 0.8478.. \n",
            "Epoch: 43/50..  Train Loss: 0.3761..  Val Loss: 0.4371..  Train Acc: 0.8712..  Val Acc: 0.8483.. \n",
            "Epoch: 44/50..  Train Loss: 0.3746..  Val Loss: 0.4353..  Train Acc: 0.8716..  Val Acc: 0.8489.. \n",
            "Epoch: 45/50..  Train Loss: 0.3732..  Val Loss: 0.4335..  Train Acc: 0.8720..  Val Acc: 0.8496.. \n",
            "Epoch: 46/50..  Train Loss: 0.3718..  Val Loss: 0.4318..  Train Acc: 0.8724..  Val Acc: 0.8502.. \n",
            "Epoch: 47/50..  Train Loss: 0.3705..  Val Loss: 0.4301..  Train Acc: 0.8728..  Val Acc: 0.8509.. \n",
            "Epoch: 48/50..  Train Loss: 0.3692..  Val Loss: 0.4284..  Train Acc: 0.8732..  Val Acc: 0.8515.. \n",
            "Epoch: 49/50..  Train Loss: 0.3680..  Val Loss: 0.4267..  Train Acc: 0.8736..  Val Acc: 0.8522.. \n",
            "Epoch: 50/50..  Train Loss: 0.3667..  Val Loss: 0.4250..  Train Acc: 0.8740..  Val Acc: 0.8529.. \n"
          ],
          "name": "stdout"
        },
        {
          "output_type": "display_data",
          "data": {
            "image/png": "[encoded data removed]",
            "text/plain": [
              "<Figure size 864x432 with 2 Axes>"
            ]
          },
          "metadata": {
            "tags": [],
            "needs_background": "light"
          }
        },
        {
          "output_type": "stream",
          "text": [
            "Acurácia de teste: 85.36%\n",
            "Acurácia de treinamento: 87.40%\n",
            "Acurácia de validação: 85.29%\n"
          ],
          "name": "stdout"
        }
      ]
    },
    {
      "cell_type": "markdown",
      "metadata": {
        "id": "kycdOXDOwIDK"
      },
      "source": [
        "# Análise do resultado do terceiro modelo\n",
        "\n",
        "A acurácia no treino, teste e validação foram altas, com apenas 2% de variação para baixo do treino para teste/validação. Não há overfitting ou underfitting. \n",
        "O resultado ficou bem semelhante ao modelo anterior, porém, com menos ruído entre treino e validação.\n",
        "Avaliando as épocas, as mesmas poderiam ser aumentadas, aumentado os neurônios e adicionadar uma camada escondida.\n",
        "\n",
        "---"
      ]
    },
    {
      "cell_type": "markdown",
      "metadata": {
        "id": "HCryD2f4wIDK"
      },
      "source": [
        "Quarto modelo: Rede neural com:\n",
        "\n",
        "\n",
        "*   Camada de entrada com 512 neurônios\n",
        "*   Função de ativação Tanh\n",
        "*   Camada de escondida com 256 neurônios\n",
        "*   Função de ativação Tanh\n",
        "*   Camada de saída\n",
        "\n",
        "Utilizarei 100 épocas, batch size de 64, LR de 0.05, função de otimização SGD e perda CrossEntropyLoss"
      ]
    },
    {
      "cell_type": "code",
      "metadata": {
        "colab": {
          "base_uri": "https://localhost:8080/"
        },
        "id": "8MnLr0M68edq",
        "outputId": "50fd2935-e924-4e1e-a7d7-af0b80038dbf"
      },
      "source": [
        "params4 = dict()\n",
        "params4['EPOCHS'] = 100\n",
        "params4['BATCH_SIZE'] = 64\n",
        "params4['LEARNING_RATE'] = 0.05\n",
        "params4['CRITERION'] = nn.CrossEntropyLoss()\n",
        "params4['OPTIMIZER'] = 'SGD'\n",
        "\n",
        "model4 = nn.Sequential(\n",
        "          nn.Linear(NUM_FEATURES, 512),\n",
        "          nn.Tanh(),\n",
        "          nn.Linear(512, 256),\n",
        "          nn.Tanh(),\n",
        "          nn.Linear(256, NUM_CLASSES)\n",
        "        )\n",
        "\n",
        "execute_model(model4, params4)"
      ],
      "execution_count": null,
      "outputs": [
        {
          "output_type": "stream",
          "text": [
            "Shape X_train (936408, 112)\n",
            "Shape y_train (936408,)\n",
            "Shape X_val (117052, 112)\n",
            "Shape y_val (117052,)\n",
            "Shape X_test (117051, 112)\n",
            "Shape y_test (117051,)\n",
            "Len DF original 1170511\n",
            "Len train + val + test 1170511\n",
            "Sequential(\n",
            "  (0): Linear(in_features=112, out_features=512, bias=True)\n",
            "  (1): Tanh()\n",
            "  (2): Linear(in_features=512, out_features=256, bias=True)\n",
            "  (3): Tanh()\n",
            "  (4): Linear(in_features=256, out_features=12, bias=True)\n",
            ")\n",
            "Epoch: 1/100..  Train Loss: 0.7547..  Val Loss: 0.8289..  Train Acc: 0.7299..  Val Acc: 0.7054.. \n",
            "Epoch: 2/100..  Train Loss: 0.6272..  Val Loss: 0.7265..  Train Acc: 0.7814..  Val Acc: 0.7458.. \n",
            "Epoch: 3/100..  Train Loss: 0.5476..  Val Loss: 0.5883..  Train Acc: 0.8139..  Val Acc: 0.7944.. \n",
            "Epoch: 4/100..  Train Loss: 0.4980..  Val Loss: 0.5273..  Train Acc: 0.8331..  Val Acc: 0.8172.. \n",
            "Epoch: 5/100..  Train Loss: 0.4654..  Val Loss: 0.5186..  Train Acc: 0.8438..  Val Acc: 0.8209.. \n",
            "Epoch: 6/100..  Train Loss: 0.4426..  Val Loss: 0.5082..  Train Acc: 0.8508..  Val Acc: 0.8239.. \n",
            "Epoch: 7/100..  Train Loss: 0.4256..  Val Loss: 0.4974..  Train Acc: 0.8558..  Val Acc: 0.8277.. \n",
            "Epoch: 8/100..  Train Loss: 0.4120..  Val Loss: 0.4928..  Train Acc: 0.8600..  Val Acc: 0.8290.. \n",
            "Epoch: 9/100..  Train Loss: 0.4003..  Val Loss: 0.4886..  Train Acc: 0.8635..  Val Acc: 0.8311.. \n",
            "Epoch: 10/100..  Train Loss: 0.3901..  Val Loss: 0.4826..  Train Acc: 0.8666..  Val Acc: 0.8331.. \n",
            "Epoch: 11/100..  Train Loss: 0.3811..  Val Loss: 0.4770..  Train Acc: 0.8693..  Val Acc: 0.8353.. \n",
            "Epoch: 12/100..  Train Loss: 0.3733..  Val Loss: 0.4684..  Train Acc: 0.8717..  Val Acc: 0.8386.. \n",
            "Epoch: 13/100..  Train Loss: 0.3664..  Val Loss: 0.4550..  Train Acc: 0.8739..  Val Acc: 0.8425.. \n",
            "Epoch: 14/100..  Train Loss: 0.3604..  Val Loss: 0.4411..  Train Acc: 0.8755..  Val Acc: 0.8470.. \n",
            "Epoch: 15/100..  Train Loss: 0.3550..  Val Loss: 0.4303..  Train Acc: 0.8770..  Val Acc: 0.8506.. \n",
            "Epoch: 16/100..  Train Loss: 0.3501..  Val Loss: 0.4233..  Train Acc: 0.8784..  Val Acc: 0.8530.. \n",
            "Epoch: 17/100..  Train Loss: 0.3457..  Val Loss: 0.4180..  Train Acc: 0.8796..  Val Acc: 0.8549.. \n",
            "Epoch: 18/100..  Train Loss: 0.3417..  Val Loss: 0.4132..  Train Acc: 0.8808..  Val Acc: 0.8565.. \n",
            "Epoch: 19/100..  Train Loss: 0.3379..  Val Loss: 0.4089..  Train Acc: 0.8818..  Val Acc: 0.8581.. \n",
            "Epoch: 20/100..  Train Loss: 0.3345..  Val Loss: 0.4050..  Train Acc: 0.8829..  Val Acc: 0.8598.. \n",
            "Epoch: 21/100..  Train Loss: 0.3312..  Val Loss: 0.4011..  Train Acc: 0.8838..  Val Acc: 0.8611.. \n",
            "Epoch: 22/100..  Train Loss: 0.3281..  Val Loss: 0.3972..  Train Acc: 0.8847..  Val Acc: 0.8622.. \n",
            "Epoch: 23/100..  Train Loss: 0.3252..  Val Loss: 0.3934..  Train Acc: 0.8854..  Val Acc: 0.8636.. \n",
            "Epoch: 24/100..  Train Loss: 0.3225..  Val Loss: 0.3898..  Train Acc: 0.8862..  Val Acc: 0.8648.. \n",
            "Epoch: 25/100..  Train Loss: 0.3199..  Val Loss: 0.3865..  Train Acc: 0.8869..  Val Acc: 0.8660.. \n",
            "Epoch: 26/100..  Train Loss: 0.3175..  Val Loss: 0.3833..  Train Acc: 0.8877..  Val Acc: 0.8669.. \n",
            "Epoch: 27/100..  Train Loss: 0.3152..  Val Loss: 0.3798..  Train Acc: 0.8883..  Val Acc: 0.8682.. \n",
            "Epoch: 28/100..  Train Loss: 0.3130..  Val Loss: 0.3760..  Train Acc: 0.8889..  Val Acc: 0.8694.. \n",
            "Epoch: 29/100..  Train Loss: 0.3109..  Val Loss: 0.3722..  Train Acc: 0.8895..  Val Acc: 0.8708.. \n",
            "Epoch: 30/100..  Train Loss: 0.3089..  Val Loss: 0.3687..  Train Acc: 0.8900..  Val Acc: 0.8721.. \n",
            "Epoch: 31/100..  Train Loss: 0.3070..  Val Loss: 0.3659..  Train Acc: 0.8907..  Val Acc: 0.8728.. \n",
            "Epoch: 32/100..  Train Loss: 0.3052..  Val Loss: 0.3631..  Train Acc: 0.8912..  Val Acc: 0.8738.. \n",
            "Epoch: 33/100..  Train Loss: 0.3035..  Val Loss: 0.3602..  Train Acc: 0.8917..  Val Acc: 0.8749.. \n",
            "Epoch: 34/100..  Train Loss: 0.3018..  Val Loss: 0.3570..  Train Acc: 0.8922..  Val Acc: 0.8760.. \n",
            "Epoch: 35/100..  Train Loss: 0.3002..  Val Loss: 0.3535..  Train Acc: 0.8926..  Val Acc: 0.8773.. \n",
            "Epoch: 36/100..  Train Loss: 0.2987..  Val Loss: 0.3497..  Train Acc: 0.8930..  Val Acc: 0.8786.. \n",
            "Epoch: 37/100..  Train Loss: 0.2972..  Val Loss: 0.3457..  Train Acc: 0.8935..  Val Acc: 0.8795.. \n",
            "Epoch: 38/100..  Train Loss: 0.2958..  Val Loss: 0.3419..  Train Acc: 0.8940..  Val Acc: 0.8808.. \n",
            "Epoch: 39/100..  Train Loss: 0.2944..  Val Loss: 0.3382..  Train Acc: 0.8944..  Val Acc: 0.8818.. \n",
            "Epoch: 40/100..  Train Loss: 0.2931..  Val Loss: 0.3349..  Train Acc: 0.8948..  Val Acc: 0.8828.. \n",
            "Epoch: 41/100..  Train Loss: 0.2918..  Val Loss: 0.3320..  Train Acc: 0.8951..  Val Acc: 0.8835.. \n",
            "Epoch: 42/100..  Train Loss: 0.2905..  Val Loss: 0.3293..  Train Acc: 0.8954..  Val Acc: 0.8845.. \n",
            "Epoch: 43/100..  Train Loss: 0.2893..  Val Loss: 0.3270..  Train Acc: 0.8958..  Val Acc: 0.8854.. \n",
            "Epoch: 44/100..  Train Loss: 0.2882..  Val Loss: 0.3249..  Train Acc: 0.8962..  Val Acc: 0.8860.. \n",
            "Epoch: 45/100..  Train Loss: 0.2870..  Val Loss: 0.3230..  Train Acc: 0.8966..  Val Acc: 0.8865.. \n",
            "Epoch: 46/100..  Train Loss: 0.2859..  Val Loss: 0.3213..  Train Acc: 0.8969..  Val Acc: 0.8871.. \n",
            "Epoch: 47/100..  Train Loss: 0.2849..  Val Loss: 0.3197..  Train Acc: 0.8972..  Val Acc: 0.8877.. \n",
            "Epoch: 48/100..  Train Loss: 0.2838..  Val Loss: 0.3182..  Train Acc: 0.8975..  Val Acc: 0.8883.. \n",
            "Epoch: 49/100..  Train Loss: 0.2828..  Val Loss: 0.3168..  Train Acc: 0.8978..  Val Acc: 0.8887.. \n",
            "Epoch: 50/100..  Train Loss: 0.2819..  Val Loss: 0.3156..  Train Acc: 0.8981..  Val Acc: 0.8890.. \n",
            "Epoch: 51/100..  Train Loss: 0.2809..  Val Loss: 0.3145..  Train Acc: 0.8984..  Val Acc: 0.8894.. \n",
            "Epoch: 52/100..  Train Loss: 0.2800..  Val Loss: 0.3135..  Train Acc: 0.8987..  Val Acc: 0.8898.. \n",
            "Epoch: 53/100..  Train Loss: 0.2791..  Val Loss: 0.3125..  Train Acc: 0.8989..  Val Acc: 0.8901.. \n",
            "Epoch: 54/100..  Train Loss: 0.2782..  Val Loss: 0.3116..  Train Acc: 0.8992..  Val Acc: 0.8905.. \n",
            "Epoch: 55/100..  Train Loss: 0.2773..  Val Loss: 0.3108..  Train Acc: 0.8995..  Val Acc: 0.8908.. \n",
            "Epoch: 56/100..  Train Loss: 0.2764..  Val Loss: 0.3100..  Train Acc: 0.8997..  Val Acc: 0.8910.. \n",
            "Epoch: 57/100..  Train Loss: 0.2756..  Val Loss: 0.3093..  Train Acc: 0.8999..  Val Acc: 0.8912.. \n",
            "Epoch: 58/100..  Train Loss: 0.2748..  Val Loss: 0.3085..  Train Acc: 0.9002..  Val Acc: 0.8915.. \n",
            "Epoch: 59/100..  Train Loss: 0.2740..  Val Loss: 0.3077..  Train Acc: 0.9005..  Val Acc: 0.8918.. \n",
            "Epoch: 60/100..  Train Loss: 0.2732..  Val Loss: 0.3068..  Train Acc: 0.9007..  Val Acc: 0.8922.. \n",
            "Epoch: 61/100..  Train Loss: 0.2724..  Val Loss: 0.3059..  Train Acc: 0.9009..  Val Acc: 0.8925.. \n",
            "Epoch: 62/100..  Train Loss: 0.2717..  Val Loss: 0.3049..  Train Acc: 0.9012..  Val Acc: 0.8930.. \n",
            "Epoch: 63/100..  Train Loss: 0.2709..  Val Loss: 0.3038..  Train Acc: 0.9014..  Val Acc: 0.8934.. \n",
            "Epoch: 64/100..  Train Loss: 0.2702..  Val Loss: 0.3026..  Train Acc: 0.9017..  Val Acc: 0.8939.. \n",
            "Epoch: 65/100..  Train Loss: 0.2695..  Val Loss: 0.3014..  Train Acc: 0.9018..  Val Acc: 0.8943.. \n",
            "Epoch: 66/100..  Train Loss: 0.2688..  Val Loss: 0.3001..  Train Acc: 0.9021..  Val Acc: 0.8944.. \n",
            "Epoch: 67/100..  Train Loss: 0.2681..  Val Loss: 0.2988..  Train Acc: 0.9023..  Val Acc: 0.8949.. \n",
            "Epoch: 68/100..  Train Loss: 0.2674..  Val Loss: 0.2975..  Train Acc: 0.9026..  Val Acc: 0.8953.. \n",
            "Epoch: 69/100..  Train Loss: 0.2667..  Val Loss: 0.2961..  Train Acc: 0.9028..  Val Acc: 0.8957.. \n",
            "Epoch: 70/100..  Train Loss: 0.2661..  Val Loss: 0.2947..  Train Acc: 0.9029..  Val Acc: 0.8960.. \n",
            "Epoch: 71/100..  Train Loss: 0.2654..  Val Loss: 0.2933..  Train Acc: 0.9031..  Val Acc: 0.8965.. \n",
            "Epoch: 72/100..  Train Loss: 0.2648..  Val Loss: 0.2919..  Train Acc: 0.9033..  Val Acc: 0.8969.. \n",
            "Epoch: 73/100..  Train Loss: 0.2641..  Val Loss: 0.2905..  Train Acc: 0.9035..  Val Acc: 0.8973.. \n",
            "Epoch: 74/100..  Train Loss: 0.2635..  Val Loss: 0.2892..  Train Acc: 0.9036..  Val Acc: 0.8977.. \n",
            "Epoch: 75/100..  Train Loss: 0.2629..  Val Loss: 0.2879..  Train Acc: 0.9038..  Val Acc: 0.8983.. \n",
            "Epoch: 76/100..  Train Loss: 0.2623..  Val Loss: 0.2867..  Train Acc: 0.9040..  Val Acc: 0.8988.. \n",
            "Epoch: 77/100..  Train Loss: 0.2617..  Val Loss: 0.2855..  Train Acc: 0.9042..  Val Acc: 0.8991.. \n",
            "Epoch: 78/100..  Train Loss: 0.2611..  Val Loss: 0.2844..  Train Acc: 0.9044..  Val Acc: 0.8994.. \n",
            "Epoch: 79/100..  Train Loss: 0.2606..  Val Loss: 0.2834..  Train Acc: 0.9046..  Val Acc: 0.8997.. \n",
            "Epoch: 80/100..  Train Loss: 0.2600..  Val Loss: 0.2823..  Train Acc: 0.9048..  Val Acc: 0.9001.. \n",
            "Epoch: 81/100..  Train Loss: 0.2595..  Val Loss: 0.2812..  Train Acc: 0.9050..  Val Acc: 0.9003.. \n",
            "Epoch: 82/100..  Train Loss: 0.2589..  Val Loss: 0.2802..  Train Acc: 0.9051..  Val Acc: 0.9004.. \n",
            "Epoch: 83/100..  Train Loss: 0.2584..  Val Loss: 0.2791..  Train Acc: 0.9053..  Val Acc: 0.9007.. \n",
            "Epoch: 84/100..  Train Loss: 0.2578..  Val Loss: 0.2780..  Train Acc: 0.9055..  Val Acc: 0.9009.. \n",
            "Epoch: 85/100..  Train Loss: 0.2573..  Val Loss: 0.2769..  Train Acc: 0.9056..  Val Acc: 0.9013.. \n",
            "Epoch: 86/100..  Train Loss: 0.2568..  Val Loss: 0.2759..  Train Acc: 0.9058..  Val Acc: 0.9016.. \n",
            "Epoch: 87/100..  Train Loss: 0.2563..  Val Loss: 0.2749..  Train Acc: 0.9059..  Val Acc: 0.9019.. \n",
            "Epoch: 88/100..  Train Loss: 0.2558..  Val Loss: 0.2740..  Train Acc: 0.9061..  Val Acc: 0.9021.. \n",
            "Epoch: 89/100..  Train Loss: 0.2553..  Val Loss: 0.2732..  Train Acc: 0.9062..  Val Acc: 0.9024.. \n",
            "Epoch: 90/100..  Train Loss: 0.2548..  Val Loss: 0.2724..  Train Acc: 0.9064..  Val Acc: 0.9026.. \n",
            "Epoch: 91/100..  Train Loss: 0.2543..  Val Loss: 0.2717..  Train Acc: 0.9065..  Val Acc: 0.9028.. \n",
            "Epoch: 92/100..  Train Loss: 0.2538..  Val Loss: 0.2711..  Train Acc: 0.9067..  Val Acc: 0.9031.. \n",
            "Epoch: 93/100..  Train Loss: 0.2534..  Val Loss: 0.2705..  Train Acc: 0.9069..  Val Acc: 0.9032.. \n",
            "Epoch: 94/100..  Train Loss: 0.2529..  Val Loss: 0.2699..  Train Acc: 0.9070..  Val Acc: 0.9035.. \n",
            "Epoch: 95/100..  Train Loss: 0.2524..  Val Loss: 0.2694..  Train Acc: 0.9072..  Val Acc: 0.9037.. \n",
            "Epoch: 96/100..  Train Loss: 0.2520..  Val Loss: 0.2689..  Train Acc: 0.9073..  Val Acc: 0.9038.. \n",
            "Epoch: 97/100..  Train Loss: 0.2515..  Val Loss: 0.2684..  Train Acc: 0.9075..  Val Acc: 0.9039.. \n",
            "Epoch: 98/100..  Train Loss: 0.2511..  Val Loss: 0.2680..  Train Acc: 0.9076..  Val Acc: 0.9042.. \n",
            "Epoch: 99/100..  Train Loss: 0.2507..  Val Loss: 0.2676..  Train Acc: 0.9078..  Val Acc: 0.9041.. \n",
            "Epoch: 100/100..  Train Loss: 0.2502..  Val Loss: 0.2673..  Train Acc: 0.9079..  Val Acc: 0.9042.. \n"
          ],
          "name": "stdout"
        },
        {
          "output_type": "display_data",
          "data": {
            "image/png": "[encoded data removed]",
            "text/plain": [
              "<Figure size 864x432 with 2 Axes>"
            ]
          },
          "metadata": {
            "tags": [],
            "needs_background": "light"
          }
        },
        {
          "output_type": "stream",
          "text": [
            "Acurácia de teste: 90.36%\n",
            "Acurácia de treinamento: 90.79%\n",
            "Acurácia de validação: 90.42%\n"
          ],
          "name": "stdout"
        }
      ]
    },
    {
      "cell_type": "markdown",
      "metadata": {
        "id": "NdJlaP_kwIDL"
      },
      "source": [
        "# Análise do resultado do quarto modelo\n",
        "\n",
        "A acurácia no treino, teste e validação foram as maiores entre os experimentos, com uma pequena variação para baixo do treino para teste/validação.\n",
        "Notou-se nos gráficos que com o aumento das épocas, os dados foram melhor se ajustando ao modelo.\n",
        "\n",
        "Não há overfitting ou underfitting. Modelo se apresenta bem no treino e também com baixa variação entre validação e teste.\n",
        "Como o modelo se adaptou bem aos dados, utilizarei ele para realizar as predições do dataset hidden.\n",
        "Notou-se que ainda poderia ser aumentada as épocas para incremento da acurácia, porém, para fins de entrega do trabalho, irei utilizar a arquitetura desse quarto modelo.\n",
        "\n",
        "---"
      ]
    },
    {
      "cell_type": "markdown",
      "metadata": {
        "id": "oHK_j5wVWfOJ"
      },
      "source": [
        "Salva o modelo 4"
      ]
    },
    {
      "cell_type": "code",
      "metadata": {
        "id": "-PRrl82BWcwa",
        "outputId": "f658cd40-bbea-4151-d991-5bc25a48c8b7"
      },
      "source": [
        "#Salva modelo\n",
        "torch.save(model4.state_dict(), 'checkpoint.pth')\n",
        "print(\"Model:' \\n\\n\", model4, '\\n')\n",
        "print(\"The state dict keys: \\n\\n\", model4.state_dict().keys())"
      ],
      "execution_count": null,
      "outputs": [
        {
          "output_type": "stream",
          "text": [
            "Model:' \n",
            "\n",
            " Sequential(\n",
            "  (0): Linear(in_features=112, out_features=512, bias=True)\n",
            "  (1): Tanh()\n",
            "  (2): Linear(in_features=512, out_features=256, bias=True)\n",
            "  (3): Tanh()\n",
            "  (4): Linear(in_features=256, out_features=12, bias=True)\n",
            ") \n",
            "\n",
            "The state dict keys: \n",
            "\n",
            " odict_keys(['0.weight', '0.bias', '2.weight', '2.bias', '4.weight', '4.bias'])\n"
          ],
          "name": "stdout"
        }
      ]
    },
    {
      "cell_type": "markdown",
      "metadata": {
        "id": "mlpWZJrTT4iB"
      },
      "source": [
        "# **As instruções abaixo são para realizar a predição no hidden.csv e gerar o arquivo com as classificações para entrega**\n"
      ]
    },
    {
      "cell_type": "markdown",
      "metadata": {
        "id": "DHVF-4CTUCDx"
      },
      "source": [
        "Pequena avaliação no hidden.csv (dataset contendo somente as colunas preditoras)"
      ]
    },
    {
      "cell_type": "code",
      "metadata": {
        "colab": {
          "base_uri": "https://localhost:8080/"
        },
        "id": "_fcSTpKlbaCW",
        "outputId": "e89e45ec-c2ec-4b5d-a9f9-0a9c645b3371"
      },
      "source": [
        "df_hidden = pd.read_csv('dataset_hidden.csv', delimiter=';')\n",
        "print('Shape', df_hidden.shape)"
      ],
      "execution_count": null,
      "outputs": [
        {
          "output_type": "stream",
          "text": [
            "Shape (122397, 30)\n"
          ],
          "name": "stdout"
        }
      ]
    },
    {
      "cell_type": "code",
      "metadata": {
        "colab": {
          "base_uri": "https://localhost:8080/",
          "height": 224
        },
        "id": "HIhTn2rtpMtt",
        "outputId": "02b4f522-c1dc-41c6-b716-e6258cbd0cf2"
      },
      "source": [
        "df_hidden.head()"
      ],
      "execution_count": null,
      "outputs": [
        {
          "output_type": "execute_result",
          "data": {
            "text/html": [
              "<div>\n",
              "<style scoped>\n",
              "    .dataframe tbody tr th:only-of-type {\n",
              "        vertical-align: middle;\n",
              "    }\n",
              "\n",
              "    .dataframe tbody tr th {\n",
              "        vertical-align: top;\n",
              "    }\n",
              "\n",
              "    .dataframe thead th {\n",
              "        text-align: right;\n",
              "    }\n",
              "</style>\n",
              "<table border=\"1\" class=\"dataframe\">\n",
              "  <thead>\n",
              "    <tr style=\"text-align: right;\">\n",
              "      <th></th>\n",
              "      <th>DEPTH_MD</th>\n",
              "      <th>X_LOC</th>\n",
              "      <th>Y_LOC</th>\n",
              "      <th>Z_LOC</th>\n",
              "      <th>CALI</th>\n",
              "      <th>RSHA</th>\n",
              "      <th>RMED</th>\n",
              "      <th>RDEP</th>\n",
              "      <th>RHOB</th>\n",
              "      <th>GR</th>\n",
              "      <th>...</th>\n",
              "      <th>Carbon_Index</th>\n",
              "      <th>Normalized_RHOB</th>\n",
              "      <th>Normalized_GR</th>\n",
              "      <th>Delta_DTC</th>\n",
              "      <th>Delta_RHOB</th>\n",
              "      <th>Delta_GR</th>\n",
              "      <th>Delta_DEPTH_MD</th>\n",
              "      <th>Delta_Carbon_Index</th>\n",
              "      <th>GROUP_encoded</th>\n",
              "      <th>FORMATION_encoded</th>\n",
              "    </tr>\n",
              "  </thead>\n",
              "  <tbody>\n",
              "    <tr>\n",
              "      <th>0</th>\n",
              "      <td>1518.280</td>\n",
              "      <td>433906.75</td>\n",
              "      <td>6460000.5</td>\n",
              "      <td>-1493.241821</td>\n",
              "      <td>15.506232</td>\n",
              "      <td>-999.0</td>\n",
              "      <td>-999.000000</td>\n",
              "      <td>0.878615</td>\n",
              "      <td>-999.0</td>\n",
              "      <td>103.451515</td>\n",
              "      <td>...</td>\n",
              "      <td>-999.0</td>\n",
              "      <td>-999.0</td>\n",
              "      <td>0.229715</td>\n",
              "      <td>-0.000000</td>\n",
              "      <td>-999.0</td>\n",
              "      <td>-0.000000</td>\n",
              "      <td>0.000</td>\n",
              "      <td>-999.0</td>\n",
              "      <td>5</td>\n",
              "      <td>51</td>\n",
              "    </tr>\n",
              "    <tr>\n",
              "      <th>1</th>\n",
              "      <td>1518.432</td>\n",
              "      <td>433906.75</td>\n",
              "      <td>6460000.5</td>\n",
              "      <td>-1493.393799</td>\n",
              "      <td>18.524611</td>\n",
              "      <td>-999.0</td>\n",
              "      <td>-999.000000</td>\n",
              "      <td>0.874237</td>\n",
              "      <td>-999.0</td>\n",
              "      <td>94.124893</td>\n",
              "      <td>...</td>\n",
              "      <td>-999.0</td>\n",
              "      <td>-999.0</td>\n",
              "      <td>0.206369</td>\n",
              "      <td>1.616959</td>\n",
              "      <td>-999.0</td>\n",
              "      <td>9.326622</td>\n",
              "      <td>0.152</td>\n",
              "      <td>-999.0</td>\n",
              "      <td>5</td>\n",
              "      <td>51</td>\n",
              "    </tr>\n",
              "    <tr>\n",
              "      <th>2</th>\n",
              "      <td>1518.584</td>\n",
              "      <td>433906.75</td>\n",
              "      <td>6460000.5</td>\n",
              "      <td>-1493.545776</td>\n",
              "      <td>18.855669</td>\n",
              "      <td>-999.0</td>\n",
              "      <td>-999.000000</td>\n",
              "      <td>0.869858</td>\n",
              "      <td>-999.0</td>\n",
              "      <td>93.586487</td>\n",
              "      <td>...</td>\n",
              "      <td>-999.0</td>\n",
              "      <td>-999.0</td>\n",
              "      <td>0.205021</td>\n",
              "      <td>0.131363</td>\n",
              "      <td>-999.0</td>\n",
              "      <td>0.538406</td>\n",
              "      <td>0.152</td>\n",
              "      <td>-999.0</td>\n",
              "      <td>5</td>\n",
              "      <td>51</td>\n",
              "    </tr>\n",
              "    <tr>\n",
              "      <th>3</th>\n",
              "      <td>1518.736</td>\n",
              "      <td>433906.75</td>\n",
              "      <td>6460000.5</td>\n",
              "      <td>-1493.697754</td>\n",
              "      <td>19.163353</td>\n",
              "      <td>-999.0</td>\n",
              "      <td>-999.000000</td>\n",
              "      <td>0.865479</td>\n",
              "      <td>-999.0</td>\n",
              "      <td>91.113373</td>\n",
              "      <td>...</td>\n",
              "      <td>-999.0</td>\n",
              "      <td>-999.0</td>\n",
              "      <td>0.198831</td>\n",
              "      <td>1.637512</td>\n",
              "      <td>-999.0</td>\n",
              "      <td>2.473114</td>\n",
              "      <td>0.152</td>\n",
              "      <td>-999.0</td>\n",
              "      <td>5</td>\n",
              "      <td>51</td>\n",
              "    </tr>\n",
              "    <tr>\n",
              "      <th>4</th>\n",
              "      <td>1518.888</td>\n",
              "      <td>433906.75</td>\n",
              "      <td>6460000.5</td>\n",
              "      <td>-1493.849609</td>\n",
              "      <td>18.489744</td>\n",
              "      <td>-999.0</td>\n",
              "      <td>0.849849</td>\n",
              "      <td>0.863804</td>\n",
              "      <td>-999.0</td>\n",
              "      <td>100.228333</td>\n",
              "      <td>...</td>\n",
              "      <td>-999.0</td>\n",
              "      <td>-999.0</td>\n",
              "      <td>0.221647</td>\n",
              "      <td>0.819153</td>\n",
              "      <td>-999.0</td>\n",
              "      <td>-9.114960</td>\n",
              "      <td>0.152</td>\n",
              "      <td>-999.0</td>\n",
              "      <td>5</td>\n",
              "      <td>51</td>\n",
              "    </tr>\n",
              "  </tbody>\n",
              "</table>\n",
              "<p>5 rows × 30 columns</p>\n",
              "</div>"
            ],
            "text/plain": [
              "   DEPTH_MD      X_LOC      Y_LOC        Z_LOC       CALI   RSHA        RMED  \\\n",
              "0  1518.280  433906.75  6460000.5 -1493.241821  15.506232 -999.0 -999.000000   \n",
              "1  1518.432  433906.75  6460000.5 -1493.393799  18.524611 -999.0 -999.000000   \n",
              "2  1518.584  433906.75  6460000.5 -1493.545776  18.855669 -999.0 -999.000000   \n",
              "3  1518.736  433906.75  6460000.5 -1493.697754  19.163353 -999.0 -999.000000   \n",
              "4  1518.888  433906.75  6460000.5 -1493.849609  18.489744 -999.0    0.849849   \n",
              "\n",
              "       RDEP   RHOB          GR  ...  Carbon_Index  Normalized_RHOB  \\\n",
              "0  0.878615 -999.0  103.451515  ...        -999.0           -999.0   \n",
              "1  0.874237 -999.0   94.124893  ...        -999.0           -999.0   \n",
              "2  0.869858 -999.0   93.586487  ...        -999.0           -999.0   \n",
              "3  0.865479 -999.0   91.113373  ...        -999.0           -999.0   \n",
              "4  0.863804 -999.0  100.228333  ...        -999.0           -999.0   \n",
              "\n",
              "   Normalized_GR  Delta_DTC  Delta_RHOB  Delta_GR  Delta_DEPTH_MD  \\\n",
              "0       0.229715  -0.000000      -999.0 -0.000000           0.000   \n",
              "1       0.206369   1.616959      -999.0  9.326622           0.152   \n",
              "2       0.205021   0.131363      -999.0  0.538406           0.152   \n",
              "3       0.198831   1.637512      -999.0  2.473114           0.152   \n",
              "4       0.221647   0.819153      -999.0 -9.114960           0.152   \n",
              "\n",
              "   Delta_Carbon_Index  GROUP_encoded  FORMATION_encoded  \n",
              "0              -999.0              5                 51  \n",
              "1              -999.0              5                 51  \n",
              "2              -999.0              5                 51  \n",
              "3              -999.0              5                 51  \n",
              "4              -999.0              5                 51  \n",
              "\n",
              "[5 rows x 30 columns]"
            ]
          },
          "metadata": {
            "tags": []
          },
          "execution_count": 41
        }
      ]
    },
    {
      "cell_type": "code",
      "metadata": {
        "colab": {
          "base_uri": "https://localhost:8080/"
        },
        "id": "JMXm2wDBrLM0",
        "outputId": "4f72a8a3-285e-4df7-a190-07a0a3e7d31f"
      },
      "source": [
        "df_hidden.info()"
      ],
      "execution_count": null,
      "outputs": [
        {
          "output_type": "stream",
          "text": [
            "<class 'pandas.core.frame.DataFrame'>\n",
            "RangeIndex: 122397 entries, 0 to 122396\n",
            "Data columns (total 30 columns):\n",
            " #   Column              Non-Null Count   Dtype  \n",
            "---  ------              --------------   -----  \n",
            " 0   DEPTH_MD            122397 non-null  float64\n",
            " 1   X_LOC               122397 non-null  float64\n",
            " 2   Y_LOC               122397 non-null  float64\n",
            " 3   Z_LOC               122397 non-null  float64\n",
            " 4   CALI                122397 non-null  float64\n",
            " 5   RSHA                122397 non-null  float64\n",
            " 6   RMED                122397 non-null  float64\n",
            " 7   RDEP                122397 non-null  float64\n",
            " 8   RHOB                122397 non-null  float64\n",
            " 9   GR                  122397 non-null  float64\n",
            " 10  NPHI                122397 non-null  float64\n",
            " 11  PEF                 122397 non-null  float64\n",
            " 12  DTC                 122397 non-null  float64\n",
            " 13  SP                  122397 non-null  float64\n",
            " 14  BS                  122397 non-null  float64\n",
            " 15  ROP                 122397 non-null  float64\n",
            " 16  DCAL                122397 non-null  float64\n",
            " 17  DRHO                122397 non-null  float64\n",
            " 18  MUDWEIGHT           122397 non-null  float64\n",
            " 19  RMIC                122397 non-null  float64\n",
            " 20  Carbon_Index        122397 non-null  float64\n",
            " 21  Normalized_RHOB     122397 non-null  float64\n",
            " 22  Normalized_GR       122397 non-null  float64\n",
            " 23  Delta_DTC           122397 non-null  float64\n",
            " 24  Delta_RHOB          122397 non-null  float64\n",
            " 25  Delta_GR            122397 non-null  float64\n",
            " 26  Delta_DEPTH_MD      122397 non-null  float64\n",
            " 27  Delta_Carbon_Index  122397 non-null  float64\n",
            " 28  GROUP_encoded       122397 non-null  int64  \n",
            " 29  FORMATION_encoded   122397 non-null  int64  \n",
            "dtypes: float64(28), int64(2)\n",
            "memory usage: 28.0 MB\n"
          ],
          "name": "stdout"
        }
      ]
    },
    {
      "cell_type": "markdown",
      "metadata": {
        "id": "nr0CmD-TUUKy"
      },
      "source": [
        "Como realizei a normalização dos meus dados para treinar o modelo, tenho que fazer o mesmo com os dados do hidden.csv"
      ]
    },
    {
      "cell_type": "code",
      "metadata": {
        "id": "03OttP97b8oO"
      },
      "source": [
        "X_hidden_mm = min_max_scaler.transform(df_hidden[['DEPTH_MD', 'X_LOC', 'Y_LOC', 'Z_LOC', 'CALI', 'RSHA', 'RMED', 'RDEP',  'RHOB', 'GR', 'NPHI', 'PEF', 'DTC', 'SP', 'BS', 'ROP',\n",
        "        'DCAL', 'DRHO', 'MUDWEIGHT', 'RMIC', 'Carbon_Index', 'Normalized_RHOB', 'Normalized_GR', 'Delta_DTC', 'Delta_RHOB', 'Delta_GR', 'Delta_DEPTH_MD', 'Delta_Carbon_Index'\n",
        "        ]])\n",
        "\n",
        "X_hidden_ohe = ohe.transform(df_hidden[['GROUP_encoded', 'FORMATION_encoded']])\n",
        "\n",
        "X_hidden = np.hstack([ X_hidden_mm, X_hidden_ohe])\n",
        "\n",
        "X_hidden = torch.from_numpy (X_hidden).float ()\n",
        "\n",
        "#X_hidden = F.pad(X_hidden, (0, 22), \"constant\", 0)"
      ],
      "execution_count": null,
      "outputs": []
    },
    {
      "cell_type": "markdown",
      "metadata": {
        "id": "dKIC68KtUdXK"
      },
      "source": [
        "Carrego o modelo e realizo a predição"
      ]
    },
    {
      "cell_type": "code",
      "metadata": {
        "id": "lzQA7S1fpFRN"
      },
      "source": [
        "# Desativa o cálculo do gradiente (para modo evaluation) \n",
        "save_path = 'checkpoint.pth'\n",
        "with torch.no_grad():\n",
        "  model_predict = nn.Sequential(\n",
        "          nn.Linear(NUM_FEATURES, 512),\n",
        "          nn.Tanh(),\n",
        "          nn.Linear(512, 256),\n",
        "          nn.Tanh(),\n",
        "          nn.Linear(256, NUM_CLASSES)\n",
        "        )  #modelo 4\n",
        "  model_predict.load_state_dict(torch.load(save_path))\n",
        "  model_predict.eval() #ativa modo evaluation\n",
        "\n",
        "  prediction = model_predict(X_hidden)\n",
        "  classes_val = torch.argmax(prediction, dim=1)\n"
      ],
      "execution_count": null,
      "outputs": []
    },
    {
      "cell_type": "code",
      "metadata": {
        "colab": {
          "base_uri": "https://localhost:8080/"
        },
        "id": "e_-G5w6l7FQG",
        "outputId": "f74884c6-1bd9-49af-e82c-0bd239626364"
      },
      "source": [
        "classes_val.unique()"
      ],
      "execution_count": null,
      "outputs": [
        {
          "output_type": "execute_result",
          "data": {
            "text/plain": [
              "tensor([ 0,  1,  2,  3,  4,  5,  6,  7,  8,  9, 10])"
            ]
          },
          "metadata": {
            "tags": []
          },
          "execution_count": 45
        }
      ]
    },
    {
      "cell_type": "code",
      "metadata": {
        "colab": {
          "base_uri": "https://localhost:8080/"
        },
        "id": "E0FWJPpl3tnG",
        "outputId": "584b1483-d026-4bfb-fcb8-cf1cd00fcdfd"
      },
      "source": [
        "df_entrega = pd.DataFrame(classes_val, columns=['lithology'])\n",
        "print(df_entrega.shape)\n",
        "df_entrega['lithology'].value_counts()"
      ],
      "execution_count": null,
      "outputs": [
        {
          "output_type": "stream",
          "text": [
            "(122397, 1)\n"
          ],
          "name": "stdout"
        },
        {
          "output_type": "execute_result",
          "data": {
            "text/plain": [
              "0     68044\n",
              "1     14104\n",
              "2     13315\n",
              "3      9119\n",
              "4      8862\n",
              "7      5706\n",
              "6      1680\n",
              "10      833\n",
              "5       568\n",
              "8       127\n",
              "9        39\n",
              "Name: lithology, dtype: int64"
            ]
          },
          "metadata": {
            "tags": []
          },
          "execution_count": 46
        }
      ]
    },
    {
      "cell_type": "markdown",
      "metadata": {
        "id": "cuqY-nv6U566"
      },
      "source": [
        "Como eu havia padronizado as classes da variável a ser predita (FORCE_2020_LITHOFACIES_LITHOLOGY) no intervalo de 0-11, irei realizar a transformação contrária delas para voltarem ao valor original"
      ]
    },
    {
      "cell_type": "code",
      "metadata": {
        "colab": {
          "base_uri": "https://localhost:8080/"
        },
        "id": "O-Jme1I15nLd",
        "outputId": "91c2e51c-9983-4ac5-b77c-088d05b9a433"
      },
      "source": [
        "lithology_dict"
      ],
      "execution_count": null,
      "outputs": [
        {
          "output_type": "execute_result",
          "data": {
            "text/plain": [
              "{30000: 1,\n",
              " 65030: 2,\n",
              " 65000: 0,\n",
              " 80000: 4,\n",
              " 74000: 9,\n",
              " 70000: 3,\n",
              " 70032: 6,\n",
              " 88000: 7,\n",
              " 86000: 10,\n",
              " 99000: 5,\n",
              " 90000: 8,\n",
              " 93000: 11}"
            ]
          },
          "metadata": {
            "tags": []
          },
          "execution_count": 47
        }
      ]
    },
    {
      "cell_type": "code",
      "metadata": {
        "colab": {
          "base_uri": "https://localhost:8080/"
        },
        "id": "GiguZSjk0Gku",
        "outputId": "6b8149cc-7723-42a5-c1cb-50f45a55c570"
      },
      "source": [
        "undo_lithology_dict = dict((y,x) for x,y in lithology_dict.items())\n",
        "\n",
        "def undo_map_lithology(dict_lithology, row) -> str:\n",
        "    key = row['lithology']\n",
        "    return undo_lithology_dict[key]\n",
        "\n",
        "df_entrega['lithology'] = df_entrega.apply(lambda row: undo_map_lithology(undo_lithology_dict, row), axis=1)\n",
        "df_entrega['lithology'].value_counts()"
      ],
      "execution_count": null,
      "outputs": [
        {
          "output_type": "execute_result",
          "data": {
            "text/plain": [
              "65000    68044\n",
              "30000    14104\n",
              "65030    13315\n",
              "70000     9119\n",
              "80000     8862\n",
              "88000     5706\n",
              "70032     1680\n",
              "86000      833\n",
              "99000      568\n",
              "90000      127\n",
              "74000       39\n",
              "Name: lithology, dtype: int64"
            ]
          },
          "metadata": {
            "tags": []
          },
          "execution_count": 48
        }
      ]
    },
    {
      "cell_type": "code",
      "metadata": {
        "id": "ttP--1uM59BU"
      },
      "source": [
        "df_entrega.to_csv('hidden.csv', index=False)"
      ],
      "execution_count": null,
      "outputs": []
    },
    {
      "cell_type": "code",
      "metadata": {
        "id": "PNc0lg8_wIDN"
      },
      "source": [
        ""
      ],
      "execution_count": null,
      "outputs": []
    }
  ]
}